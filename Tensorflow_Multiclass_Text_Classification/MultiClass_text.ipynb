{
 "cells": [
  {
   "cell_type": "code",
   "execution_count": 15,
   "id": "d9e5c9a6",
   "metadata": {},
   "outputs": [],
   "source": [
    "from __future__ import absolute_import, division, print_function, unicode_literals\n",
    "\n",
    "import tensorflow as tf\n",
    "\n",
    "import os\n",
    "import datetime\n",
    "import tensorflow_hub as hub\n",
    "import numpy as np\n",
    "    \n",
    "import pandas as pd\n",
    "from sklearn.model_selection import train_test_split"
   ]
  },
  {
   "cell_type": "markdown",
   "id": "94903ff0",
   "metadata": {},
   "source": [
    "### Data taken from CFPB, the data when a consumer files a grievance against a bank. The target variable is the product column here."
   ]
  },
  {
   "cell_type": "code",
   "execution_count": 16,
   "id": "0cb2f82e",
   "metadata": {},
   "outputs": [],
   "source": [
    "df=pd.read_csv('https://github.com/srivatsan88/YouTubeLI/blob/master/dataset/consumer_compliants.zip?raw=true', compression='zip', sep=',', quotechar='\"')"
   ]
  },
  {
   "cell_type": "code",
   "execution_count": 17,
   "id": "bc7ad005",
   "metadata": {},
   "outputs": [
    {
     "data": {
      "text/plain": [
       "Index(['Date received', 'Product', 'Sub-product', 'Issue', 'Sub-issue',\n",
       "       'Consumer complaint narrative', 'Company public response', 'Company',\n",
       "       'State', 'ZIP code', 'Tags', 'Consumer consent provided?',\n",
       "       'Submitted via', 'Date sent to company', 'Company response to consumer',\n",
       "       'Timely response?', 'Consumer disputed?', 'Complaint ID'],\n",
       "      dtype='object')"
      ]
     },
     "execution_count": 17,
     "metadata": {},
     "output_type": "execute_result"
    }
   ],
   "source": [
    "df.columns"
   ]
  },
  {
   "cell_type": "code",
   "execution_count": 18,
   "id": "ee7d3999",
   "metadata": {
    "scrolled": true
   },
   "outputs": [
    {
     "name": "stderr",
     "output_type": "stream",
     "text": [
      "D:\\Anaconda3\\envs\\tf-keras-gpu-test\\lib\\site-packages\\ipykernel_launcher.py:1: FutureWarning: Passing a negative integer is deprecated in version 1.0 and will not be supported in future version. Instead, use None to not limit the column width.\n",
      "  \"\"\"Entry point for launching an IPython kernel.\n"
     ]
    },
    {
     "data": {
      "text/html": [
       "<div>\n",
       "<style scoped>\n",
       "    .dataframe tbody tr th:only-of-type {\n",
       "        vertical-align: middle;\n",
       "    }\n",
       "\n",
       "    .dataframe tbody tr th {\n",
       "        vertical-align: top;\n",
       "    }\n",
       "\n",
       "    .dataframe thead th {\n",
       "        text-align: right;\n",
       "    }\n",
       "</style>\n",
       "<table border=\"1\" class=\"dataframe\">\n",
       "  <thead>\n",
       "    <tr style=\"text-align: right;\">\n",
       "      <th></th>\n",
       "      <th>Date received</th>\n",
       "      <th>Product</th>\n",
       "      <th>Sub-product</th>\n",
       "      <th>Issue</th>\n",
       "      <th>Sub-issue</th>\n",
       "      <th>Consumer complaint narrative</th>\n",
       "      <th>Company public response</th>\n",
       "      <th>Company</th>\n",
       "      <th>State</th>\n",
       "      <th>ZIP code</th>\n",
       "      <th>Tags</th>\n",
       "      <th>Consumer consent provided?</th>\n",
       "      <th>Submitted via</th>\n",
       "      <th>Date sent to company</th>\n",
       "      <th>Company response to consumer</th>\n",
       "      <th>Timely response?</th>\n",
       "      <th>Consumer disputed?</th>\n",
       "      <th>Complaint ID</th>\n",
       "    </tr>\n",
       "  </thead>\n",
       "  <tbody>\n",
       "    <tr>\n",
       "      <th>0</th>\n",
       "      <td>4/3/2020</td>\n",
       "      <td>Vehicle loan or lease</td>\n",
       "      <td>Loan</td>\n",
       "      <td>Getting a loan or lease</td>\n",
       "      <td>Fraudulent loan</td>\n",
       "      <td>This auto loan was opened on XX/XX/2020 in XXXX, NC with BB &amp; T in my name. I have NEVER been to North Carolina and I have NEVER been a resident. I have filed a dispute twice through my credit bureaus but both times BB &amp; T has claimed that this is an accurate loan. Which I wasn't aware of until today. I have tried to contact BB &amp; T multiple times but I have never gotten through to a live person. I do n't drive and I have never owned a car before. I didn't have any knowledge of this account until I checked XXXXXXXX XXXX  and noticed it. I've tried twice to dispute it. Additionally I never received any bills or information about this account. This is my last resort in trying to remove this fraudulent loan off of my account.</td>\n",
       "      <td>Company has responded to the consumer and the CFPB and chooses not to provide a public response</td>\n",
       "      <td>TRUIST FINANCIAL CORPORATION</td>\n",
       "      <td>PA</td>\n",
       "      <td>None</td>\n",
       "      <td>None</td>\n",
       "      <td>Consent provided</td>\n",
       "      <td>Web</td>\n",
       "      <td>4/3/2020</td>\n",
       "      <td>Closed with explanation</td>\n",
       "      <td>Yes</td>\n",
       "      <td>NaN</td>\n",
       "      <td>3591341</td>\n",
       "    </tr>\n",
       "    <tr>\n",
       "      <th>1</th>\n",
       "      <td>3/12/2020</td>\n",
       "      <td>Debt collection</td>\n",
       "      <td>Payday loan debt</td>\n",
       "      <td>Attempts to collect debt not owed</td>\n",
       "      <td>Debt is not yours</td>\n",
       "      <td>In XXXX of 2019 I noticed a debt for {$620.00} on my credit which i believed was mine I thought speedy cash had bought one of my old debts and sold it to XXXX XXXX XXXX XXXX. I contacted XXXX XXXX XXXX XXXX and after several attempts of giving my full name, nothing came up in their system. I gave my social and the rep said the account popped up but DID NOT tell me that the account was under someone elses name and continued to let me make a payment. The payment was for {$120.00}. Confirmation number-XXXX. After realizing it was not my account, I called back to get my money back and inform them of the mistake. I was told i needed to mail them an FTC report and dispute letter to get my money back. I completed all of this and when i called again they said they transferred the account back to speedy cash for fraud review and I would need to contact them. After contacting them i was again told that i can not get my money back. The issue im having is this representative at XXXX XXXX played blind to obvious fraud and let an innocent person make a payment on someone elses debt and i want my money back.</td>\n",
       "      <td>None</td>\n",
       "      <td>CURO Intermediate Holdings</td>\n",
       "      <td>CO</td>\n",
       "      <td>806XX</td>\n",
       "      <td>None</td>\n",
       "      <td>Consent provided</td>\n",
       "      <td>Web</td>\n",
       "      <td>3/12/2020</td>\n",
       "      <td>Closed with explanation</td>\n",
       "      <td>Yes</td>\n",
       "      <td>NaN</td>\n",
       "      <td>3564184</td>\n",
       "    </tr>\n",
       "    <tr>\n",
       "      <th>2</th>\n",
       "      <td>2/6/2020</td>\n",
       "      <td>Vehicle loan or lease</td>\n",
       "      <td>Loan</td>\n",
       "      <td>Getting a loan or lease</td>\n",
       "      <td>Credit denial</td>\n",
       "      <td>As stated from Capital One, XXXX XX/XX/XXXX and XXXX 2018, My wife and I went to several car dealerships to request for a car loan to get a used car. However, according to their credit requirements unfortunately my credit score was insufficient for the car loan approval at that time. It seemed as though they pulled my credit report multiple times.</td>\n",
       "      <td>None</td>\n",
       "      <td>CAPITAL ONE FINANCIAL CORPORATION</td>\n",
       "      <td>OH</td>\n",
       "      <td>430XX</td>\n",
       "      <td>None</td>\n",
       "      <td>Consent provided</td>\n",
       "      <td>Web</td>\n",
       "      <td>2/6/2020</td>\n",
       "      <td>Closed with explanation</td>\n",
       "      <td>Yes</td>\n",
       "      <td>NaN</td>\n",
       "      <td>3521949</td>\n",
       "    </tr>\n",
       "    <tr>\n",
       "      <th>3</th>\n",
       "      <td>3/6/2020</td>\n",
       "      <td>Checking or savings account</td>\n",
       "      <td>Savings account</td>\n",
       "      <td>Managing an account</td>\n",
       "      <td>Banking errors</td>\n",
       "      <td>Please see CFPB case XXXX. \\n\\nCapital One, in the letter they provided ( and attached to that case as their response ) said this : \" The funds were reversed and sent back to XXXX XXXX XXXX  on XX/XX/XXXX ''. \\n\\nXXXX XXXX XXXX  ( now XXXX XXXX  ) has not received these funds. Staff at XXXX XXXX  - and also staff at the account-holder 's business - have looked for return of my money ( {$650.00} ) and find nothing. \\n\\nCapital One needs to document - actually prove - they returned the funds, as stated in their letter. Capital One must provide electronic information, if the return was made that way, or document the paper check they sent back to XXXX XXXX. \\n\\nI've left 3 messages about this problem for the person who signed the letter ( XXXX ) from Capital One. I have received no call-backs. \\n\\nSummary : Capital One said they returned my money on XX/XX/XXXX : they did not. If they continue claim they did, then they need to prove that.</td>\n",
       "      <td>None</td>\n",
       "      <td>CAPITAL ONE FINANCIAL CORPORATION</td>\n",
       "      <td>CA</td>\n",
       "      <td>None</td>\n",
       "      <td>None</td>\n",
       "      <td>Consent provided</td>\n",
       "      <td>Web</td>\n",
       "      <td>3/6/2020</td>\n",
       "      <td>Closed with explanation</td>\n",
       "      <td>Yes</td>\n",
       "      <td>NaN</td>\n",
       "      <td>3556237</td>\n",
       "    </tr>\n",
       "    <tr>\n",
       "      <th>4</th>\n",
       "      <td>2/14/2020</td>\n",
       "      <td>Debt collection</td>\n",
       "      <td>Medical debt</td>\n",
       "      <td>Attempts to collect debt not owed</td>\n",
       "      <td>Debt is not yours</td>\n",
       "      <td>This debt was incurred due to medical malpractice ( XXXX XXXX XXXX, XXXX, TX ). I asked the doctor to turn over my claim to his malpractice insurance company. This has cost me thousands of dollars to XXXX XXXX XXXX. I am still trying to collect damages from this doctor. He never responded and turned over me to collections Merchants and Professional Collection Bureau , Inc. I sent them a letter describing exactly this issue and instead of not contacting me and verifying my debt they start reporting this debt to the credit reporting agencies. They never verified the debt, like I asked and they never stopped it from being reported when I specifically told them not to, due to the circumstances above.</td>\n",
       "      <td>Company believes it acted appropriately as authorized by contract or law</td>\n",
       "      <td>Merchants and Professional Bureau, Inc.</td>\n",
       "      <td>OH</td>\n",
       "      <td>432XX</td>\n",
       "      <td>None</td>\n",
       "      <td>Consent provided</td>\n",
       "      <td>Web</td>\n",
       "      <td>2/14/2020</td>\n",
       "      <td>Closed with explanation</td>\n",
       "      <td>Yes</td>\n",
       "      <td>NaN</td>\n",
       "      <td>3531704</td>\n",
       "    </tr>\n",
       "    <tr>\n",
       "      <th>...</th>\n",
       "      <td>...</td>\n",
       "      <td>...</td>\n",
       "      <td>...</td>\n",
       "      <td>...</td>\n",
       "      <td>...</td>\n",
       "      <td>...</td>\n",
       "      <td>...</td>\n",
       "      <td>...</td>\n",
       "      <td>...</td>\n",
       "      <td>...</td>\n",
       "      <td>...</td>\n",
       "      <td>...</td>\n",
       "      <td>...</td>\n",
       "      <td>...</td>\n",
       "      <td>...</td>\n",
       "      <td>...</td>\n",
       "      <td>...</td>\n",
       "      <td>...</td>\n",
       "    </tr>\n",
       "    <tr>\n",
       "      <th>57448</th>\n",
       "      <td>2/29/2020</td>\n",
       "      <td>Student loan</td>\n",
       "      <td>Federal student loan servicing</td>\n",
       "      <td>Dealing with your lender or servicer</td>\n",
       "      <td>Trouble with how payments are being handled</td>\n",
       "      <td>I am attempting to make a payment toward my student loans on the Nelnet website today, XX/XX/20, and Nelnet will not allow me to post the payment sooner than XX/XX/20. By the time the payment posts, 2-3 days of additional interest will have accrued and my payments will apply more to interest than is due today, the day that I'm attempting to pay. My understanding was that I could make a payment at any time but this does not appear to be true. The funds are available in my bank account today regardless of whether Nelnet can collect over the weekend. I should not be penalized for this. \\n\\nI submitted complaint XXXX in XXXX for other deceptive practices with Nelnet. They have not yet resolved the issue identified in that complaint or contacted me as they said they would in their response. I believe this new issue is just one more deceptive practice by this company that causes financial harm to borrowers.</td>\n",
       "      <td>None</td>\n",
       "      <td>Nelnet, Inc.</td>\n",
       "      <td>KS</td>\n",
       "      <td>None</td>\n",
       "      <td>None</td>\n",
       "      <td>Consent provided</td>\n",
       "      <td>Web</td>\n",
       "      <td>2/29/2020</td>\n",
       "      <td>Closed with explanation</td>\n",
       "      <td>Yes</td>\n",
       "      <td>NaN</td>\n",
       "      <td>3549178</td>\n",
       "    </tr>\n",
       "    <tr>\n",
       "      <th>57449</th>\n",
       "      <td>2/11/2020</td>\n",
       "      <td>Debt collection</td>\n",
       "      <td>Other debt</td>\n",
       "      <td>Attempts to collect debt not owed</td>\n",
       "      <td>Debt was paid</td>\n",
       "      <td>Received letter for {$480.00}. Original creditor didnt contact me until past statute of limitations for insurance company recoupment per Arizona law. Debt collection is illegal for phantom debt. Additionally they are phoning my office excessively.</td>\n",
       "      <td>Company has responded to the consumer and the CFPB and chooses not to provide a public response</td>\n",
       "      <td>The Receivable Management Services LLC, New York, NY Branch</td>\n",
       "      <td>AZ</td>\n",
       "      <td>853XX</td>\n",
       "      <td>None</td>\n",
       "      <td>Consent provided</td>\n",
       "      <td>Web</td>\n",
       "      <td>2/18/2020</td>\n",
       "      <td>Closed with explanation</td>\n",
       "      <td>Yes</td>\n",
       "      <td>NaN</td>\n",
       "      <td>3527928</td>\n",
       "    </tr>\n",
       "    <tr>\n",
       "      <th>57450</th>\n",
       "      <td>2/29/2020</td>\n",
       "      <td>Debt collection</td>\n",
       "      <td>Other debt</td>\n",
       "      <td>Communication tactics</td>\n",
       "      <td>Used obscene, profane, or other abusive language</td>\n",
       "      <td>entire time 10 years until XX/XX/2020. XXXX makes my blood boil. I have called and was lied to told to provide my checking account information over the phone in order to turn my cell phone back on. i called at XXXX them at XXXX {$300.00} was added to my bill. \\n\\nScam scam scam I was told I can not call the office of the President just to write to XXXX XXXX XXXX XXXX XXXX XXXX XXXX, NM XXXX. I did three thousand times. the last letter I mailed on XX/XX/2020. Two collection agencies later. \\n\\nI chose to leave XXXX XXXX every time I called the XXXX supervisor would threaten me on a recorded line. I need peace of mind and a good Heart to beat inside of me. Im on a XXXX XXXX due to the stress at XXXX XXXX   taking all my money 4 10 years.</td>\n",
       "      <td>Company has responded to the consumer and the CFPB and chooses not to provide a public response</td>\n",
       "      <td>Convergent Resources, Inc.</td>\n",
       "      <td>NJ</td>\n",
       "      <td>8101</td>\n",
       "      <td>None</td>\n",
       "      <td>Consent provided</td>\n",
       "      <td>Web</td>\n",
       "      <td>2/29/2020</td>\n",
       "      <td>Closed with explanation</td>\n",
       "      <td>Yes</td>\n",
       "      <td>NaN</td>\n",
       "      <td>3549238</td>\n",
       "    </tr>\n",
       "    <tr>\n",
       "      <th>57451</th>\n",
       "      <td>1/16/2020</td>\n",
       "      <td>Checking or savings account</td>\n",
       "      <td>Checking account</td>\n",
       "      <td>Problem with a lender or other company charging your account</td>\n",
       "      <td>Transaction was not authorized</td>\n",
       "      <td>I am a customer with Wells Fargo Bank. Recently money was withdrawn on a couple of occasions without my permission or consent to pay for a timeshare account that was never used by me nor anyone connected to me because of unfair policies pertaining to the fees of the said timeshare. I tried cancelling the said timeshare account several times because of these fees that were never mentioned at the initiation. My account was debited to pay for the timeshare fees without my knowledge or consent several times. I tried correcting this with Wells Fargo bank with no avail. I would appreciate it if you can look into this matter for me. I was left with no funds in my account and as such I could not take care of the basic necessities of my day to day life. \\nThanks in advance,</td>\n",
       "      <td>Company has responded to the consumer and the CFPB and chooses not to provide a public response</td>\n",
       "      <td>WELLS FARGO &amp; COMPANY</td>\n",
       "      <td>AZ</td>\n",
       "      <td>852XX</td>\n",
       "      <td>None</td>\n",
       "      <td>Consent provided</td>\n",
       "      <td>Web</td>\n",
       "      <td>1/22/2020</td>\n",
       "      <td>Closed with explanation</td>\n",
       "      <td>Yes</td>\n",
       "      <td>NaN</td>\n",
       "      <td>3498566</td>\n",
       "    </tr>\n",
       "    <tr>\n",
       "      <th>57452</th>\n",
       "      <td>1/16/2020</td>\n",
       "      <td>Debt collection</td>\n",
       "      <td>Auto debt</td>\n",
       "      <td>Took or threatened to take negative or legal action</td>\n",
       "      <td>Threatened or suggested your credit would be damaged</td>\n",
       "      <td>I spoken with them several times in a year. An in XXXX they informed me yes they sold my information to a third party without my knowledge. Also, I told them that I dont owe them anything because my car was paid off by insurance XXXX an Gap an they said no. I also informed them that constantly calling me an telling me that my credit score would be damage was inappropriate. But on my credit they written several negative things. An I didnt give Exeter financial Corp no authority to sell my information to XXXX XXXX</td>\n",
       "      <td>None</td>\n",
       "      <td>Exeter Finance Corp.</td>\n",
       "      <td>SC</td>\n",
       "      <td>None</td>\n",
       "      <td>None</td>\n",
       "      <td>Consent provided</td>\n",
       "      <td>Web</td>\n",
       "      <td>1/16/2020</td>\n",
       "      <td>Closed with explanation</td>\n",
       "      <td>Yes</td>\n",
       "      <td>NaN</td>\n",
       "      <td>3498524</td>\n",
       "    </tr>\n",
       "  </tbody>\n",
       "</table>\n",
       "<p>57453 rows × 18 columns</p>\n",
       "</div>"
      ],
      "text/plain": [
       "      Date received                      Product  \\\n",
       "0      4/3/2020      Vehicle loan or lease         \n",
       "1      3/12/2020     Debt collection               \n",
       "2      2/6/2020      Vehicle loan or lease         \n",
       "3      3/6/2020      Checking or savings account   \n",
       "4      2/14/2020     Debt collection               \n",
       "...          ...                 ...               \n",
       "57448  2/29/2020     Student loan                  \n",
       "57449  2/11/2020     Debt collection               \n",
       "57450  2/29/2020     Debt collection               \n",
       "57451  1/16/2020     Checking or savings account   \n",
       "57452  1/16/2020     Debt collection               \n",
       "\n",
       "                          Sub-product  \\\n",
       "0      Loan                             \n",
       "1      Payday loan debt                 \n",
       "2      Loan                             \n",
       "3      Savings account                  \n",
       "4      Medical debt                     \n",
       "...             ...                     \n",
       "57448  Federal student loan servicing   \n",
       "57449  Other debt                       \n",
       "57450  Other debt                       \n",
       "57451  Checking account                 \n",
       "57452  Auto debt                        \n",
       "\n",
       "                                                              Issue  \\\n",
       "0      Getting a loan or lease                                        \n",
       "1      Attempts to collect debt not owed                              \n",
       "2      Getting a loan or lease                                        \n",
       "3      Managing an account                                            \n",
       "4      Attempts to collect debt not owed                              \n",
       "...                                  ...                              \n",
       "57448  Dealing with your lender or servicer                           \n",
       "57449  Attempts to collect debt not owed                              \n",
       "57450  Communication tactics                                          \n",
       "57451  Problem with a lender or other company charging your account   \n",
       "57452  Took or threatened to take negative or legal action            \n",
       "\n",
       "                                                  Sub-issue  \\\n",
       "0      Fraudulent loan                                        \n",
       "1      Debt is not yours                                      \n",
       "2      Credit denial                                          \n",
       "3      Banking errors                                         \n",
       "4      Debt is not yours                                      \n",
       "...                  ...                                      \n",
       "57448  Trouble with how payments are being handled            \n",
       "57449  Debt was paid                                          \n",
       "57450  Used obscene, profane, or other abusive language       \n",
       "57451  Transaction was not authorized                         \n",
       "57452  Threatened or suggested your credit would be damaged   \n",
       "\n",
       "                                                                                                                                                                                                                                                                                                                                                                                                                                                                                                                                                                                                                                                                                                                                                                                                                                                                                                                                                                                                                                                                                                                                 Consumer complaint narrative  \\\n",
       "0      This auto loan was opened on XX/XX/2020 in XXXX, NC with BB & T in my name. I have NEVER been to North Carolina and I have NEVER been a resident. I have filed a dispute twice through my credit bureaus but both times BB & T has claimed that this is an accurate loan. Which I wasn't aware of until today. I have tried to contact BB & T multiple times but I have never gotten through to a live person. I do n't drive and I have never owned a car before. I didn't have any knowledge of this account until I checked XXXXXXXX XXXX  and noticed it. I've tried twice to dispute it. Additionally I never received any bills or information about this account. This is my last resort in trying to remove this fraudulent loan off of my account.                                                                                                                                                                                                                                                                                                                                                                                              \n",
       "1      In XXXX of 2019 I noticed a debt for {$620.00} on my credit which i believed was mine I thought speedy cash had bought one of my old debts and sold it to XXXX XXXX XXXX XXXX. I contacted XXXX XXXX XXXX XXXX and after several attempts of giving my full name, nothing came up in their system. I gave my social and the rep said the account popped up but DID NOT tell me that the account was under someone elses name and continued to let me make a payment. The payment was for {$120.00}. Confirmation number-XXXX. After realizing it was not my account, I called back to get my money back and inform them of the mistake. I was told i needed to mail them an FTC report and dispute letter to get my money back. I completed all of this and when i called again they said they transferred the account back to speedy cash for fraud review and I would need to contact them. After contacting them i was again told that i can not get my money back. The issue im having is this representative at XXXX XXXX played blind to obvious fraud and let an innocent person make a payment on someone elses debt and i want my money back.   \n",
       "2      As stated from Capital One, XXXX XX/XX/XXXX and XXXX 2018, My wife and I went to several car dealerships to request for a car loan to get a used car. However, according to their credit requirements unfortunately my credit score was insufficient for the car loan approval at that time. It seemed as though they pulled my credit report multiple times.                                                                                                                                                                                                                                                                                                                                                                                                                                                                                                                                                                                                                                                                                                                                                                                            \n",
       "3      Please see CFPB case XXXX. \\n\\nCapital One, in the letter they provided ( and attached to that case as their response ) said this : \" The funds were reversed and sent back to XXXX XXXX XXXX  on XX/XX/XXXX ''. \\n\\nXXXX XXXX XXXX  ( now XXXX XXXX  ) has not received these funds. Staff at XXXX XXXX  - and also staff at the account-holder 's business - have looked for return of my money ( {$650.00} ) and find nothing. \\n\\nCapital One needs to document - actually prove - they returned the funds, as stated in their letter. Capital One must provide electronic information, if the return was made that way, or document the paper check they sent back to XXXX XXXX. \\n\\nI've left 3 messages about this problem for the person who signed the letter ( XXXX ) from Capital One. I have received no call-backs. \\n\\nSummary : Capital One said they returned my money on XX/XX/XXXX : they did not. If they continue claim they did, then they need to prove that.                                                                                                                                                                      \n",
       "4      This debt was incurred due to medical malpractice ( XXXX XXXX XXXX, XXXX, TX ). I asked the doctor to turn over my claim to his malpractice insurance company. This has cost me thousands of dollars to XXXX XXXX XXXX. I am still trying to collect damages from this doctor. He never responded and turned over me to collections Merchants and Professional Collection Bureau , Inc. I sent them a letter describing exactly this issue and instead of not contacting me and verifying my debt they start reporting this debt to the credit reporting agencies. They never verified the debt, like I asked and they never stopped it from being reported when I specifically told them not to, due to the circumstances above.                                                                                                                                                                                                                                                                                                                                                                                                                        \n",
       "...                                                                                                                                                                                                                                                                                                                                                                                                                                                                                                                                                                                                                                                                                                                                  ...                                                                                                                                                                                                                                                                                                                                                                                                                        \n",
       "57448  I am attempting to make a payment toward my student loans on the Nelnet website today, XX/XX/20, and Nelnet will not allow me to post the payment sooner than XX/XX/20. By the time the payment posts, 2-3 days of additional interest will have accrued and my payments will apply more to interest than is due today, the day that I'm attempting to pay. My understanding was that I could make a payment at any time but this does not appear to be true. The funds are available in my bank account today regardless of whether Nelnet can collect over the weekend. I should not be penalized for this. \\n\\nI submitted complaint XXXX in XXXX for other deceptive practices with Nelnet. They have not yet resolved the issue identified in that complaint or contacted me as they said they would in their response. I believe this new issue is just one more deceptive practice by this company that causes financial harm to borrowers.                                                                                                                                                                                                       \n",
       "57449  Received letter for {$480.00}. Original creditor didnt contact me until past statute of limitations for insurance company recoupment per Arizona law. Debt collection is illegal for phantom debt. Additionally they are phoning my office excessively.                                                                                                                                                                                                                                                                                                                                                                                                                                                                                                                                                                                                                                                                                                                                                                                                                                                                                                  \n",
       "57450  entire time 10 years until XX/XX/2020. XXXX makes my blood boil. I have called and was lied to told to provide my checking account information over the phone in order to turn my cell phone back on. i called at XXXX them at XXXX {$300.00} was added to my bill. \\n\\nScam scam scam I was told I can not call the office of the President just to write to XXXX XXXX XXXX XXXX XXXX XXXX XXXX, NM XXXX. I did three thousand times. the last letter I mailed on XX/XX/2020. Two collection agencies later. \\n\\nI chose to leave XXXX XXXX every time I called the XXXX supervisor would threaten me on a recorded line. I need peace of mind and a good Heart to beat inside of me. Im on a XXXX XXXX due to the stress at XXXX XXXX   taking all my money 4 10 years.                                                                                                                                                                                                                                                                                                                                                                                \n",
       "57451  I am a customer with Wells Fargo Bank. Recently money was withdrawn on a couple of occasions without my permission or consent to pay for a timeshare account that was never used by me nor anyone connected to me because of unfair policies pertaining to the fees of the said timeshare. I tried cancelling the said timeshare account several times because of these fees that were never mentioned at the initiation. My account was debited to pay for the timeshare fees without my knowledge or consent several times. I tried correcting this with Wells Fargo bank with no avail. I would appreciate it if you can look into this matter for me. I was left with no funds in my account and as such I could not take care of the basic necessities of my day to day life. \\nThanks in advance,                                                                                                                                                                                                                                                                                                                                                  \n",
       "57452  I spoken with them several times in a year. An in XXXX they informed me yes they sold my information to a third party without my knowledge. Also, I told them that I dont owe them anything because my car was paid off by insurance XXXX an Gap an they said no. I also informed them that constantly calling me an telling me that my credit score would be damage was inappropriate. But on my credit they written several negative things. An I didnt give Exeter financial Corp no authority to sell my information to XXXX XXXX                                                                                                                                                                                                                                                                                                                                                                                                                                                                                                                                                                                                                    \n",
       "\n",
       "                                                                               Company public response  \\\n",
       "0      Company has responded to the consumer and the CFPB and chooses not to provide a public response   \n",
       "1      None                                                                                              \n",
       "2      None                                                                                              \n",
       "3      None                                                                                              \n",
       "4      Company believes it acted appropriately as authorized by contract or law                          \n",
       "...                                                                         ...                          \n",
       "57448  None                                                                                              \n",
       "57449  Company has responded to the consumer and the CFPB and chooses not to provide a public response   \n",
       "57450  Company has responded to the consumer and the CFPB and chooses not to provide a public response   \n",
       "57451  Company has responded to the consumer and the CFPB and chooses not to provide a public response   \n",
       "57452  None                                                                                              \n",
       "\n",
       "                                                           Company State  \\\n",
       "0      TRUIST FINANCIAL CORPORATION                                 PA     \n",
       "1      CURO Intermediate Holdings                                   CO     \n",
       "2      CAPITAL ONE FINANCIAL CORPORATION                            OH     \n",
       "3      CAPITAL ONE FINANCIAL CORPORATION                            CA     \n",
       "4      Merchants and Professional Bureau, Inc.                      OH     \n",
       "...                                        ...                      ..     \n",
       "57448  Nelnet, Inc.                                                 KS     \n",
       "57449  The Receivable Management Services LLC, New York, NY Branch  AZ     \n",
       "57450  Convergent Resources, Inc.                                   NJ     \n",
       "57451  WELLS FARGO & COMPANY                                        AZ     \n",
       "57452  Exeter Finance Corp.                                         SC     \n",
       "\n",
       "      ZIP code  Tags Consumer consent provided? Submitted via  \\\n",
       "0      None     None  Consent provided           Web            \n",
       "1      806XX    None  Consent provided           Web            \n",
       "2      430XX    None  Consent provided           Web            \n",
       "3      None     None  Consent provided           Web            \n",
       "4      432XX    None  Consent provided           Web            \n",
       "...      ...     ...               ...           ...            \n",
       "57448  None     None  Consent provided           Web            \n",
       "57449  853XX    None  Consent provided           Web            \n",
       "57450  8101     None  Consent provided           Web            \n",
       "57451  852XX    None  Consent provided           Web            \n",
       "57452  None     None  Consent provided           Web            \n",
       "\n",
       "      Date sent to company Company response to consumer Timely response?  \\\n",
       "0      4/3/2020             Closed with explanation      Yes               \n",
       "1      3/12/2020            Closed with explanation      Yes               \n",
       "2      2/6/2020             Closed with explanation      Yes               \n",
       "3      3/6/2020             Closed with explanation      Yes               \n",
       "4      2/14/2020            Closed with explanation      Yes               \n",
       "...          ...                                ...      ...               \n",
       "57448  2/29/2020            Closed with explanation      Yes               \n",
       "57449  2/18/2020            Closed with explanation      Yes               \n",
       "57450  2/29/2020            Closed with explanation      Yes               \n",
       "57451  1/22/2020            Closed with explanation      Yes               \n",
       "57452  1/16/2020            Closed with explanation      Yes               \n",
       "\n",
       "       Consumer disputed?  Complaint ID  \n",
       "0     NaN                  3591341       \n",
       "1     NaN                  3564184       \n",
       "2     NaN                  3521949       \n",
       "3     NaN                  3556237       \n",
       "4     NaN                  3531704       \n",
       "...    ..                      ...       \n",
       "57448 NaN                  3549178       \n",
       "57449 NaN                  3527928       \n",
       "57450 NaN                  3549238       \n",
       "57451 NaN                  3498566       \n",
       "57452 NaN                  3498524       \n",
       "\n",
       "[57453 rows x 18 columns]"
      ]
     },
     "execution_count": 18,
     "metadata": {},
     "output_type": "execute_result"
    }
   ],
   "source": [
    "pd.set_option('display.max_colwidth', -1)\n",
    "df"
   ]
  },
  {
   "cell_type": "code",
   "execution_count": 19,
   "id": "d75f7fe0",
   "metadata": {},
   "outputs": [],
   "source": [
    "X_train, X_test = train_test_split(df, test_size=0.2, random_state=42)"
   ]
  },
  {
   "cell_type": "code",
   "execution_count": 20,
   "id": "4ee43081",
   "metadata": {
    "scrolled": true
   },
   "outputs": [
    {
     "data": {
      "text/plain": [
       "Debt collection                21772\n",
       "Credit card or prepaid card    13193\n",
       "Mortgage                       9799 \n",
       "Checking or savings account    7003 \n",
       "Student loan                   2950 \n",
       "Vehicle loan or lease          2736 \n",
       "Name: Product, dtype: int64"
      ]
     },
     "execution_count": 20,
     "metadata": {},
     "output_type": "execute_result"
    }
   ],
   "source": [
    "df['Product'].value_counts()"
   ]
  },
  {
   "cell_type": "markdown",
   "id": "f0774df6",
   "metadata": {},
   "source": [
    "### We can see here that the first 2 classes have high numbers but the others are not too representative. Implying the dataset is unbalanced."
   ]
  },
  {
   "cell_type": "code",
   "execution_count": 21,
   "id": "69ee53d3",
   "metadata": {},
   "outputs": [],
   "source": [
    "from sklearn.utils import class_weight\n",
    "class_weights = list(class_weight.compute_class_weight(\n",
    "    class_weight = 'balanced',\n",
    "    classes = np.unique(df['Product']),\n",
    "    y = df['Product']))  \n",
    "#here we assign a higher weight to a class that is less represented and lower weight to a class that is more"
   ]
  },
  {
   "cell_type": "code",
   "execution_count": 22,
   "id": "9e6ddc53",
   "metadata": {},
   "outputs": [],
   "source": [
    "class_weights.sort()"
   ]
  },
  {
   "cell_type": "code",
   "execution_count": 23,
   "id": "c42f1f3e",
   "metadata": {},
   "outputs": [
    {
     "data": {
      "text/plain": [
       "[0.43980801028844385,\n",
       " 0.7258015614340938,\n",
       " 0.9771915501581794,\n",
       " 1.3673425674710837,\n",
       " 3.2459322033898306,\n",
       " 3.4998172514619883]"
      ]
     },
     "execution_count": 23,
     "metadata": {},
     "output_type": "execute_result"
    }
   ],
   "source": [
    "class_weights"
   ]
  },
  {
   "cell_type": "code",
   "execution_count": 24,
   "id": "dbfd73cd",
   "metadata": {},
   "outputs": [],
   "source": [
    "weights={}\n",
    "for index, weight in enumerate(class_weights) :\n",
    "    weights[index]=weight"
   ]
  },
  {
   "cell_type": "code",
   "execution_count": 25,
   "id": "18cb6afc",
   "metadata": {},
   "outputs": [
    {
     "data": {
      "text/plain": [
       "{0: 0.43980801028844385,\n",
       " 1: 0.7258015614340938,\n",
       " 2: 0.9771915501581794,\n",
       " 3: 1.3673425674710837,\n",
       " 4: 3.2459322033898306,\n",
       " 5: 3.4998172514619883}"
      ]
     },
     "execution_count": 25,
     "metadata": {},
     "output_type": "execute_result"
    }
   ],
   "source": [
    "weights  #as expected the weigts for the frequent classes are less"
   ]
  },
  {
   "cell_type": "markdown",
   "id": "076951f3",
   "metadata": {},
   "source": [
    "### We would use the 'Product' column as the target and the 'Consumer complaint narrative' as the feature text"
   ]
  },
  {
   "cell_type": "code",
   "execution_count": 26,
   "id": "cbe35b76",
   "metadata": {},
   "outputs": [],
   "source": [
    "dataset_train = tf.data.Dataset.from_tensor_slices((X_train['Consumer complaint narrative'].values, X_train['Product'].values))\n",
    "dataset_test = tf.data.Dataset.from_tensor_slices((X_test['Consumer complaint narrative'].values, X_test['Product'].values))"
   ]
  },
  {
   "cell_type": "code",
   "execution_count": 29,
   "id": "29b080fa",
   "metadata": {
    "scrolled": true
   },
   "outputs": [
    {
     "name": "stdout",
     "output_type": "stream",
     "text": [
      "Complaint: b'I am a victim of identity theft and this debt does not belong to me. \\n\\nPlease see the identity theft report and legal affidavit attached.', Target: b'Debt collection'\n",
      "Complaint: b'I signed up for Citibank Checking and Savings account promotion program. Nowhere in their promotion requirements does it say that it does not apply to Texas. You can see their promotion published here, all it said was that \" To enroll in this offer you must apply directly from this page. Citi rates and promotional offers may vary by state. Looks like you\\'re in Texas. \\'\\' I even re-selected the state to make sure it does not tell me that Texas is not eligible, but it didn\\'t say anything. Also in their fine prints they did not list the states that were eligible so who would know if they don\\'t qualify? This is scam by misleading people in believing they will would qualify so they will open an account with them. See the advertised deal here, you can see nothing about the states. \\n\\nhttps : //banking.citi.com/cbol/checking-500/default.htm? channel=onsite & promo_ID=WE564683MYCSO5 & rateSheetId= & intc=2~1~54~1~040519~2~Q22019-500Checking~CheckingSpecialOffers1 & ProspectID=BC0BC93F0A5E4B69A1ED463F8ECE1776', Target: b'Checking or savings account'\n",
      "Complaint: b'I contacted Capital One regarding the interest on a closed account. The agreement was for 93 a month, however the fees alone total half of that payment, It is simply too high. I will never get ahead. I contacted them to remove the late fee and also help me with the balance but they refused. I need assistance with this bill because at this rate I will owe them even when I die.', Target: b'Credit card or prepaid card'\n",
      "Complaint: b\"I contacted my mortgage company SPS in XX/XX/2020 to obtain a forbearance for my mortgage loan due to my wife 's wages being reduced to COVID-19. I was told on the phone call with the call center agent that I had been approved for a 90-day forbearance plan. I received a letter dated XX/XX/2020 stating the terms of my forbearance. The forbearance terms in the letter stated that my forbearance began with the XX/XX/2020 monthly payment, but I had already made that payment back on XX/XX/2020. My loan was current and due for the XX/XX/2020 monthly payment when I requested assistance. I had thought that my forbearance would be for the XX/XX/2020, XX/XX/2020 and XX/XX/2020 payments based on the verbal discussion with the call center agent. Yet, the terms list XX/XX/2020, XX/XX/2020 and XX/XX/2020 payments as covered under the forbearance and a balloon payment due XX/XX/2020. I am asking for assistance from the CFPB to have SPS honor the terms of the forbearance that I had agreed to in my call and have my first payment after my forbearance ends be XX/XX/2020. I believe that SPS is being deceptive in its assistance offerings. As a borrower who was negatively impacted by COVID-19 I don't feel that SPS is truly helping borrowers.\", Target: b'Mortgage'\n",
      "Complaint: b'My ex- wife and I had a spousal consolidation. My ex- wife has paid get portion of the loan and it has been court ordered that I am responsible for the remainder of the loan. I wanted the servicer Navient to reconsolidate the loan due to the court order but they are unwilling to do so. My ex is no longer financially responsible for the loan.', Target: b'Student loan'\n"
     ]
    }
   ],
   "source": [
    "for text, target in dataset_train.take(5):\n",
    "    print('Complaint: {}, Target: {}'.format(text, target))"
   ]
  },
  {
   "cell_type": "code",
   "execution_count": 30,
   "id": "552cc5ec",
   "metadata": {
    "scrolled": true
   },
   "outputs": [
    {
     "name": "stdout",
     "output_type": "stream",
     "text": [
      "Complaint: b\"On XX/XX/XXXX, I paid off the account in full to the original creditor. During this phone call, the original creditor informed me that they will close the account with the debt collection agency. \\n\\nOn XX/XX/XXXX, I called the original creditor regarding the account closure because I will still seeing the debt on my credit report. During this phone call, they said they had emailed the supervisor of the collection agency on XX/XX/XXXX to close the account and that the collection account will be closed soon. \\n\\nOn XX/XX/XXXX, I called the supervisor of the collection agency who informed me that he never received any communication from the original creditor regarding the closure of this account. He informed me that he needed a formal confirmation from the original creditor in order to close the account. I placed the supervisor of the collection agency on a 3-way phone call with the original creditor and myself. During this phone call, the supervisor told the original creditor that no communication has been received from the original creditor regarding this account while the original creditor claims she has submitted it. The supervisor of the collection agency explained the process by which the original creditor must take to close the account and both agreed to take the necessary measures to move forward in the closure of the account. \\n\\nOn XX/XX/XXXX, I called the supervisor of the collection agency who informed me that he never received any communication from the original creditor regarding the closure of this account even after the phone call on XX/XX/XXXX. \\n\\nOn XX/XX/XXXX, I called the original creditor and asked to be directed to the woman who handles account closure but got her voicemail twice. On the same day, I spoke to another representative of the original creditor who told me the account has been closed as the debt has been paid off. She further suggested that I just needed to call the collection agency and tell them that the debt has been paid off to close my account. I reminded her that I had done so and kept getting nowhere as the communication for closure needed to occur directly between the original creditor and the collection agency. \\n\\nPlease help me resolve this situation. I paid off my medical debt and just want this off my credit report. I'm not sure how to resolve this situation where the debt has been paid off, but the collection agency refuses to remove the account until the original creditor close it, while the original creditor claims they already closed it.\", Target: b'Debt collection'\n",
      "Complaint: b'I\\'m in the process of refinancing my exsisting home loan. I\\'ve been involved in the process for over a month now. I paid {$500.00} ( on XX/XX/XXXX ) in full for my appraisal. Then my mortgage company came back to me to collect {$300.00} more. So I have TWO issues with Alliant Credit Union -- # 1 that they are charging me more money for an appraisal than what a basic appraisal costs. ( I know this as Ive spoken to the Appraisal company -- XXXX XXXX, XXXX ) # 2. Alliant Credit Union is requiring an \" inside \\'\\' appraisal. This should not have to be done for a refinance -- especially for an exsisting loan. AND especially due to the circumstances surrounding the COVID-19 crisis. There are alternative ways to complete the refinance process that does not involve an \" inside \\'\\' inspection that would jeopardize the health and safety of my family. I\\'ve talked with XXXX XXXX. Who has guidelines published on their website and Selling guides of appraisal exceptions that need to be made. I\\'ve been told that a \" drive-by \\'\\' ( exterior only ) and/or a desktop appraisal can be done. I\\'ve also been told that there is a process titled DRDC -- Directed Remote Data Collection -- which is a process by which an inspection can be completed remotely by an appraiser who guides the homeowner through the inspection aided by video conferencing technology. Again, these are all suitable methods that the Lender - Alliant Credit Union can do to respect the state and federal mandates of \" shelter in place \\'\\' and social distancing. I can not have someone come into my home. I, my daughter, my spouse and my XXXX years old mother ( who\\'s immune system is compromised ) lives with me. We can not take any  changes of being exposed to this deadly virus. I have clients who have already died from this virus and it should not be taken lightly. I need help here to have my Lender find an alternative way to complete my refinance without having an outside individual in my home. Thank you', Target: b'Mortgage'\n",
      "Complaint: b\"I went to quicken loans and Rocket Mortgage to try to refinance my mortgage. I had just gotten word that my mortgage interest was going to increase so I wanted a new loan. I contacted quicken loans on approximately XX/XX/XXXX They said they could help me. In our initial contacts and review of loan I was told that I would not need to put any money down as closing costs. I would need to do an initial deposit for appraisals, etc. During the loan process and the appraisal things changed. I was constantly asked to prove I had XXXX which I don't have. I was then told that the appraisal came in lower so I would have to. I spent over, including the XXXX deposit, XXXX dollars in getting my house ready. I kept continuall y getting letters for proof of money. I finally called and they said I need the XXXX now because my house was appraised lower and basically they didn't think they could get me a loan now. At this time covid has happened and I am unemployed. I begged for my appraisal back. I would not have gone through this process if I was initially told I would need money down. I don't have any money to do that. They said it is through a 3rd party so no. They refused to give me any money back.\", Target: b'Mortgage'\n",
      "Complaint: b'Claiming I had a debt and to contact a know scam debt collection scheme', Target: b'Debt collection'\n",
      "Complaint: b'I am a victim of identity theft and this debt does not belong to me. Please see the identity theft report and legal affidavit attached.', Target: b'Debt collection'\n"
     ]
    }
   ],
   "source": [
    "for text, target in dataset_test.take(5):\n",
    "    print('Complaint: {}, Target: {}'.format(text, target))"
   ]
  },
  {
   "cell_type": "markdown",
   "id": "6b94c959",
   "metadata": {},
   "source": [
    "### Converting the target to numerical representation of classes"
   ]
  },
  {
   "cell_type": "code",
   "execution_count": 31,
   "id": "38cbbb82",
   "metadata": {},
   "outputs": [],
   "source": [
    "table = tf.lookup.StaticHashTable(\n",
    "    initializer=tf.lookup.KeyValueTensorInitializer(\n",
    "        keys=tf.constant(['Debt collection', 'Credit card or prepaid card', 'Mortgage', 'Checking or savings account', 'Student loan', 'Vehicle loan or lease']),\n",
    "        values=tf.constant([0, 1, 2, 3, 4, 5]),\n",
    "    ),\n",
    "    default_value=tf.constant(-1),\n",
    "    name=\"target_encoding\"\n",
    ")\n",
    "\n",
    "@tf.function\n",
    "def target(x):\n",
    "    return table.lookup(x)"
   ]
  },
  {
   "cell_type": "code",
   "execution_count": 32,
   "id": "e22ddece",
   "metadata": {},
   "outputs": [],
   "source": [
    "#printing the feateure text and converted target\n",
    "def show_batch(dataset, size=5):\n",
    "    for batch, label in dataset.take(size):\n",
    "        print(batch.numpy())\n",
    "        print(target(label).numpy())"
   ]
  },
  {
   "cell_type": "code",
   "execution_count": 33,
   "id": "0535cfdf",
   "metadata": {
    "scrolled": true
   },
   "outputs": [
    {
     "name": "stdout",
     "output_type": "stream",
     "text": [
      "b\"On XX/XX/XXXX, I paid off the account in full to the original creditor. During this phone call, the original creditor informed me that they will close the account with the debt collection agency. \\n\\nOn XX/XX/XXXX, I called the original creditor regarding the account closure because I will still seeing the debt on my credit report. During this phone call, they said they had emailed the supervisor of the collection agency on XX/XX/XXXX to close the account and that the collection account will be closed soon. \\n\\nOn XX/XX/XXXX, I called the supervisor of the collection agency who informed me that he never received any communication from the original creditor regarding the closure of this account. He informed me that he needed a formal confirmation from the original creditor in order to close the account. I placed the supervisor of the collection agency on a 3-way phone call with the original creditor and myself. During this phone call, the supervisor told the original creditor that no communication has been received from the original creditor regarding this account while the original creditor claims she has submitted it. The supervisor of the collection agency explained the process by which the original creditor must take to close the account and both agreed to take the necessary measures to move forward in the closure of the account. \\n\\nOn XX/XX/XXXX, I called the supervisor of the collection agency who informed me that he never received any communication from the original creditor regarding the closure of this account even after the phone call on XX/XX/XXXX. \\n\\nOn XX/XX/XXXX, I called the original creditor and asked to be directed to the woman who handles account closure but got her voicemail twice. On the same day, I spoke to another representative of the original creditor who told me the account has been closed as the debt has been paid off. She further suggested that I just needed to call the collection agency and tell them that the debt has been paid off to close my account. I reminded her that I had done so and kept getting nowhere as the communication for closure needed to occur directly between the original creditor and the collection agency. \\n\\nPlease help me resolve this situation. I paid off my medical debt and just want this off my credit report. I'm not sure how to resolve this situation where the debt has been paid off, but the collection agency refuses to remove the account until the original creditor close it, while the original creditor claims they already closed it.\"\n",
      "0\n",
      "b'I\\'m in the process of refinancing my exsisting home loan. I\\'ve been involved in the process for over a month now. I paid {$500.00} ( on XX/XX/XXXX ) in full for my appraisal. Then my mortgage company came back to me to collect {$300.00} more. So I have TWO issues with Alliant Credit Union -- # 1 that they are charging me more money for an appraisal than what a basic appraisal costs. ( I know this as Ive spoken to the Appraisal company -- XXXX XXXX, XXXX ) # 2. Alliant Credit Union is requiring an \" inside \\'\\' appraisal. This should not have to be done for a refinance -- especially for an exsisting loan. AND especially due to the circumstances surrounding the COVID-19 crisis. There are alternative ways to complete the refinance process that does not involve an \" inside \\'\\' inspection that would jeopardize the health and safety of my family. I\\'ve talked with XXXX XXXX. Who has guidelines published on their website and Selling guides of appraisal exceptions that need to be made. I\\'ve been told that a \" drive-by \\'\\' ( exterior only ) and/or a desktop appraisal can be done. I\\'ve also been told that there is a process titled DRDC -- Directed Remote Data Collection -- which is a process by which an inspection can be completed remotely by an appraiser who guides the homeowner through the inspection aided by video conferencing technology. Again, these are all suitable methods that the Lender - Alliant Credit Union can do to respect the state and federal mandates of \" shelter in place \\'\\' and social distancing. I can not have someone come into my home. I, my daughter, my spouse and my XXXX years old mother ( who\\'s immune system is compromised ) lives with me. We can not take any  changes of being exposed to this deadly virus. I have clients who have already died from this virus and it should not be taken lightly. I need help here to have my Lender find an alternative way to complete my refinance without having an outside individual in my home. Thank you'\n",
      "2\n",
      "b\"I went to quicken loans and Rocket Mortgage to try to refinance my mortgage. I had just gotten word that my mortgage interest was going to increase so I wanted a new loan. I contacted quicken loans on approximately XX/XX/XXXX They said they could help me. In our initial contacts and review of loan I was told that I would not need to put any money down as closing costs. I would need to do an initial deposit for appraisals, etc. During the loan process and the appraisal things changed. I was constantly asked to prove I had XXXX which I don't have. I was then told that the appraisal came in lower so I would have to. I spent over, including the XXXX deposit, XXXX dollars in getting my house ready. I kept continuall y getting letters for proof of money. I finally called and they said I need the XXXX now because my house was appraised lower and basically they didn't think they could get me a loan now. At this time covid has happened and I am unemployed. I begged for my appraisal back. I would not have gone through this process if I was initially told I would need money down. I don't have any money to do that. They said it is through a 3rd party so no. They refused to give me any money back.\"\n",
      "2\n",
      "b'Claiming I had a debt and to contact a know scam debt collection scheme'\n",
      "0\n",
      "b'I am a victim of identity theft and this debt does not belong to me. Please see the identity theft report and legal affidavit attached.'\n",
      "0\n",
      "b'We refinanced with XXXX  XXXX, and our loan was sold off to XXXX XXXX XXXX. Our first few payment were processed normally, but our XXXX payment has been misplaced or some such XXXX. we insisted the payment was made, and finally were told the account number had been changed from the account we were paying to through XXXX XXXX. They said that we were responsible for the payment since they had to history of the payment being received. We provided our bank statement showing the payment had been paid on XX/XX/19, and we provided a proof of payment generated by XXXX XXXX. They are saying it will be applied to XXXX but could take 3 to 4 weeks! My main concern is IF this sorted out, are they going to adjust my interest accordingly, or am I going to end up paying more interest than I should, and are they going to correct the credit reporting to show the payment was made and not missed. The loan officer, XXXX XXXX from XXXX XXXX   told us to file the complaint with CFPB to make sure everything gets sorted out properly.'\n",
      "2\n"
     ]
    }
   ],
   "source": [
    "show_batch(dataset_test,6)"
   ]
  },
  {
   "cell_type": "code",
   "execution_count": 34,
   "id": "bbe1776d",
   "metadata": {},
   "outputs": [],
   "source": [
    "#function to apply the one hot encoding to the classes\n",
    "def fetch(text, labels):\n",
    "    return text, tf.one_hot(target(labels),6)"
   ]
  },
  {
   "cell_type": "code",
   "execution_count": 35,
   "id": "983de793",
   "metadata": {},
   "outputs": [],
   "source": [
    "train_data_f=dataset_train.map(fetch)\n",
    "test_data_f=dataset_test.map(fetch)"
   ]
  },
  {
   "cell_type": "code",
   "execution_count": 36,
   "id": "04d6caa5",
   "metadata": {},
   "outputs": [
    {
     "data": {
      "text/plain": [
       "(<tf.Tensor: shape=(), dtype=string, numpy=b'I am a victim of identity theft and this debt does not belong to me. \\n\\nPlease see the identity theft report and legal affidavit attached.'>,\n",
       " <tf.Tensor: shape=(6,), dtype=float32, numpy=array([1., 0., 0., 0., 0., 0.], dtype=float32)>)"
      ]
     },
     "execution_count": 36,
     "metadata": {},
     "output_type": "execute_result"
    }
   ],
   "source": [
    "next(iter(train_data_f))"
   ]
  },
  {
   "cell_type": "code",
   "execution_count": 37,
   "id": "5839c062",
   "metadata": {},
   "outputs": [
    {
     "data": {
      "text/plain": [
       "(<tf.Tensor: shape=(5,), dtype=string, numpy=\n",
       " array([b'I am a victim of identity theft and this debt does not belong to me. \\n\\nPlease see the identity theft report and legal affidavit attached.',\n",
       "        b'I signed up for Citibank Checking and Savings account promotion program. Nowhere in their promotion requirements does it say that it does not apply to Texas. You can see their promotion published here, all it said was that \" To enroll in this offer you must apply directly from this page. Citi rates and promotional offers may vary by state. Looks like you\\'re in Texas. \\'\\' I even re-selected the state to make sure it does not tell me that Texas is not eligible, but it didn\\'t say anything. Also in their fine prints they did not list the states that were eligible so who would know if they don\\'t qualify? This is scam by misleading people in believing they will would qualify so they will open an account with them. See the advertised deal here, you can see nothing about the states. \\n\\nhttps : //banking.citi.com/cbol/checking-500/default.htm? channel=onsite & promo_ID=WE564683MYCSO5 & rateSheetId= & intc=2~1~54~1~040519~2~Q22019-500Checking~CheckingSpecialOffers1 & ProspectID=BC0BC93F0A5E4B69A1ED463F8ECE1776',\n",
       "        b'I contacted Capital One regarding the interest on a closed account. The agreement was for 93 a month, however the fees alone total half of that payment, It is simply too high. I will never get ahead. I contacted them to remove the late fee and also help me with the balance but they refused. I need assistance with this bill because at this rate I will owe them even when I die.',\n",
       "        b\"I contacted my mortgage company SPS in XX/XX/2020 to obtain a forbearance for my mortgage loan due to my wife 's wages being reduced to COVID-19. I was told on the phone call with the call center agent that I had been approved for a 90-day forbearance plan. I received a letter dated XX/XX/2020 stating the terms of my forbearance. The forbearance terms in the letter stated that my forbearance began with the XX/XX/2020 monthly payment, but I had already made that payment back on XX/XX/2020. My loan was current and due for the XX/XX/2020 monthly payment when I requested assistance. I had thought that my forbearance would be for the XX/XX/2020, XX/XX/2020 and XX/XX/2020 payments based on the verbal discussion with the call center agent. Yet, the terms list XX/XX/2020, XX/XX/2020 and XX/XX/2020 payments as covered under the forbearance and a balloon payment due XX/XX/2020. I am asking for assistance from the CFPB to have SPS honor the terms of the forbearance that I had agreed to in my call and have my first payment after my forbearance ends be XX/XX/2020. I believe that SPS is being deceptive in its assistance offerings. As a borrower who was negatively impacted by COVID-19 I don't feel that SPS is truly helping borrowers.\",\n",
       "        b'My ex- wife and I had a spousal consolidation. My ex- wife has paid get portion of the loan and it has been court ordered that I am responsible for the remainder of the loan. I wanted the servicer Navient to reconsolidate the loan due to the court order but they are unwilling to do so. My ex is no longer financially responsible for the loan.'],\n",
       "       dtype=object)>,\n",
       " <tf.Tensor: shape=(5, 6), dtype=float32, numpy=\n",
       " array([[1., 0., 0., 0., 0., 0.],\n",
       "        [0., 0., 0., 1., 0., 0.],\n",
       "        [0., 1., 0., 0., 0., 0.],\n",
       "        [0., 0., 1., 0., 0., 0.],\n",
       "        [0., 0., 0., 0., 1., 0.]], dtype=float32)>)"
      ]
     },
     "execution_count": 37,
     "metadata": {},
     "output_type": "execute_result"
    }
   ],
   "source": [
    "train_data, train_labels = next(iter(train_data_f.batch(5)))\n",
    "train_data, train_labels"
   ]
  },
  {
   "cell_type": "markdown",
   "id": "72f9a014",
   "metadata": {},
   "source": [
    "### Building the model"
   ]
  },
  {
   "cell_type": "code",
   "execution_count": 38,
   "id": "2e3f554f",
   "metadata": {},
   "outputs": [
    {
     "data": {
      "text/plain": [
       "<tf.Tensor: shape=(1, 128), dtype=float32, numpy=\n",
       "array([[ 0.33617228,  0.23203762, -0.09538511, -0.06548779, -0.08765431,\n",
       "        -0.01077191, -0.00245969,  0.05258209, -0.06241624,  0.19836168,\n",
       "         0.09080565, -0.12921023,  0.0396726 , -0.05281024,  0.00817845,\n",
       "         0.01611447, -0.17562988,  0.07727271, -0.19410342,  0.28781003,\n",
       "        -0.18966146,  0.22917116,  0.02318892, -0.05648421,  0.0852662 ,\n",
       "        -0.15905663,  0.12677582, -0.08696103, -0.10879584,  0.0401351 ,\n",
       "         0.04865107, -0.06219418,  0.01057932, -0.09699482, -0.10901408,\n",
       "         0.12662935, -0.00856555, -0.17180865, -0.16313195,  0.02499727,\n",
       "         0.05349051, -0.18023014,  0.03826252,  0.04737706,  0.06879856,\n",
       "         0.07156485, -0.10703883,  0.02409267, -0.02078929,  0.06535412,\n",
       "        -0.05628244,  0.12537208,  0.01271748, -0.00653138,  0.02049751,\n",
       "        -0.03821641, -0.05212895, -0.0351408 , -0.11024246,  0.04053358,\n",
       "        -0.07984847,  0.00559551, -0.07771305, -0.0565149 ,  0.10259037,\n",
       "         0.01929503, -0.04096156,  0.09158678, -0.09083464, -0.01057012,\n",
       "        -0.11555469,  0.03735948,  0.14914533, -0.00151451,  0.11215647,\n",
       "         0.09520803, -0.1008215 , -0.17803769, -0.0355387 , -0.03926742,\n",
       "         0.12797633,  0.05645175, -0.31791207,  0.09192817,  0.08221411,\n",
       "        -0.16986164, -0.12388679, -0.09759221,  0.23697548,  0.14891823,\n",
       "         0.13129821,  0.03415771,  0.13239165, -0.15111834,  0.12739947,\n",
       "         0.15583904,  0.08220406,  0.13554421, -0.18587473,  0.02554743,\n",
       "         0.04821805,  0.05503567,  0.07040823,  0.09314033,  0.20014815,\n",
       "        -0.10180207, -0.0015585 , -0.08907159, -0.00198392,  0.13414532,\n",
       "        -0.15463586, -0.00650544, -0.12641652, -0.14778697,  0.19506189,\n",
       "        -0.04875933, -0.00404493, -0.1628948 ,  0.01054663,  0.07637997,\n",
       "         0.0762555 , -0.14142303,  0.06555257,  0.00796727, -0.05636089,\n",
       "         0.04279486, -0.10489793, -0.00524419]], dtype=float32)>"
      ]
     },
     "execution_count": 38,
     "metadata": {},
     "output_type": "execute_result"
    }
   ],
   "source": [
    "embedding = \"https://tfhub.dev/google/tf2-preview/nnlm-en-dim128/1\" #pretrained embedding from tfhub trained on google news of dimension 128\n",
    "hub_layer = hub.KerasLayer(embedding, output_shape=[128], input_shape=[], \n",
    "                           dtype=tf.string, trainable=True)\n",
    "hub_layer(train_data[:1])"
   ]
  },
  {
   "cell_type": "code",
   "execution_count": 40,
   "id": "5134a417",
   "metadata": {},
   "outputs": [
    {
     "data": {
      "text/plain": [
       "<tf.Tensor: shape=(1,), dtype=string, numpy=\n",
       "array([b'I am a victim of identity theft and this debt does not belong to me. \\n\\nPlease see the identity theft report and legal affidavit attached.'],\n",
       "      dtype=object)>"
      ]
     },
     "execution_count": 40,
     "metadata": {},
     "output_type": "execute_result"
    }
   ],
   "source": [
    "train_data[:1]"
   ]
  },
  {
   "cell_type": "code",
   "execution_count": 41,
   "id": "6d942cb4",
   "metadata": {},
   "outputs": [
    {
     "name": "stdout",
     "output_type": "stream",
     "text": [
      "Model: \"sequential\"\n",
      "_________________________________________________________________\n",
      "Layer (type)                 Output Shape              Param #   \n",
      "=================================================================\n",
      "keras_layer (KerasLayer)     (None, 128)               124642688 \n",
      "_________________________________________________________________\n",
      "dense (Dense)                (None, 128)               16512     \n",
      "_________________________________________________________________\n",
      "dropout (Dropout)            (None, 128)               0         \n",
      "_________________________________________________________________\n",
      "dense_1 (Dense)              (None, 128)               16512     \n",
      "_________________________________________________________________\n",
      "dropout_1 (Dropout)          (None, 128)               0         \n",
      "_________________________________________________________________\n",
      "dense_2 (Dense)              (None, 64)                8256      \n",
      "_________________________________________________________________\n",
      "dropout_2 (Dropout)          (None, 64)                0         \n",
      "_________________________________________________________________\n",
      "dense_3 (Dense)              (None, 32)                2080      \n",
      "_________________________________________________________________\n",
      "dropout_3 (Dropout)          (None, 32)                0         \n",
      "_________________________________________________________________\n",
      "dense_4 (Dense)              (None, 6)                 198       \n",
      "=================================================================\n",
      "Total params: 124,686,246\n",
      "Trainable params: 124,686,246\n",
      "Non-trainable params: 0\n",
      "_________________________________________________________________\n"
     ]
    }
   ],
   "source": [
    "model = tf.keras.Sequential()\n",
    "model.add(hub_layer)\n",
    "for units in [128, 128, 64 , 32]:                #for loop for testing out different models for easy editing\n",
    "    model.add(tf.keras.layers.Dense(units, activation='relu'))\n",
    "    model.add(tf.keras.layers.Dropout(0.3))\n",
    "model.add(tf.keras.layers.Dense(6, activation='softmax'))     #6 class softmax\n",
    "\n",
    "model.summary()"
   ]
  },
  {
   "cell_type": "code",
   "execution_count": 42,
   "id": "c9d9f521",
   "metadata": {},
   "outputs": [],
   "source": [
    "model.compile(optimizer='adam',\n",
    "              loss=tf.keras.losses.CategoricalCrossentropy(from_logits=True),\n",
    "              metrics=['accuracy'])"
   ]
  },
  {
   "cell_type": "code",
   "execution_count": null,
   "id": "d82c2584",
   "metadata": {},
   "outputs": [],
   "source": [
    "train_data_f=train_data_f.shuffle(70000).batch(512)    #creating batched of the training data and shuffling the data\n",
    "test_data_f=test_data_f.batch(512)"
   ]
  },
  {
   "cell_type": "code",
   "execution_count": null,
   "id": "5af39876",
   "metadata": {},
   "outputs": [],
   "source": []
  },
  {
   "cell_type": "code",
   "execution_count": null,
   "id": "4da3ed09",
   "metadata": {},
   "outputs": [],
   "source": []
  },
  {
   "cell_type": "code",
   "execution_count": null,
   "id": "630f23a1",
   "metadata": {},
   "outputs": [],
   "source": []
  },
  {
   "cell_type": "code",
   "execution_count": null,
   "id": "0d414c27",
   "metadata": {},
   "outputs": [],
   "source": []
  }
 ],
 "metadata": {
  "kernelspec": {
   "display_name": "Python 3.7 (tf-keras-gpu-test)",
   "language": "python",
   "name": "tf-keras-gpu-test"
  },
  "language_info": {
   "codemirror_mode": {
    "name": "ipython",
    "version": 3
   },
   "file_extension": ".py",
   "mimetype": "text/x-python",
   "name": "python",
   "nbconvert_exporter": "python",
   "pygments_lexer": "ipython3",
   "version": "3.7.11"
  }
 },
 "nbformat": 4,
 "nbformat_minor": 5
}
