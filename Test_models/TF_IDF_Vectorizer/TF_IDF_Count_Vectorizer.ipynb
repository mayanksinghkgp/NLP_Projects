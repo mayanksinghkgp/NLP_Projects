{
 "cells": [
  {
   "cell_type": "code",
   "execution_count": 1,
   "id": "b9a4b0e2",
   "metadata": {},
   "outputs": [],
   "source": [
    "from sklearn.feature_extraction.text import TfidfVectorizer, CountVectorizer\n",
    "import numpy as np"
   ]
  },
  {
   "cell_type": "code",
   "execution_count": 2,
   "id": "450c98a2",
   "metadata": {},
   "outputs": [],
   "source": [
    "sentences=['I have a credit card account','My account card, debit card is lost','My credit card stopped working']"
   ]
  },
  {
   "cell_type": "markdown",
   "id": "5338c730",
   "metadata": {},
   "source": [
    "### CountVectorizer"
   ]
  },
  {
   "cell_type": "code",
   "execution_count": 3,
   "id": "5f10a5b0",
   "metadata": {},
   "outputs": [],
   "source": [
    "vectorizer=CountVectorizer()\n",
    "countvec=vectorizer.fit_transform(sentences)"
   ]
  },
  {
   "cell_type": "code",
   "execution_count": 4,
   "id": "2ad1ebbc",
   "metadata": {},
   "outputs": [
    {
     "data": {
      "text/plain": [
       "array([[1, 1, 1, 0, 1, 0, 0, 0, 0, 0],\n",
       "       [1, 2, 0, 1, 0, 1, 1, 1, 0, 0],\n",
       "       [0, 1, 1, 0, 0, 0, 0, 1, 1, 1]], dtype=int64)"
      ]
     },
     "execution_count": 4,
     "metadata": {},
     "output_type": "execute_result"
    }
   ],
   "source": [
    "countvec.A"
   ]
  },
  {
   "cell_type": "code",
   "execution_count": 5,
   "id": "4a0b6ee5",
   "metadata": {},
   "outputs": [
    {
     "name": "stderr",
     "output_type": "stream",
     "text": [
      "D:\\Anaconda3\\envs\\tf-keras-gpu-test\\lib\\site-packages\\sklearn\\utils\\deprecation.py:87: FutureWarning: Function get_feature_names is deprecated; get_feature_names is deprecated in 1.0 and will be removed in 1.2. Please use get_feature_names_out instead.\n",
      "  warnings.warn(msg, category=FutureWarning)\n"
     ]
    },
    {
     "data": {
      "text/plain": [
       "['account',\n",
       " 'card',\n",
       " 'credit',\n",
       " 'debit',\n",
       " 'have',\n",
       " 'is',\n",
       " 'lost',\n",
       " 'my',\n",
       " 'stopped',\n",
       " 'working']"
      ]
     },
     "execution_count": 5,
     "metadata": {},
     "output_type": "execute_result"
    }
   ],
   "source": [
    "vectorizer.get_feature_names()"
   ]
  },
  {
   "cell_type": "code",
   "execution_count": 6,
   "id": "6f92e9bf",
   "metadata": {},
   "outputs": [],
   "source": [
    "vectorizer=CountVectorizer(max_features=4) #max features to consider in vocab, top n from the term frequency\n",
    "countvec=vectorizer.fit_transform(sentences)"
   ]
  },
  {
   "cell_type": "code",
   "execution_count": 7,
   "id": "a8e8db12",
   "metadata": {},
   "outputs": [
    {
     "name": "stdout",
     "output_type": "stream",
     "text": [
      "[[1 1 1 0]\n",
      " [1 2 0 1]\n",
      " [0 1 1 1]]\n",
      "['account', 'card', 'credit', 'my']\n"
     ]
    },
    {
     "name": "stderr",
     "output_type": "stream",
     "text": [
      "D:\\Anaconda3\\envs\\tf-keras-gpu-test\\lib\\site-packages\\sklearn\\utils\\deprecation.py:87: FutureWarning: Function get_feature_names is deprecated; get_feature_names is deprecated in 1.0 and will be removed in 1.2. Please use get_feature_names_out instead.\n",
      "  warnings.warn(msg, category=FutureWarning)\n"
     ]
    }
   ],
   "source": [
    "print(countvec.A)\n",
    "print(vectorizer.get_feature_names())"
   ]
  },
  {
   "cell_type": "code",
   "execution_count": 8,
   "id": "c7da4b29",
   "metadata": {},
   "outputs": [],
   "source": [
    "vectorizer=CountVectorizer(max_features=4, stop_words='english')  #adding englist stopwords\n",
    "countvec=vectorizer.fit_transform(sentences)"
   ]
  },
  {
   "cell_type": "code",
   "execution_count": 9,
   "id": "fcc802e6",
   "metadata": {},
   "outputs": [
    {
     "name": "stdout",
     "output_type": "stream",
     "text": [
      "[[1 1 1 0]\n",
      " [1 2 0 1]\n",
      " [0 1 1 0]]\n",
      "['account', 'card', 'credit', 'debit']\n"
     ]
    },
    {
     "name": "stderr",
     "output_type": "stream",
     "text": [
      "D:\\Anaconda3\\envs\\tf-keras-gpu-test\\lib\\site-packages\\sklearn\\utils\\deprecation.py:87: FutureWarning: Function get_feature_names is deprecated; get_feature_names is deprecated in 1.0 and will be removed in 1.2. Please use get_feature_names_out instead.\n",
      "  warnings.warn(msg, category=FutureWarning)\n"
     ]
    }
   ],
   "source": [
    "print(countvec.A)\n",
    "print(vectorizer.get_feature_names())"
   ]
  },
  {
   "cell_type": "code",
   "execution_count": 12,
   "id": "410cdf2d",
   "metadata": {},
   "outputs": [],
   "source": [
    "vectorizer=CountVectorizer(max_features=8, ngram_range=(1,2))  #unigrams and bigrams\n",
    "countvec=vectorizer.fit_transform(sentences)"
   ]
  },
  {
   "cell_type": "code",
   "execution_count": 13,
   "id": "ad795af3",
   "metadata": {},
   "outputs": [
    {
     "name": "stdout",
     "output_type": "stream",
     "text": [
      "[[1 1 1 1 0 0 0 0]\n",
      " [1 2 0 0 1 1 0 0]\n",
      " [0 1 1 1 1 0 1 1]]\n",
      "['account', 'card', 'credit', 'credit card', 'my', 'my account', 'my credit', 'stopped']\n"
     ]
    },
    {
     "name": "stderr",
     "output_type": "stream",
     "text": [
      "D:\\Anaconda3\\envs\\tf-keras-gpu-test\\lib\\site-packages\\sklearn\\utils\\deprecation.py:87: FutureWarning: Function get_feature_names is deprecated; get_feature_names is deprecated in 1.0 and will be removed in 1.2. Please use get_feature_names_out instead.\n",
      "  warnings.warn(msg, category=FutureWarning)\n"
     ]
    }
   ],
   "source": [
    "print(countvec.A)\n",
    "print(vectorizer.get_feature_names())"
   ]
  },
  {
   "cell_type": "markdown",
   "id": "263fd24e",
   "metadata": {},
   "source": [
    "### TfidfVectorizer"
   ]
  },
  {
   "cell_type": "code",
   "execution_count": 14,
   "id": "38d1857f",
   "metadata": {},
   "outputs": [],
   "source": [
    "vectorizer=TfidfVectorizer(use_idf=False, norm='l1')   #l1 norm -> sum on elements is one l2-> sum of squares is 1\n",
    "tfvec=vectorizer.fit_transform(sentences)"
   ]
  },
  {
   "cell_type": "code",
   "execution_count": 15,
   "id": "a124d6a0",
   "metadata": {},
   "outputs": [
    {
     "name": "stdout",
     "output_type": "stream",
     "text": [
      "[[0.25       0.25       0.25       0.         0.25       0.\n",
      "  0.         0.         0.         0.        ]\n",
      " [0.14285714 0.28571429 0.         0.14285714 0.         0.14285714\n",
      "  0.14285714 0.14285714 0.         0.        ]\n",
      " [0.         0.2        0.2        0.         0.         0.\n",
      "  0.         0.2        0.2        0.2       ]]\n",
      "['account', 'card', 'credit', 'debit', 'have', 'is', 'lost', 'my', 'stopped', 'working']\n"
     ]
    }
   ],
   "source": [
    "print(tfvec.A)\n",
    "print(vectorizer.get_feature_names())"
   ]
  },
  {
   "cell_type": "code",
   "execution_count": 16,
   "id": "5d6ceedf",
   "metadata": {},
   "outputs": [],
   "source": [
    "vectorizer=TfidfVectorizer(use_idf=False, norm='l2')\n",
    "tfvec=vectorizer.fit_transform(sentences)"
   ]
  },
  {
   "cell_type": "code",
   "execution_count": 17,
   "id": "19c95020",
   "metadata": {
    "scrolled": true
   },
   "outputs": [
    {
     "name": "stdout",
     "output_type": "stream",
     "text": [
      "[[0.5        0.5        0.5        0.         0.5        0.\n",
      "  0.         0.         0.         0.        ]\n",
      " [0.33333333 0.66666667 0.         0.33333333 0.         0.33333333\n",
      "  0.33333333 0.33333333 0.         0.        ]\n",
      " [0.         0.4472136  0.4472136  0.         0.         0.\n",
      "  0.         0.4472136  0.4472136  0.4472136 ]]\n",
      "['account', 'card', 'credit', 'debit', 'have', 'is', 'lost', 'my', 'stopped', 'working']\n"
     ]
    }
   ],
   "source": [
    "print(tfvec.A)\n",
    "print(vectorizer.get_feature_names())"
   ]
  },
  {
   "cell_type": "code",
   "execution_count": 19,
   "id": "89354611",
   "metadata": {},
   "outputs": [],
   "source": [
    "vectorizer=TfidfVectorizer(use_idf=False, norm=None)\n",
    "tfvec=vectorizer.fit_transform(sentences)"
   ]
  },
  {
   "cell_type": "code",
   "execution_count": 20,
   "id": "3705bd7c",
   "metadata": {},
   "outputs": [
    {
     "name": "stdout",
     "output_type": "stream",
     "text": [
      "[[1. 1. 1. 0. 1. 0. 0. 0. 0. 0.]\n",
      " [1. 2. 0. 1. 0. 1. 1. 1. 0. 0.]\n",
      " [0. 1. 1. 0. 0. 0. 0. 1. 1. 1.]]\n",
      "['account', 'card', 'credit', 'debit', 'have', 'is', 'lost', 'my', 'stopped', 'working']\n"
     ]
    }
   ],
   "source": [
    "print(tfvec.A)\n",
    "print(vectorizer.get_feature_names())"
   ]
  },
  {
   "cell_type": "code",
   "execution_count": 21,
   "id": "e015c0bb",
   "metadata": {},
   "outputs": [],
   "source": [
    "vectorizer_idf=TfidfVectorizer(smooth_idf=False)   #smooth_idf prevents zero division\n",
    "tfidfvec=vectorizer_idf.fit_transform(sentences)"
   ]
  },
  {
   "cell_type": "code",
   "execution_count": 22,
   "id": "55fe3fac",
   "metadata": {},
   "outputs": [
    {
     "name": "stdout",
     "output_type": "stream",
     "text": [
      "[1.40546511 1.         1.40546511 2.09861229 2.09861229 2.09861229\n",
      " 2.09861229 1.40546511 2.09861229 2.09861229]\n",
      "['account', 'card', 'credit', 'debit', 'have', 'is', 'lost', 'my', 'stopped', 'working']\n"
     ]
    },
    {
     "name": "stderr",
     "output_type": "stream",
     "text": [
      "D:\\Anaconda3\\envs\\tf-keras-gpu-test\\lib\\site-packages\\sklearn\\utils\\deprecation.py:87: FutureWarning: Function get_feature_names is deprecated; get_feature_names is deprecated in 1.0 and will be removed in 1.2. Please use get_feature_names_out instead.\n",
      "  warnings.warn(msg, category=FutureWarning)\n"
     ]
    }
   ],
   "source": [
    "print(vectorizer_idf.idf_)\n",
    "print(vectorizer_idf.get_feature_names())"
   ]
  },
  {
   "cell_type": "code",
   "execution_count": 23,
   "id": "3df90d6f",
   "metadata": {},
   "outputs": [
    {
     "data": {
      "text/plain": [
       "array([[0.45951737, 0.3269504 , 0.45951737, 0.        , 0.68614212,\n",
       "        0.        , 0.        , 0.        , 0.        , 0.        ],\n",
       "       [0.3055129 , 0.43474989, 0.        , 0.45618573, 0.        ,\n",
       "        0.45618573, 0.45618573, 0.3055129 , 0.        , 0.        ],\n",
       "       [0.        , 0.26959162, 0.37890161, 0.        , 0.        ,\n",
       "        0.        , 0.        , 0.37890161, 0.56576828, 0.56576828]])"
      ]
     },
     "execution_count": 23,
     "metadata": {},
     "output_type": "execute_result"
    }
   ],
   "source": [
    "tfidfvec.A"
   ]
  },
  {
   "cell_type": "code",
   "execution_count": null,
   "id": "933fced1",
   "metadata": {},
   "outputs": [],
   "source": []
  }
 ],
 "metadata": {
  "kernelspec": {
   "display_name": "Python 3.7 (tf-keras-gpu-test)",
   "language": "python",
   "name": "tf-keras-gpu-test"
  },
  "language_info": {
   "codemirror_mode": {
    "name": "ipython",
    "version": 3
   },
   "file_extension": ".py",
   "mimetype": "text/x-python",
   "name": "python",
   "nbconvert_exporter": "python",
   "pygments_lexer": "ipython3",
   "version": "3.7.11"
  }
 },
 "nbformat": 4,
 "nbformat_minor": 5
}
