{
 "cells": [
  {
   "cell_type": "code",
   "execution_count": 47,
   "id": "269b139d",
   "metadata": {},
   "outputs": [],
   "source": [
    "import re\n",
    "import pandas as pd\n",
    "import numpy as np\n",
    "from nltk.stem.porter import PorterStemmer\n",
    "from sklearn.feature_extraction.text import TfidfVectorizer\n",
    "from sklearn.model_selection import train_test_split\n",
    "import pickle\n",
    "from sklearn.linear_model import LogisticRegressionCV"
   ]
  },
  {
   "cell_type": "code",
   "execution_count": 48,
   "id": "a07f7784",
   "metadata": {},
   "outputs": [],
   "source": [
    "df = pd.read_csv('corona_fake.csv')"
   ]
  },
  {
   "cell_type": "code",
   "execution_count": 49,
   "id": "34ed15d7",
   "metadata": {},
   "outputs": [
    {
     "data": {
      "text/html": [
       "<div>\n",
       "<style scoped>\n",
       "    .dataframe tbody tr th:only-of-type {\n",
       "        vertical-align: middle;\n",
       "    }\n",
       "\n",
       "    .dataframe tbody tr th {\n",
       "        vertical-align: top;\n",
       "    }\n",
       "\n",
       "    .dataframe thead th {\n",
       "        text-align: right;\n",
       "    }\n",
       "</style>\n",
       "<table border=\"1\" class=\"dataframe\">\n",
       "  <thead>\n",
       "    <tr style=\"text-align: right;\">\n",
       "      <th></th>\n",
       "      <th>title</th>\n",
       "      <th>text</th>\n",
       "      <th>source</th>\n",
       "      <th>label</th>\n",
       "    </tr>\n",
       "  </thead>\n",
       "  <tbody>\n",
       "    <tr>\n",
       "      <th>0</th>\n",
       "      <td>Due to the recent outbreak for the Coronavirus...</td>\n",
       "      <td>You just need to add water, and the drugs and ...</td>\n",
       "      <td>coronavirusmedicalkit.com</td>\n",
       "      <td>Fake</td>\n",
       "    </tr>\n",
       "    <tr>\n",
       "      <th>1</th>\n",
       "      <td>NaN</td>\n",
       "      <td>Hydroxychloroquine has been shown to have a 10...</td>\n",
       "      <td>RudyGiuliani</td>\n",
       "      <td>Fake</td>\n",
       "    </tr>\n",
       "    <tr>\n",
       "      <th>2</th>\n",
       "      <td>NaN</td>\n",
       "      <td>Fact: Hydroxychloroquine has been shown to hav...</td>\n",
       "      <td>CharlieKirk</td>\n",
       "      <td>Fake</td>\n",
       "    </tr>\n",
       "    <tr>\n",
       "      <th>3</th>\n",
       "      <td>NaN</td>\n",
       "      <td>The Corona virus is a man made virus created i...</td>\n",
       "      <td>JoanneWrightForCongress</td>\n",
       "      <td>Fake</td>\n",
       "    </tr>\n",
       "    <tr>\n",
       "      <th>4</th>\n",
       "      <td>NaN</td>\n",
       "      <td>Doesn’t @BillGates finance research at the Wuh...</td>\n",
       "      <td>JoanneWrightForCongress</td>\n",
       "      <td>Fake</td>\n",
       "    </tr>\n",
       "  </tbody>\n",
       "</table>\n",
       "</div>"
      ],
      "text/plain": [
       "                                               title  \\\n",
       "0  Due to the recent outbreak for the Coronavirus...   \n",
       "1                                                NaN   \n",
       "2                                                NaN   \n",
       "3                                                NaN   \n",
       "4                                                NaN   \n",
       "\n",
       "                                                text  \\\n",
       "0  You just need to add water, and the drugs and ...   \n",
       "1  Hydroxychloroquine has been shown to have a 10...   \n",
       "2  Fact: Hydroxychloroquine has been shown to hav...   \n",
       "3  The Corona virus is a man made virus created i...   \n",
       "4  Doesn’t @BillGates finance research at the Wuh...   \n",
       "\n",
       "                      source label  \n",
       "0  coronavirusmedicalkit.com  Fake  \n",
       "1               RudyGiuliani  Fake  \n",
       "2                CharlieKirk  Fake  \n",
       "3    JoanneWrightForCongress  Fake  \n",
       "4    JoanneWrightForCongress  Fake  "
      ]
     },
     "execution_count": 49,
     "metadata": {},
     "output_type": "execute_result"
    }
   ],
   "source": [
    "df.head()"
   ]
  },
  {
   "cell_type": "code",
   "execution_count": 50,
   "id": "69970be3",
   "metadata": {
    "scrolled": true
   },
   "outputs": [
    {
     "name": "stdout",
     "output_type": "stream",
     "text": [
      "<class 'pandas.core.frame.DataFrame'>\n",
      "RangeIndex: 1164 entries, 0 to 1163\n",
      "Data columns (total 4 columns):\n",
      " #   Column  Non-Null Count  Dtype \n",
      "---  ------  --------------  ----- \n",
      " 0   title   1082 non-null   object\n",
      " 1   text    1154 non-null   object\n",
      " 2   source  1144 non-null   object\n",
      " 3   label   1159 non-null   object\n",
      "dtypes: object(4)\n",
      "memory usage: 36.5+ KB\n"
     ]
    }
   ],
   "source": [
    "df.info()"
   ]
  },
  {
   "cell_type": "code",
   "execution_count": 51,
   "id": "7a545a39",
   "metadata": {},
   "outputs": [],
   "source": [
    "df.title.fillna('missing', inplace=True)\n",
    "df.source.fillna('missing', inplace=True)\n",
    "df.text.fillna(df.title, inplace=True)"
   ]
  },
  {
   "cell_type": "code",
   "execution_count": 52,
   "id": "014240fc",
   "metadata": {},
   "outputs": [
    {
     "data": {
      "text/plain": [
       "TRUE    584\n",
       "Fake    345\n",
       "fake    230\n",
       "Name: label, dtype: int64"
      ]
     },
     "execution_count": 52,
     "metadata": {},
     "output_type": "execute_result"
    }
   ],
   "source": [
    "df.label.value_counts()"
   ]
  },
  {
   "cell_type": "code",
   "execution_count": 53,
   "id": "99549422",
   "metadata": {
    "scrolled": true
   },
   "outputs": [
    {
     "data": {
      "text/plain": [
       "Facebook                                    49\n",
       "missing                                     20\n",
       "YouTube                                     13\n",
       "facebook                                    12\n",
       "twitter                                      8\n",
       "HealingOracle.ch                             5\n",
       "Youtube                                      5\n",
       "Tin woodman                                  2\n",
       "JoanneWrightForCongress                      2\n",
       "Instagram                                    2\n",
       "infowars.com                                 2\n",
       "gurunanda.com                                1\n",
       "www.purevitalsilver.com                      1\n",
       "coronavirusmedicalkit.com                    1\n",
       "cdc.gov                                      1\n",
       "herbalamy.com                                1\n",
       "canada.ca                                    1\n",
       "To Vaccinate Or Not To Vaccinate             1\n",
       "vivifyholistic.ca                            1\n",
       "strategic-culture.org                        1\n",
       "jimbakkershow.com                            1\n",
       "utro.ru                                      1\n",
       "fort-russ.com                                1\n",
       "Sputnik Czech                                1\n",
       "jimhumble.co                                 1\n",
       "reddit.com                                   1\n",
       "Change Your Thoughts Change Your Life        1\n",
       "zavtra.ru                                    1\n",
       "rubaltic.ru                                  1\n",
       "riafan.ru                                    1\n",
       "Evrozona                                     1\n",
       "CharlieKirk                                  1\n",
       "Ministry of Health                           1\n",
       "NWLLAB                                       1\n",
       "Japanese doctors treating COVID-19 cases     1\n",
       "Taiwan Experts                               1\n",
       "Peter Lee Goodchild                          1\n",
       " AB-TC                                       1\n",
       "Lijian Zhao                                  1\n",
       "southfront.org                               1\n",
       "Tatyana                                      1\n",
       "Olga                                         1\n",
       "Denis chernomazov                            1\n",
       "Dr. A. Sosnowski                             1\n",
       "Manik                                        1\n",
       "/cordis.europa.eu                            1\n",
       "www.rt.com                                   1\n",
       "www.who.int                                  1\n",
       "RudyGiuliani                                 1\n",
       "NTV                                          1\n",
       "ttps://www.rand.org                          1\n",
       "Name: source, dtype: int64"
      ]
     },
     "execution_count": 53,
     "metadata": {},
     "output_type": "execute_result"
    }
   ],
   "source": [
    "df.loc[~df['source'].str.contains('^http',flags = re.I, regex=True)].source.value_counts()"
   ]
  },
  {
   "cell_type": "code",
   "execution_count": 54,
   "id": "4d34ca48",
   "metadata": {},
   "outputs": [],
   "source": [
    "df.source = df.source.apply(lambda x: x.lower())"
   ]
  },
  {
   "cell_type": "code",
   "execution_count": 55,
   "id": "21801410",
   "metadata": {},
   "outputs": [
    {
     "data": {
      "text/plain": [
       "facebook            61\n",
       "missing             20\n",
       "youtube             18\n",
       "twitter              8\n",
       "healingoracle.ch     5\n",
       "Name: source, dtype: int64"
      ]
     },
     "execution_count": 55,
     "metadata": {},
     "output_type": "execute_result"
    }
   ],
   "source": [
    "df.loc[~df['source'].str.contains('^http',flags = re.I, regex=True)].source.value_counts().head()"
   ]
  },
  {
   "cell_type": "code",
   "execution_count": 56,
   "id": "426c7bd3",
   "metadata": {},
   "outputs": [
    {
     "data": {
      "text/plain": [
       "title     CORONA UNMASKED: Chinese Intelligence Officer ...\n",
       "text      CORONA UNMASKED: Chinese Intelligence Officer ...\n",
       "source                                              missing\n",
       "label                                                   NaN\n",
       "Name: 5, dtype: object"
      ]
     },
     "execution_count": 56,
     "metadata": {},
     "output_type": "execute_result"
    }
   ],
   "source": [
    "df.loc[5]"
   ]
  },
  {
   "cell_type": "code",
   "execution_count": 57,
   "id": "c681e430",
   "metadata": {},
   "outputs": [],
   "source": [
    "df.loc[5]['label'] = 'FAKE'\n",
    "df.loc[15]['label'] = 'TRUE'\n",
    "df.loc[43]['label'] = 'FAKE'\n",
    "df.loc[131]['label'] = 'TRUE'\n",
    "df.loc[242]['label'] = 'FAKE'"
   ]
  },
  {
   "cell_type": "code",
   "execution_count": 58,
   "id": "6369156e",
   "metadata": {},
   "outputs": [],
   "source": [
    "df.label = df.label.apply(lambda x: x.lower())"
   ]
  },
  {
   "cell_type": "code",
   "execution_count": 59,
   "id": "f570fd86",
   "metadata": {},
   "outputs": [
    {
     "name": "stdout",
     "output_type": "stream",
     "text": [
      "<class 'pandas.core.frame.DataFrame'>\n",
      "RangeIndex: 1164 entries, 0 to 1163\n",
      "Data columns (total 4 columns):\n",
      " #   Column  Non-Null Count  Dtype \n",
      "---  ------  --------------  ----- \n",
      " 0   title   1164 non-null   object\n",
      " 1   text    1164 non-null   object\n",
      " 2   source  1164 non-null   object\n",
      " 3   label   1164 non-null   object\n",
      "dtypes: object(4)\n",
      "memory usage: 36.5+ KB\n"
     ]
    }
   ],
   "source": [
    "df.info()"
   ]
  },
  {
   "cell_type": "code",
   "execution_count": 60,
   "id": "5097f113",
   "metadata": {},
   "outputs": [],
   "source": [
    "df['title_text'] = df['title'] + ' ' + df['text']"
   ]
  },
  {
   "cell_type": "code",
   "execution_count": 61,
   "id": "aad14cab",
   "metadata": {},
   "outputs": [
    {
     "data": {
      "text/plain": [
       "'VACCINES DON’T HEAL; THEIR PRODUCTION IS PART OF THE AGENDA FOR A NEW WORLD ORDER Cooperation instead of competition, doesn’t occur in the west. It’s all profit-driven. With a number of different vaccines from different pharma giants coming on the market, who will tell the patient which one is the best, most suitable for the patient’s condition? It smells like an utter chaotic scam.The real question is – are vaccines – or a vaccine – even necessary?  Maybe – maybe not. The production of vaccines is pushed for profit motives and for an important political agenda for a New World Order – that has been planned to change human life as we know it, or thought we knew it.Vaccines don’t heal, they may prevent the virus from hitting as hard as it might otherwise do, or not at all, depending on the age, physical and health condition of a person. Worldwide statistics show that usually a person up to the age of 40 or 50, who is infected by the COVID-19, has none or only slight symptoms, nothing to worry about.'"
      ]
     },
     "execution_count": 61,
     "metadata": {},
     "output_type": "execute_result"
    }
   ],
   "source": [
    "df = df.sample(frac=1).reset_index(drop=True)\n",
    "df['title_text'][10]"
   ]
  },
  {
   "cell_type": "code",
   "execution_count": 62,
   "id": "0714f1d3",
   "metadata": {},
   "outputs": [],
   "source": [
    "def preprocessor(text):\n",
    "    \n",
    "    text = re.sub('<[^>]*>', '', text)\n",
    "    text = re.sub(r'[^\\w\\s]','', text)\n",
    "    text = text.lower()\n",
    "\n",
    "    return text"
   ]
  },
  {
   "cell_type": "code",
   "execution_count": 63,
   "id": "e247a194",
   "metadata": {},
   "outputs": [],
   "source": [
    "df['title_text'] = df['title_text'].apply(preprocessor)"
   ]
  },
  {
   "cell_type": "code",
   "execution_count": 65,
   "id": "9acd6cc7",
   "metadata": {},
   "outputs": [
    {
     "data": {
      "text/plain": [
       "'vaccines dont heal their production is part of the agenda for a new world order cooperation instead of competition doesnt occur in the west its all profitdriven with a number of different vaccines from different pharma giants coming on the market who will tell the patient which one is the best most suitable for the patients condition it smells like an utter chaotic scamthe real question is  are vaccines  or a vaccine  even necessary  maybe  maybe not the production of vaccines is pushed for profit motives and for an important political agenda for a new world order  that has been planned to change human life as we know it or thought we knew itvaccines dont heal they may prevent the virus from hitting as hard as it might otherwise do or not at all depending on the age physical and health condition of a person worldwide statistics show that usually a person up to the age of 40 or 50 who is infected by the covid19 has none or only slight symptoms nothing to worry about'"
      ]
     },
     "execution_count": 65,
     "metadata": {},
     "output_type": "execute_result"
    }
   ],
   "source": [
    "df['title_text'][10]"
   ]
  },
  {
   "cell_type": "code",
   "execution_count": 66,
   "id": "670dc34b",
   "metadata": {},
   "outputs": [],
   "source": [
    "porter = PorterStemmer()\n",
    "\n",
    "def tokenizer_porter(text):\n",
    "    return [porter.stem(word) for word in text.split()]"
   ]
  },
  {
   "cell_type": "code",
   "execution_count": 67,
   "id": "89aa097e",
   "metadata": {},
   "outputs": [],
   "source": [
    "tfidf = TfidfVectorizer(strip_accents=None,\n",
    "                        lowercase=False,\n",
    "                        preprocessor=None,\n",
    "                        tokenizer=tokenizer_porter,\n",
    "                        use_idf=True,\n",
    "                        norm='l2',\n",
    "                        smooth_idf=True)\n",
    "X = tfidf.fit_transform(df['title_text'])\n",
    "y = df.label.values"
   ]
  },
  {
   "cell_type": "code",
   "execution_count": 94,
   "id": "d68f1906",
   "metadata": {},
   "outputs": [
    {
     "name": "stderr",
     "output_type": "stream",
     "text": [
      "[Parallel(n_jobs=-1)]: Using backend LokyBackend with 4 concurrent workers.\n",
      "[Parallel(n_jobs=-1)]: Done   2 out of   5 | elapsed:   17.1s remaining:   25.7s\n",
      "[Parallel(n_jobs=-1)]: Done   5 out of   5 | elapsed:   21.5s finished\n"
     ]
    }
   ],
   "source": [
    "X_train, X_test, y_train, y_test = train_test_split(X, y, random_state=0, test_size=0.5, shuffle=False)\n",
    "\n",
    "clf = LogisticRegressionCV(cv=5, scoring='accuracy', random_state=0, n_jobs=-1, verbose=3, max_iter=300).fit(X_train, y_train)\n",
    "\n",
    "fake_news_model = open('fake_news_model.sav', 'wb')\n",
    "pickle.dump(clf, fake_news_model)\n",
    "fake_news_model.close()"
   ]
  },
  {
   "cell_type": "code",
   "execution_count": 95,
   "id": "996cd8b1",
   "metadata": {},
   "outputs": [
    {
     "data": {
      "text/plain": [
       "0.9243986254295533"
      ]
     },
     "execution_count": 95,
     "metadata": {},
     "output_type": "execute_result"
    }
   ],
   "source": [
    "filename = 'fake_news_model.sav'\n",
    "saved_clf = pickle.load(open(filename, 'rb'))\n",
    "\n",
    "saved_clf.score(X_test, y_test)"
   ]
  },
  {
   "cell_type": "code",
   "execution_count": 96,
   "id": "eb043fc3",
   "metadata": {},
   "outputs": [
    {
     "name": "stdout",
     "output_type": "stream",
     "text": [
      "---Test Set Results---\n",
      "Accuracy with logreg: 0.9243986254295533\n",
      "              precision    recall  f1-score   support\n",
      "\n",
      "        fake       0.91      0.93      0.92       278\n",
      "        true       0.94      0.92      0.93       304\n",
      "\n",
      "    accuracy                           0.92       582\n",
      "   macro avg       0.92      0.92      0.92       582\n",
      "weighted avg       0.92      0.92      0.92       582\n",
      "\n"
     ]
    }
   ],
   "source": [
    "from sklearn.metrics import classification_report, accuracy_score\n",
    "y_pred = clf.predict(X_test)\n",
    "print(\"---Test Set Results---\")\n",
    "print(\"Accuracy with logreg: {}\".format(accuracy_score(y_test, y_pred)))\n",
    "print(classification_report(y_test, y_pred))"
   ]
  }
 ],
 "metadata": {
  "kernelspec": {
   "display_name": "Python 3.7 (tf-keras-gpu-test)",
   "language": "python",
   "name": "tf-keras-gpu-test"
  },
  "language_info": {
   "codemirror_mode": {
    "name": "ipython",
    "version": 3
   },
   "file_extension": ".py",
   "mimetype": "text/x-python",
   "name": "python",
   "nbconvert_exporter": "python",
   "pygments_lexer": "ipython3",
   "version": "3.7.11"
  }
 },
 "nbformat": 4,
 "nbformat_minor": 5
}
