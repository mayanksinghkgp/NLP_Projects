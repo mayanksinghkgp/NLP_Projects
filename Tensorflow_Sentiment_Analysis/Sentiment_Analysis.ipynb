{
  "nbformat": 4,
  "nbformat_minor": 0,
  "metadata": {
    "colab": {
      "name": "Sentiment_Analysis.ipynb",
      "provenance": []
    },
    "kernelspec": {
      "name": "python3",
      "display_name": "Python 3"
    },
    "language_info": {
      "name": "python"
    },
    "accelerator": "GPU",
    "widgets": {
      "application/vnd.jupyter.widget-state+json": {
        "26b82dd9fd884a75a2164a4f2274630b": {
          "model_module": "@jupyter-widgets/controls",
          "model_name": "HBoxModel",
          "model_module_version": "1.5.0",
          "state": {
            "_view_name": "HBoxView",
            "_dom_classes": [],
            "_model_name": "HBoxModel",
            "_view_module": "@jupyter-widgets/controls",
            "_model_module_version": "1.5.0",
            "_view_count": null,
            "_view_module_version": "1.5.0",
            "box_style": "",
            "layout": "IPY_MODEL_7ad3542e534b42ceb253b4812d49d807",
            "_model_module": "@jupyter-widgets/controls",
            "children": [
              "IPY_MODEL_90902ade673d4103bad2c2f08a5fe70a",
              "IPY_MODEL_e4213a8e82d042c08696861be1af6589",
              "IPY_MODEL_1a6c0f4f17a943219bea762c6bafbe93"
            ]
          }
        },
        "7ad3542e534b42ceb253b4812d49d807": {
          "model_module": "@jupyter-widgets/base",
          "model_name": "LayoutModel",
          "model_module_version": "1.2.0",
          "state": {
            "_view_name": "LayoutView",
            "grid_template_rows": null,
            "right": null,
            "justify_content": null,
            "_view_module": "@jupyter-widgets/base",
            "overflow": null,
            "_model_module_version": "1.2.0",
            "_view_count": null,
            "flex_flow": null,
            "width": null,
            "min_width": null,
            "border": null,
            "align_items": null,
            "bottom": null,
            "_model_module": "@jupyter-widgets/base",
            "top": null,
            "grid_column": null,
            "overflow_y": null,
            "overflow_x": null,
            "grid_auto_flow": null,
            "grid_area": null,
            "grid_template_columns": null,
            "flex": null,
            "_model_name": "LayoutModel",
            "justify_items": null,
            "grid_row": null,
            "max_height": null,
            "align_content": null,
            "visibility": null,
            "align_self": null,
            "height": null,
            "min_height": null,
            "padding": null,
            "grid_auto_rows": null,
            "grid_gap": null,
            "max_width": null,
            "order": null,
            "_view_module_version": "1.2.0",
            "grid_template_areas": null,
            "object_position": null,
            "object_fit": null,
            "grid_auto_columns": null,
            "margin": null,
            "display": null,
            "left": null
          }
        },
        "90902ade673d4103bad2c2f08a5fe70a": {
          "model_module": "@jupyter-widgets/controls",
          "model_name": "HTMLModel",
          "model_module_version": "1.5.0",
          "state": {
            "_view_name": "HTMLView",
            "style": "IPY_MODEL_5ea922eb8f704af3809a840ce83b5aa3",
            "_dom_classes": [],
            "description": "",
            "_model_name": "HTMLModel",
            "placeholder": "​",
            "_view_module": "@jupyter-widgets/controls",
            "_model_module_version": "1.5.0",
            "value": "Dl Completed...: 100%",
            "_view_count": null,
            "_view_module_version": "1.5.0",
            "description_tooltip": null,
            "_model_module": "@jupyter-widgets/controls",
            "layout": "IPY_MODEL_6be668a4a61d46e2aa268a762ea67578"
          }
        },
        "e4213a8e82d042c08696861be1af6589": {
          "model_module": "@jupyter-widgets/controls",
          "model_name": "FloatProgressModel",
          "model_module_version": "1.5.0",
          "state": {
            "_view_name": "ProgressView",
            "style": "IPY_MODEL_5dfcabc97fd1403bb1c52e0eb1d0a321",
            "_dom_classes": [],
            "description": "",
            "_model_name": "FloatProgressModel",
            "bar_style": "success",
            "max": 1,
            "_view_module": "@jupyter-widgets/controls",
            "_model_module_version": "1.5.0",
            "value": 1,
            "_view_count": null,
            "_view_module_version": "1.5.0",
            "orientation": "horizontal",
            "min": 0,
            "description_tooltip": null,
            "_model_module": "@jupyter-widgets/controls",
            "layout": "IPY_MODEL_d994564218e24276beb3ae686af7e5a2"
          }
        },
        "1a6c0f4f17a943219bea762c6bafbe93": {
          "model_module": "@jupyter-widgets/controls",
          "model_name": "HTMLModel",
          "model_module_version": "1.5.0",
          "state": {
            "_view_name": "HTMLView",
            "style": "IPY_MODEL_9577e0cd53ad4ce39ae059bfe7f3ceed",
            "_dom_classes": [],
            "description": "",
            "_model_name": "HTMLModel",
            "placeholder": "​",
            "_view_module": "@jupyter-widgets/controls",
            "_model_module_version": "1.5.0",
            "value": " 1/1 [00:02&lt;00:00,  1.51s/ url]",
            "_view_count": null,
            "_view_module_version": "1.5.0",
            "description_tooltip": null,
            "_model_module": "@jupyter-widgets/controls",
            "layout": "IPY_MODEL_8c94d583cd7d4e6c9478d416132bba68"
          }
        },
        "5ea922eb8f704af3809a840ce83b5aa3": {
          "model_module": "@jupyter-widgets/controls",
          "model_name": "DescriptionStyleModel",
          "model_module_version": "1.5.0",
          "state": {
            "_view_name": "StyleView",
            "_model_name": "DescriptionStyleModel",
            "description_width": "",
            "_view_module": "@jupyter-widgets/base",
            "_model_module_version": "1.5.0",
            "_view_count": null,
            "_view_module_version": "1.2.0",
            "_model_module": "@jupyter-widgets/controls"
          }
        },
        "6be668a4a61d46e2aa268a762ea67578": {
          "model_module": "@jupyter-widgets/base",
          "model_name": "LayoutModel",
          "model_module_version": "1.2.0",
          "state": {
            "_view_name": "LayoutView",
            "grid_template_rows": null,
            "right": null,
            "justify_content": null,
            "_view_module": "@jupyter-widgets/base",
            "overflow": null,
            "_model_module_version": "1.2.0",
            "_view_count": null,
            "flex_flow": null,
            "width": null,
            "min_width": null,
            "border": null,
            "align_items": null,
            "bottom": null,
            "_model_module": "@jupyter-widgets/base",
            "top": null,
            "grid_column": null,
            "overflow_y": null,
            "overflow_x": null,
            "grid_auto_flow": null,
            "grid_area": null,
            "grid_template_columns": null,
            "flex": null,
            "_model_name": "LayoutModel",
            "justify_items": null,
            "grid_row": null,
            "max_height": null,
            "align_content": null,
            "visibility": null,
            "align_self": null,
            "height": null,
            "min_height": null,
            "padding": null,
            "grid_auto_rows": null,
            "grid_gap": null,
            "max_width": null,
            "order": null,
            "_view_module_version": "1.2.0",
            "grid_template_areas": null,
            "object_position": null,
            "object_fit": null,
            "grid_auto_columns": null,
            "margin": null,
            "display": null,
            "left": null
          }
        },
        "5dfcabc97fd1403bb1c52e0eb1d0a321": {
          "model_module": "@jupyter-widgets/controls",
          "model_name": "ProgressStyleModel",
          "model_module_version": "1.5.0",
          "state": {
            "_view_name": "StyleView",
            "_model_name": "ProgressStyleModel",
            "description_width": "",
            "_view_module": "@jupyter-widgets/base",
            "_model_module_version": "1.5.0",
            "_view_count": null,
            "_view_module_version": "1.2.0",
            "bar_color": null,
            "_model_module": "@jupyter-widgets/controls"
          }
        },
        "d994564218e24276beb3ae686af7e5a2": {
          "model_module": "@jupyter-widgets/base",
          "model_name": "LayoutModel",
          "model_module_version": "1.2.0",
          "state": {
            "_view_name": "LayoutView",
            "grid_template_rows": null,
            "right": null,
            "justify_content": null,
            "_view_module": "@jupyter-widgets/base",
            "overflow": null,
            "_model_module_version": "1.2.0",
            "_view_count": null,
            "flex_flow": null,
            "width": "20px",
            "min_width": null,
            "border": null,
            "align_items": null,
            "bottom": null,
            "_model_module": "@jupyter-widgets/base",
            "top": null,
            "grid_column": null,
            "overflow_y": null,
            "overflow_x": null,
            "grid_auto_flow": null,
            "grid_area": null,
            "grid_template_columns": null,
            "flex": null,
            "_model_name": "LayoutModel",
            "justify_items": null,
            "grid_row": null,
            "max_height": null,
            "align_content": null,
            "visibility": null,
            "align_self": null,
            "height": null,
            "min_height": null,
            "padding": null,
            "grid_auto_rows": null,
            "grid_gap": null,
            "max_width": null,
            "order": null,
            "_view_module_version": "1.2.0",
            "grid_template_areas": null,
            "object_position": null,
            "object_fit": null,
            "grid_auto_columns": null,
            "margin": null,
            "display": null,
            "left": null
          }
        },
        "9577e0cd53ad4ce39ae059bfe7f3ceed": {
          "model_module": "@jupyter-widgets/controls",
          "model_name": "DescriptionStyleModel",
          "model_module_version": "1.5.0",
          "state": {
            "_view_name": "StyleView",
            "_model_name": "DescriptionStyleModel",
            "description_width": "",
            "_view_module": "@jupyter-widgets/base",
            "_model_module_version": "1.5.0",
            "_view_count": null,
            "_view_module_version": "1.2.0",
            "_model_module": "@jupyter-widgets/controls"
          }
        },
        "8c94d583cd7d4e6c9478d416132bba68": {
          "model_module": "@jupyter-widgets/base",
          "model_name": "LayoutModel",
          "model_module_version": "1.2.0",
          "state": {
            "_view_name": "LayoutView",
            "grid_template_rows": null,
            "right": null,
            "justify_content": null,
            "_view_module": "@jupyter-widgets/base",
            "overflow": null,
            "_model_module_version": "1.2.0",
            "_view_count": null,
            "flex_flow": null,
            "width": null,
            "min_width": null,
            "border": null,
            "align_items": null,
            "bottom": null,
            "_model_module": "@jupyter-widgets/base",
            "top": null,
            "grid_column": null,
            "overflow_y": null,
            "overflow_x": null,
            "grid_auto_flow": null,
            "grid_area": null,
            "grid_template_columns": null,
            "flex": null,
            "_model_name": "LayoutModel",
            "justify_items": null,
            "grid_row": null,
            "max_height": null,
            "align_content": null,
            "visibility": null,
            "align_self": null,
            "height": null,
            "min_height": null,
            "padding": null,
            "grid_auto_rows": null,
            "grid_gap": null,
            "max_width": null,
            "order": null,
            "_view_module_version": "1.2.0",
            "grid_template_areas": null,
            "object_position": null,
            "object_fit": null,
            "grid_auto_columns": null,
            "margin": null,
            "display": null,
            "left": null
          }
        },
        "99cf225fe1694f8493f4e1d4a7a75ed8": {
          "model_module": "@jupyter-widgets/controls",
          "model_name": "HBoxModel",
          "model_module_version": "1.5.0",
          "state": {
            "_view_name": "HBoxView",
            "_dom_classes": [],
            "_model_name": "HBoxModel",
            "_view_module": "@jupyter-widgets/controls",
            "_model_module_version": "1.5.0",
            "_view_count": null,
            "_view_module_version": "1.5.0",
            "box_style": "",
            "layout": "IPY_MODEL_37ee452fe6ce4332992c2ab06b2abaa9",
            "_model_module": "@jupyter-widgets/controls",
            "children": [
              "IPY_MODEL_c8d41fc656494ede9955070353fefe7d",
              "IPY_MODEL_490fa72064b249c5b87b0166e5699b89",
              "IPY_MODEL_4e45685dac644b6b95d86a23c04889c8"
            ]
          }
        },
        "37ee452fe6ce4332992c2ab06b2abaa9": {
          "model_module": "@jupyter-widgets/base",
          "model_name": "LayoutModel",
          "model_module_version": "1.2.0",
          "state": {
            "_view_name": "LayoutView",
            "grid_template_rows": null,
            "right": null,
            "justify_content": null,
            "_view_module": "@jupyter-widgets/base",
            "overflow": null,
            "_model_module_version": "1.2.0",
            "_view_count": null,
            "flex_flow": null,
            "width": null,
            "min_width": null,
            "border": null,
            "align_items": null,
            "bottom": null,
            "_model_module": "@jupyter-widgets/base",
            "top": null,
            "grid_column": null,
            "overflow_y": null,
            "overflow_x": null,
            "grid_auto_flow": null,
            "grid_area": null,
            "grid_template_columns": null,
            "flex": null,
            "_model_name": "LayoutModel",
            "justify_items": null,
            "grid_row": null,
            "max_height": null,
            "align_content": null,
            "visibility": null,
            "align_self": null,
            "height": null,
            "min_height": null,
            "padding": null,
            "grid_auto_rows": null,
            "grid_gap": null,
            "max_width": null,
            "order": null,
            "_view_module_version": "1.2.0",
            "grid_template_areas": null,
            "object_position": null,
            "object_fit": null,
            "grid_auto_columns": null,
            "margin": null,
            "display": null,
            "left": null
          }
        },
        "c8d41fc656494ede9955070353fefe7d": {
          "model_module": "@jupyter-widgets/controls",
          "model_name": "HTMLModel",
          "model_module_version": "1.5.0",
          "state": {
            "_view_name": "HTMLView",
            "style": "IPY_MODEL_fd57da31a65b4286bdfb0959daef9b76",
            "_dom_classes": [],
            "description": "",
            "_model_name": "HTMLModel",
            "placeholder": "​",
            "_view_module": "@jupyter-widgets/controls",
            "_model_module_version": "1.5.0",
            "value": "Dl Size...: 100%",
            "_view_count": null,
            "_view_module_version": "1.5.0",
            "description_tooltip": null,
            "_model_module": "@jupyter-widgets/controls",
            "layout": "IPY_MODEL_1af28de52dfa4426a8bb2f80aa17b467"
          }
        },
        "490fa72064b249c5b87b0166e5699b89": {
          "model_module": "@jupyter-widgets/controls",
          "model_name": "FloatProgressModel",
          "model_module_version": "1.5.0",
          "state": {
            "_view_name": "ProgressView",
            "style": "IPY_MODEL_dcbfb75868834bbeb8c053d1fff75a6e",
            "_dom_classes": [],
            "description": "",
            "_model_name": "FloatProgressModel",
            "bar_style": "success",
            "max": 1,
            "_view_module": "@jupyter-widgets/controls",
            "_model_module_version": "1.5.0",
            "value": 1,
            "_view_count": null,
            "_view_module_version": "1.5.0",
            "orientation": "horizontal",
            "min": 0,
            "description_tooltip": null,
            "_model_module": "@jupyter-widgets/controls",
            "layout": "IPY_MODEL_dbd9f06be4ec4ed9bbb0cb7afb092e6a"
          }
        },
        "4e45685dac644b6b95d86a23c04889c8": {
          "model_module": "@jupyter-widgets/controls",
          "model_name": "HTMLModel",
          "model_module_version": "1.5.0",
          "state": {
            "_view_name": "HTMLView",
            "style": "IPY_MODEL_26c8a9cdaf104652ae554ed8b21c9466",
            "_dom_classes": [],
            "description": "",
            "_model_name": "HTMLModel",
            "placeholder": "​",
            "_view_module": "@jupyter-widgets/controls",
            "_model_module_version": "1.5.0",
            "value": " 21/21 [00:02&lt;00:00, 24.54 MiB/s]",
            "_view_count": null,
            "_view_module_version": "1.5.0",
            "description_tooltip": null,
            "_model_module": "@jupyter-widgets/controls",
            "layout": "IPY_MODEL_3c7b691e32b2413185ad7b7a8bbfb977"
          }
        },
        "fd57da31a65b4286bdfb0959daef9b76": {
          "model_module": "@jupyter-widgets/controls",
          "model_name": "DescriptionStyleModel",
          "model_module_version": "1.5.0",
          "state": {
            "_view_name": "StyleView",
            "_model_name": "DescriptionStyleModel",
            "description_width": "",
            "_view_module": "@jupyter-widgets/base",
            "_model_module_version": "1.5.0",
            "_view_count": null,
            "_view_module_version": "1.2.0",
            "_model_module": "@jupyter-widgets/controls"
          }
        },
        "1af28de52dfa4426a8bb2f80aa17b467": {
          "model_module": "@jupyter-widgets/base",
          "model_name": "LayoutModel",
          "model_module_version": "1.2.0",
          "state": {
            "_view_name": "LayoutView",
            "grid_template_rows": null,
            "right": null,
            "justify_content": null,
            "_view_module": "@jupyter-widgets/base",
            "overflow": null,
            "_model_module_version": "1.2.0",
            "_view_count": null,
            "flex_flow": null,
            "width": null,
            "min_width": null,
            "border": null,
            "align_items": null,
            "bottom": null,
            "_model_module": "@jupyter-widgets/base",
            "top": null,
            "grid_column": null,
            "overflow_y": null,
            "overflow_x": null,
            "grid_auto_flow": null,
            "grid_area": null,
            "grid_template_columns": null,
            "flex": null,
            "_model_name": "LayoutModel",
            "justify_items": null,
            "grid_row": null,
            "max_height": null,
            "align_content": null,
            "visibility": null,
            "align_self": null,
            "height": null,
            "min_height": null,
            "padding": null,
            "grid_auto_rows": null,
            "grid_gap": null,
            "max_width": null,
            "order": null,
            "_view_module_version": "1.2.0",
            "grid_template_areas": null,
            "object_position": null,
            "object_fit": null,
            "grid_auto_columns": null,
            "margin": null,
            "display": null,
            "left": null
          }
        },
        "dcbfb75868834bbeb8c053d1fff75a6e": {
          "model_module": "@jupyter-widgets/controls",
          "model_name": "ProgressStyleModel",
          "model_module_version": "1.5.0",
          "state": {
            "_view_name": "StyleView",
            "_model_name": "ProgressStyleModel",
            "description_width": "",
            "_view_module": "@jupyter-widgets/base",
            "_model_module_version": "1.5.0",
            "_view_count": null,
            "_view_module_version": "1.2.0",
            "bar_color": null,
            "_model_module": "@jupyter-widgets/controls"
          }
        },
        "dbd9f06be4ec4ed9bbb0cb7afb092e6a": {
          "model_module": "@jupyter-widgets/base",
          "model_name": "LayoutModel",
          "model_module_version": "1.2.0",
          "state": {
            "_view_name": "LayoutView",
            "grid_template_rows": null,
            "right": null,
            "justify_content": null,
            "_view_module": "@jupyter-widgets/base",
            "overflow": null,
            "_model_module_version": "1.2.0",
            "_view_count": null,
            "flex_flow": null,
            "width": "20px",
            "min_width": null,
            "border": null,
            "align_items": null,
            "bottom": null,
            "_model_module": "@jupyter-widgets/base",
            "top": null,
            "grid_column": null,
            "overflow_y": null,
            "overflow_x": null,
            "grid_auto_flow": null,
            "grid_area": null,
            "grid_template_columns": null,
            "flex": null,
            "_model_name": "LayoutModel",
            "justify_items": null,
            "grid_row": null,
            "max_height": null,
            "align_content": null,
            "visibility": null,
            "align_self": null,
            "height": null,
            "min_height": null,
            "padding": null,
            "grid_auto_rows": null,
            "grid_gap": null,
            "max_width": null,
            "order": null,
            "_view_module_version": "1.2.0",
            "grid_template_areas": null,
            "object_position": null,
            "object_fit": null,
            "grid_auto_columns": null,
            "margin": null,
            "display": null,
            "left": null
          }
        },
        "26c8a9cdaf104652ae554ed8b21c9466": {
          "model_module": "@jupyter-widgets/controls",
          "model_name": "DescriptionStyleModel",
          "model_module_version": "1.5.0",
          "state": {
            "_view_name": "StyleView",
            "_model_name": "DescriptionStyleModel",
            "description_width": "",
            "_view_module": "@jupyter-widgets/base",
            "_model_module_version": "1.5.0",
            "_view_count": null,
            "_view_module_version": "1.2.0",
            "_model_module": "@jupyter-widgets/controls"
          }
        },
        "3c7b691e32b2413185ad7b7a8bbfb977": {
          "model_module": "@jupyter-widgets/base",
          "model_name": "LayoutModel",
          "model_module_version": "1.2.0",
          "state": {
            "_view_name": "LayoutView",
            "grid_template_rows": null,
            "right": null,
            "justify_content": null,
            "_view_module": "@jupyter-widgets/base",
            "overflow": null,
            "_model_module_version": "1.2.0",
            "_view_count": null,
            "flex_flow": null,
            "width": null,
            "min_width": null,
            "border": null,
            "align_items": null,
            "bottom": null,
            "_model_module": "@jupyter-widgets/base",
            "top": null,
            "grid_column": null,
            "overflow_y": null,
            "overflow_x": null,
            "grid_auto_flow": null,
            "grid_area": null,
            "grid_template_columns": null,
            "flex": null,
            "_model_name": "LayoutModel",
            "justify_items": null,
            "grid_row": null,
            "max_height": null,
            "align_content": null,
            "visibility": null,
            "align_self": null,
            "height": null,
            "min_height": null,
            "padding": null,
            "grid_auto_rows": null,
            "grid_gap": null,
            "max_width": null,
            "order": null,
            "_view_module_version": "1.2.0",
            "grid_template_areas": null,
            "object_position": null,
            "object_fit": null,
            "grid_auto_columns": null,
            "margin": null,
            "display": null,
            "left": null
          }
        },
        "d264bd7270e54b9a93e9f6574d1e5f07": {
          "model_module": "@jupyter-widgets/controls",
          "model_name": "HBoxModel",
          "model_module_version": "1.5.0",
          "state": {
            "_view_name": "HBoxView",
            "_dom_classes": [],
            "_model_name": "HBoxModel",
            "_view_module": "@jupyter-widgets/controls",
            "_model_module_version": "1.5.0",
            "_view_count": null,
            "_view_module_version": "1.5.0",
            "box_style": "",
            "layout": "IPY_MODEL_ac1a8cde19824fa9a6e84897385381a1",
            "_model_module": "@jupyter-widgets/controls",
            "children": [
              "IPY_MODEL_86fd49ceeba74c46ad6d7d65baa77262",
              "IPY_MODEL_57173bee828d43848d1af652a255fe87",
              "IPY_MODEL_7af60c1bed7e4188b086d948f84afecb"
            ]
          }
        },
        "ac1a8cde19824fa9a6e84897385381a1": {
          "model_module": "@jupyter-widgets/base",
          "model_name": "LayoutModel",
          "model_module_version": "1.2.0",
          "state": {
            "_view_name": "LayoutView",
            "grid_template_rows": null,
            "right": null,
            "justify_content": null,
            "_view_module": "@jupyter-widgets/base",
            "overflow": null,
            "_model_module_version": "1.2.0",
            "_view_count": null,
            "flex_flow": null,
            "width": null,
            "min_width": null,
            "border": null,
            "align_items": null,
            "bottom": null,
            "_model_module": "@jupyter-widgets/base",
            "top": null,
            "grid_column": null,
            "overflow_y": null,
            "overflow_x": null,
            "grid_auto_flow": null,
            "grid_area": null,
            "grid_template_columns": null,
            "flex": null,
            "_model_name": "LayoutModel",
            "justify_items": null,
            "grid_row": null,
            "max_height": null,
            "align_content": null,
            "visibility": null,
            "align_self": null,
            "height": null,
            "min_height": null,
            "padding": null,
            "grid_auto_rows": null,
            "grid_gap": null,
            "max_width": null,
            "order": null,
            "_view_module_version": "1.2.0",
            "grid_template_areas": null,
            "object_position": null,
            "object_fit": null,
            "grid_auto_columns": null,
            "margin": null,
            "display": null,
            "left": null
          }
        },
        "86fd49ceeba74c46ad6d7d65baa77262": {
          "model_module": "@jupyter-widgets/controls",
          "model_name": "HTMLModel",
          "model_module_version": "1.5.0",
          "state": {
            "_view_name": "HTMLView",
            "style": "IPY_MODEL_f979d3cf9390434dbc7cfb70f89a63af",
            "_dom_classes": [],
            "description": "",
            "_model_name": "HTMLModel",
            "placeholder": "​",
            "_view_module": "@jupyter-widgets/controls",
            "_model_module_version": "1.5.0",
            "value": "Extraction completed...: 100%",
            "_view_count": null,
            "_view_module_version": "1.5.0",
            "description_tooltip": null,
            "_model_module": "@jupyter-widgets/controls",
            "layout": "IPY_MODEL_5a4a83e1ba4447d2a69d488dcc1223c7"
          }
        },
        "57173bee828d43848d1af652a255fe87": {
          "model_module": "@jupyter-widgets/controls",
          "model_name": "FloatProgressModel",
          "model_module_version": "1.5.0",
          "state": {
            "_view_name": "ProgressView",
            "style": "IPY_MODEL_c5badf41ee354a0aa9bdad5a235ec179",
            "_dom_classes": [],
            "description": "",
            "_model_name": "FloatProgressModel",
            "bar_style": "success",
            "max": 1,
            "_view_module": "@jupyter-widgets/controls",
            "_model_module_version": "1.5.0",
            "value": 1,
            "_view_count": null,
            "_view_module_version": "1.5.0",
            "orientation": "horizontal",
            "min": 0,
            "description_tooltip": null,
            "_model_module": "@jupyter-widgets/controls",
            "layout": "IPY_MODEL_57f54b47963c43d8af4e51d7223d8ec9"
          }
        },
        "7af60c1bed7e4188b086d948f84afecb": {
          "model_module": "@jupyter-widgets/controls",
          "model_name": "HTMLModel",
          "model_module_version": "1.5.0",
          "state": {
            "_view_name": "HTMLView",
            "style": "IPY_MODEL_de1f2652ce7c4a9d9b5c3174b0fc2905",
            "_dom_classes": [],
            "description": "",
            "_model_name": "HTMLModel",
            "placeholder": "​",
            "_view_module": "@jupyter-widgets/controls",
            "_model_module_version": "1.5.0",
            "value": " 1/1 [00:02&lt;00:00,  2.10s/ file]",
            "_view_count": null,
            "_view_module_version": "1.5.0",
            "description_tooltip": null,
            "_model_module": "@jupyter-widgets/controls",
            "layout": "IPY_MODEL_ef1b8ec1237f4bcbb2e6e6060a79cb59"
          }
        },
        "f979d3cf9390434dbc7cfb70f89a63af": {
          "model_module": "@jupyter-widgets/controls",
          "model_name": "DescriptionStyleModel",
          "model_module_version": "1.5.0",
          "state": {
            "_view_name": "StyleView",
            "_model_name": "DescriptionStyleModel",
            "description_width": "",
            "_view_module": "@jupyter-widgets/base",
            "_model_module_version": "1.5.0",
            "_view_count": null,
            "_view_module_version": "1.2.0",
            "_model_module": "@jupyter-widgets/controls"
          }
        },
        "5a4a83e1ba4447d2a69d488dcc1223c7": {
          "model_module": "@jupyter-widgets/base",
          "model_name": "LayoutModel",
          "model_module_version": "1.2.0",
          "state": {
            "_view_name": "LayoutView",
            "grid_template_rows": null,
            "right": null,
            "justify_content": null,
            "_view_module": "@jupyter-widgets/base",
            "overflow": null,
            "_model_module_version": "1.2.0",
            "_view_count": null,
            "flex_flow": null,
            "width": null,
            "min_width": null,
            "border": null,
            "align_items": null,
            "bottom": null,
            "_model_module": "@jupyter-widgets/base",
            "top": null,
            "grid_column": null,
            "overflow_y": null,
            "overflow_x": null,
            "grid_auto_flow": null,
            "grid_area": null,
            "grid_template_columns": null,
            "flex": null,
            "_model_name": "LayoutModel",
            "justify_items": null,
            "grid_row": null,
            "max_height": null,
            "align_content": null,
            "visibility": null,
            "align_self": null,
            "height": null,
            "min_height": null,
            "padding": null,
            "grid_auto_rows": null,
            "grid_gap": null,
            "max_width": null,
            "order": null,
            "_view_module_version": "1.2.0",
            "grid_template_areas": null,
            "object_position": null,
            "object_fit": null,
            "grid_auto_columns": null,
            "margin": null,
            "display": null,
            "left": null
          }
        },
        "c5badf41ee354a0aa9bdad5a235ec179": {
          "model_module": "@jupyter-widgets/controls",
          "model_name": "ProgressStyleModel",
          "model_module_version": "1.5.0",
          "state": {
            "_view_name": "StyleView",
            "_model_name": "ProgressStyleModel",
            "description_width": "",
            "_view_module": "@jupyter-widgets/base",
            "_model_module_version": "1.5.0",
            "_view_count": null,
            "_view_module_version": "1.2.0",
            "bar_color": null,
            "_model_module": "@jupyter-widgets/controls"
          }
        },
        "57f54b47963c43d8af4e51d7223d8ec9": {
          "model_module": "@jupyter-widgets/base",
          "model_name": "LayoutModel",
          "model_module_version": "1.2.0",
          "state": {
            "_view_name": "LayoutView",
            "grid_template_rows": null,
            "right": null,
            "justify_content": null,
            "_view_module": "@jupyter-widgets/base",
            "overflow": null,
            "_model_module_version": "1.2.0",
            "_view_count": null,
            "flex_flow": null,
            "width": "20px",
            "min_width": null,
            "border": null,
            "align_items": null,
            "bottom": null,
            "_model_module": "@jupyter-widgets/base",
            "top": null,
            "grid_column": null,
            "overflow_y": null,
            "overflow_x": null,
            "grid_auto_flow": null,
            "grid_area": null,
            "grid_template_columns": null,
            "flex": null,
            "_model_name": "LayoutModel",
            "justify_items": null,
            "grid_row": null,
            "max_height": null,
            "align_content": null,
            "visibility": null,
            "align_self": null,
            "height": null,
            "min_height": null,
            "padding": null,
            "grid_auto_rows": null,
            "grid_gap": null,
            "max_width": null,
            "order": null,
            "_view_module_version": "1.2.0",
            "grid_template_areas": null,
            "object_position": null,
            "object_fit": null,
            "grid_auto_columns": null,
            "margin": null,
            "display": null,
            "left": null
          }
        },
        "de1f2652ce7c4a9d9b5c3174b0fc2905": {
          "model_module": "@jupyter-widgets/controls",
          "model_name": "DescriptionStyleModel",
          "model_module_version": "1.5.0",
          "state": {
            "_view_name": "StyleView",
            "_model_name": "DescriptionStyleModel",
            "description_width": "",
            "_view_module": "@jupyter-widgets/base",
            "_model_module_version": "1.5.0",
            "_view_count": null,
            "_view_module_version": "1.2.0",
            "_model_module": "@jupyter-widgets/controls"
          }
        },
        "ef1b8ec1237f4bcbb2e6e6060a79cb59": {
          "model_module": "@jupyter-widgets/base",
          "model_name": "LayoutModel",
          "model_module_version": "1.2.0",
          "state": {
            "_view_name": "LayoutView",
            "grid_template_rows": null,
            "right": null,
            "justify_content": null,
            "_view_module": "@jupyter-widgets/base",
            "overflow": null,
            "_model_module_version": "1.2.0",
            "_view_count": null,
            "flex_flow": null,
            "width": null,
            "min_width": null,
            "border": null,
            "align_items": null,
            "bottom": null,
            "_model_module": "@jupyter-widgets/base",
            "top": null,
            "grid_column": null,
            "overflow_y": null,
            "overflow_x": null,
            "grid_auto_flow": null,
            "grid_area": null,
            "grid_template_columns": null,
            "flex": null,
            "_model_name": "LayoutModel",
            "justify_items": null,
            "grid_row": null,
            "max_height": null,
            "align_content": null,
            "visibility": null,
            "align_self": null,
            "height": null,
            "min_height": null,
            "padding": null,
            "grid_auto_rows": null,
            "grid_gap": null,
            "max_width": null,
            "order": null,
            "_view_module_version": "1.2.0",
            "grid_template_areas": null,
            "object_position": null,
            "object_fit": null,
            "grid_auto_columns": null,
            "margin": null,
            "display": null,
            "left": null
          }
        },
        "3caf6613082844e8b3fb661825829400": {
          "model_module": "@jupyter-widgets/controls",
          "model_name": "HBoxModel",
          "model_module_version": "1.5.0",
          "state": {
            "_view_name": "HBoxView",
            "_dom_classes": [],
            "_model_name": "HBoxModel",
            "_view_module": "@jupyter-widgets/controls",
            "_model_module_version": "1.5.0",
            "_view_count": null,
            "_view_module_version": "1.5.0",
            "box_style": "",
            "layout": "IPY_MODEL_a5bb8ef7486b4404b7af75b79894ccd0",
            "_model_module": "@jupyter-widgets/controls",
            "children": [
              "IPY_MODEL_ac38a57c49c64591a3dc695213370e9e",
              "IPY_MODEL_000f58ac43534f888298528d1e5b3434",
              "IPY_MODEL_e948d9538ca543df86af2a9cc15d5c7a"
            ]
          }
        },
        "a5bb8ef7486b4404b7af75b79894ccd0": {
          "model_module": "@jupyter-widgets/base",
          "model_name": "LayoutModel",
          "model_module_version": "1.2.0",
          "state": {
            "_view_name": "LayoutView",
            "grid_template_rows": null,
            "right": null,
            "justify_content": null,
            "_view_module": "@jupyter-widgets/base",
            "overflow": null,
            "_model_module_version": "1.2.0",
            "_view_count": null,
            "flex_flow": null,
            "width": null,
            "min_width": null,
            "border": null,
            "align_items": null,
            "bottom": null,
            "_model_module": "@jupyter-widgets/base",
            "top": null,
            "grid_column": null,
            "overflow_y": null,
            "overflow_x": null,
            "grid_auto_flow": null,
            "grid_area": null,
            "grid_template_columns": null,
            "flex": null,
            "_model_name": "LayoutModel",
            "justify_items": null,
            "grid_row": null,
            "max_height": null,
            "align_content": null,
            "visibility": null,
            "align_self": null,
            "height": null,
            "min_height": null,
            "padding": null,
            "grid_auto_rows": null,
            "grid_gap": null,
            "max_width": null,
            "order": null,
            "_view_module_version": "1.2.0",
            "grid_template_areas": null,
            "object_position": null,
            "object_fit": null,
            "grid_auto_columns": null,
            "margin": null,
            "display": null,
            "left": null
          }
        },
        "ac38a57c49c64591a3dc695213370e9e": {
          "model_module": "@jupyter-widgets/controls",
          "model_name": "HTMLModel",
          "model_module_version": "1.5.0",
          "state": {
            "_view_name": "HTMLView",
            "style": "IPY_MODEL_c794162a22fb4c4e90656d92f9f3b96b",
            "_dom_classes": [],
            "description": "",
            "_model_name": "HTMLModel",
            "placeholder": "​",
            "_view_module": "@jupyter-widgets/controls",
            "_model_module_version": "1.5.0",
            "value": "",
            "_view_count": null,
            "_view_module_version": "1.5.0",
            "description_tooltip": null,
            "_model_module": "@jupyter-widgets/controls",
            "layout": "IPY_MODEL_328b3052286049bba7edba610fa3d751"
          }
        },
        "000f58ac43534f888298528d1e5b3434": {
          "model_module": "@jupyter-widgets/controls",
          "model_name": "FloatProgressModel",
          "model_module_version": "1.5.0",
          "state": {
            "_view_name": "ProgressView",
            "style": "IPY_MODEL_21cdaee5951843268b9e81a0a932ab55",
            "_dom_classes": [],
            "description": "",
            "_model_name": "FloatProgressModel",
            "bar_style": "info",
            "max": 1,
            "_view_module": "@jupyter-widgets/controls",
            "_model_module_version": "1.5.0",
            "value": 1,
            "_view_count": null,
            "_view_module_version": "1.5.0",
            "orientation": "horizontal",
            "min": 0,
            "description_tooltip": null,
            "_model_module": "@jupyter-widgets/controls",
            "layout": "IPY_MODEL_7d77ffa423b6477b93d879b414e36b6e"
          }
        },
        "e948d9538ca543df86af2a9cc15d5c7a": {
          "model_module": "@jupyter-widgets/controls",
          "model_name": "HTMLModel",
          "model_module_version": "1.5.0",
          "state": {
            "_view_name": "HTMLView",
            "style": "IPY_MODEL_cb98ae0692cd480397518aab93121ee4",
            "_dom_classes": [],
            "description": "",
            "_model_name": "HTMLModel",
            "placeholder": "​",
            "_view_module": "@jupyter-widgets/controls",
            "_model_module_version": "1.5.0",
            "value": " 104961/0 [02:36&lt;00:00, 648.68 examples/s]",
            "_view_count": null,
            "_view_module_version": "1.5.0",
            "description_tooltip": null,
            "_model_module": "@jupyter-widgets/controls",
            "layout": "IPY_MODEL_7586fc698f444a438f379f2591f9bf9c"
          }
        },
        "c794162a22fb4c4e90656d92f9f3b96b": {
          "model_module": "@jupyter-widgets/controls",
          "model_name": "DescriptionStyleModel",
          "model_module_version": "1.5.0",
          "state": {
            "_view_name": "StyleView",
            "_model_name": "DescriptionStyleModel",
            "description_width": "",
            "_view_module": "@jupyter-widgets/base",
            "_model_module_version": "1.5.0",
            "_view_count": null,
            "_view_module_version": "1.2.0",
            "_model_module": "@jupyter-widgets/controls"
          }
        },
        "328b3052286049bba7edba610fa3d751": {
          "model_module": "@jupyter-widgets/base",
          "model_name": "LayoutModel",
          "model_module_version": "1.2.0",
          "state": {
            "_view_name": "LayoutView",
            "grid_template_rows": null,
            "right": null,
            "justify_content": null,
            "_view_module": "@jupyter-widgets/base",
            "overflow": null,
            "_model_module_version": "1.2.0",
            "_view_count": null,
            "flex_flow": null,
            "width": null,
            "min_width": null,
            "border": null,
            "align_items": null,
            "bottom": null,
            "_model_module": "@jupyter-widgets/base",
            "top": null,
            "grid_column": null,
            "overflow_y": null,
            "overflow_x": null,
            "grid_auto_flow": null,
            "grid_area": null,
            "grid_template_columns": null,
            "flex": null,
            "_model_name": "LayoutModel",
            "justify_items": null,
            "grid_row": null,
            "max_height": null,
            "align_content": null,
            "visibility": null,
            "align_self": null,
            "height": null,
            "min_height": null,
            "padding": null,
            "grid_auto_rows": null,
            "grid_gap": null,
            "max_width": null,
            "order": null,
            "_view_module_version": "1.2.0",
            "grid_template_areas": null,
            "object_position": null,
            "object_fit": null,
            "grid_auto_columns": null,
            "margin": null,
            "display": null,
            "left": null
          }
        },
        "21cdaee5951843268b9e81a0a932ab55": {
          "model_module": "@jupyter-widgets/controls",
          "model_name": "ProgressStyleModel",
          "model_module_version": "1.5.0",
          "state": {
            "_view_name": "StyleView",
            "_model_name": "ProgressStyleModel",
            "description_width": "",
            "_view_module": "@jupyter-widgets/base",
            "_model_module_version": "1.5.0",
            "_view_count": null,
            "_view_module_version": "1.2.0",
            "bar_color": null,
            "_model_module": "@jupyter-widgets/controls"
          }
        },
        "7d77ffa423b6477b93d879b414e36b6e": {
          "model_module": "@jupyter-widgets/base",
          "model_name": "LayoutModel",
          "model_module_version": "1.2.0",
          "state": {
            "_view_name": "LayoutView",
            "grid_template_rows": null,
            "right": null,
            "justify_content": null,
            "_view_module": "@jupyter-widgets/base",
            "overflow": null,
            "_model_module_version": "1.2.0",
            "_view_count": null,
            "flex_flow": null,
            "width": "20px",
            "min_width": null,
            "border": null,
            "align_items": null,
            "bottom": null,
            "_model_module": "@jupyter-widgets/base",
            "top": null,
            "grid_column": null,
            "overflow_y": null,
            "overflow_x": null,
            "grid_auto_flow": null,
            "grid_area": null,
            "grid_template_columns": null,
            "flex": null,
            "_model_name": "LayoutModel",
            "justify_items": null,
            "grid_row": null,
            "max_height": null,
            "align_content": null,
            "visibility": null,
            "align_self": null,
            "height": null,
            "min_height": null,
            "padding": null,
            "grid_auto_rows": null,
            "grid_gap": null,
            "max_width": null,
            "order": null,
            "_view_module_version": "1.2.0",
            "grid_template_areas": null,
            "object_position": null,
            "object_fit": null,
            "grid_auto_columns": null,
            "margin": null,
            "display": null,
            "left": null
          }
        },
        "cb98ae0692cd480397518aab93121ee4": {
          "model_module": "@jupyter-widgets/controls",
          "model_name": "DescriptionStyleModel",
          "model_module_version": "1.5.0",
          "state": {
            "_view_name": "StyleView",
            "_model_name": "DescriptionStyleModel",
            "description_width": "",
            "_view_module": "@jupyter-widgets/base",
            "_model_module_version": "1.5.0",
            "_view_count": null,
            "_view_module_version": "1.2.0",
            "_model_module": "@jupyter-widgets/controls"
          }
        },
        "7586fc698f444a438f379f2591f9bf9c": {
          "model_module": "@jupyter-widgets/base",
          "model_name": "LayoutModel",
          "model_module_version": "1.2.0",
          "state": {
            "_view_name": "LayoutView",
            "grid_template_rows": null,
            "right": null,
            "justify_content": null,
            "_view_module": "@jupyter-widgets/base",
            "overflow": null,
            "_model_module_version": "1.2.0",
            "_view_count": null,
            "flex_flow": null,
            "width": null,
            "min_width": null,
            "border": null,
            "align_items": null,
            "bottom": null,
            "_model_module": "@jupyter-widgets/base",
            "top": null,
            "grid_column": null,
            "overflow_y": null,
            "overflow_x": null,
            "grid_auto_flow": null,
            "grid_area": null,
            "grid_template_columns": null,
            "flex": null,
            "_model_name": "LayoutModel",
            "justify_items": null,
            "grid_row": null,
            "max_height": null,
            "align_content": null,
            "visibility": null,
            "align_self": null,
            "height": null,
            "min_height": null,
            "padding": null,
            "grid_auto_rows": null,
            "grid_gap": null,
            "max_width": null,
            "order": null,
            "_view_module_version": "1.2.0",
            "grid_template_areas": null,
            "object_position": null,
            "object_fit": null,
            "grid_auto_columns": null,
            "margin": null,
            "display": null,
            "left": null
          }
        },
        "a372336412984af2b21a50b0cc6813a9": {
          "model_module": "@jupyter-widgets/controls",
          "model_name": "HBoxModel",
          "model_module_version": "1.5.0",
          "state": {
            "_view_name": "HBoxView",
            "_dom_classes": [],
            "_model_name": "HBoxModel",
            "_view_module": "@jupyter-widgets/controls",
            "_model_module_version": "1.5.0",
            "_view_count": null,
            "_view_module_version": "1.5.0",
            "box_style": "",
            "layout": "IPY_MODEL_07e34932a66b427ca73192dd27e86a92",
            "_model_module": "@jupyter-widgets/controls",
            "children": [
              "IPY_MODEL_a0e3263494d8463ca55cc65cdc4f89a6",
              "IPY_MODEL_a46b847b7bc24c8ea6c70b598b65cda5",
              "IPY_MODEL_46f21cfb85c44f3094414ef5fe21ab62"
            ]
          }
        },
        "07e34932a66b427ca73192dd27e86a92": {
          "model_module": "@jupyter-widgets/base",
          "model_name": "LayoutModel",
          "model_module_version": "1.2.0",
          "state": {
            "_view_name": "LayoutView",
            "grid_template_rows": null,
            "right": null,
            "justify_content": null,
            "_view_module": "@jupyter-widgets/base",
            "overflow": null,
            "_model_module_version": "1.2.0",
            "_view_count": null,
            "flex_flow": null,
            "width": null,
            "min_width": null,
            "border": null,
            "align_items": null,
            "bottom": null,
            "_model_module": "@jupyter-widgets/base",
            "top": null,
            "grid_column": null,
            "overflow_y": null,
            "overflow_x": null,
            "grid_auto_flow": null,
            "grid_area": null,
            "grid_template_columns": null,
            "flex": null,
            "_model_name": "LayoutModel",
            "justify_items": null,
            "grid_row": null,
            "max_height": null,
            "align_content": null,
            "visibility": null,
            "align_self": null,
            "height": null,
            "min_height": null,
            "padding": null,
            "grid_auto_rows": null,
            "grid_gap": null,
            "max_width": null,
            "order": null,
            "_view_module_version": "1.2.0",
            "grid_template_areas": null,
            "object_position": null,
            "object_fit": null,
            "grid_auto_columns": null,
            "margin": null,
            "display": null,
            "left": null
          }
        },
        "a0e3263494d8463ca55cc65cdc4f89a6": {
          "model_module": "@jupyter-widgets/controls",
          "model_name": "HTMLModel",
          "model_module_version": "1.5.0",
          "state": {
            "_view_name": "HTMLView",
            "style": "IPY_MODEL_68a9d9f9e5094146abc04fe9e386eb00",
            "_dom_classes": [],
            "description": "",
            "_model_name": "HTMLModel",
            "placeholder": "​",
            "_view_module": "@jupyter-widgets/controls",
            "_model_module_version": "1.5.0",
            "value": "100%",
            "_view_count": null,
            "_view_module_version": "1.5.0",
            "description_tooltip": null,
            "_model_module": "@jupyter-widgets/controls",
            "layout": "IPY_MODEL_a82f4402326d4233a45e17765c1eccac"
          }
        },
        "a46b847b7bc24c8ea6c70b598b65cda5": {
          "model_module": "@jupyter-widgets/controls",
          "model_name": "FloatProgressModel",
          "model_module_version": "1.5.0",
          "state": {
            "_view_name": "ProgressView",
            "style": "IPY_MODEL_0c0f89cc7b5646ef9811225296f59f09",
            "_dom_classes": [],
            "description": "",
            "_model_name": "FloatProgressModel",
            "bar_style": "danger",
            "max": 104975,
            "_view_module": "@jupyter-widgets/controls",
            "_model_module_version": "1.5.0",
            "value": 104974,
            "_view_count": null,
            "_view_module_version": "1.5.0",
            "orientation": "horizontal",
            "min": 0,
            "description_tooltip": null,
            "_model_module": "@jupyter-widgets/controls",
            "layout": "IPY_MODEL_f91697f09c944f29aa2f836516853dc0"
          }
        },
        "46f21cfb85c44f3094414ef5fe21ab62": {
          "model_module": "@jupyter-widgets/controls",
          "model_name": "HTMLModel",
          "model_module_version": "1.5.0",
          "state": {
            "_view_name": "HTMLView",
            "style": "IPY_MODEL_535bc5cf82994234ae258ab9e89fac3c",
            "_dom_classes": [],
            "description": "",
            "_model_name": "HTMLModel",
            "placeholder": "​",
            "_view_module": "@jupyter-widgets/controls",
            "_model_module_version": "1.5.0",
            "value": " 104974/104975 [00:00&lt;00:00, 200406.99 examples/s]",
            "_view_count": null,
            "_view_module_version": "1.5.0",
            "description_tooltip": null,
            "_model_module": "@jupyter-widgets/controls",
            "layout": "IPY_MODEL_ce01408a32a14d6eb16c335d26484ad4"
          }
        },
        "68a9d9f9e5094146abc04fe9e386eb00": {
          "model_module": "@jupyter-widgets/controls",
          "model_name": "DescriptionStyleModel",
          "model_module_version": "1.5.0",
          "state": {
            "_view_name": "StyleView",
            "_model_name": "DescriptionStyleModel",
            "description_width": "",
            "_view_module": "@jupyter-widgets/base",
            "_model_module_version": "1.5.0",
            "_view_count": null,
            "_view_module_version": "1.2.0",
            "_model_module": "@jupyter-widgets/controls"
          }
        },
        "a82f4402326d4233a45e17765c1eccac": {
          "model_module": "@jupyter-widgets/base",
          "model_name": "LayoutModel",
          "model_module_version": "1.2.0",
          "state": {
            "_view_name": "LayoutView",
            "grid_template_rows": null,
            "right": null,
            "justify_content": null,
            "_view_module": "@jupyter-widgets/base",
            "overflow": null,
            "_model_module_version": "1.2.0",
            "_view_count": null,
            "flex_flow": null,
            "width": null,
            "min_width": null,
            "border": null,
            "align_items": null,
            "bottom": null,
            "_model_module": "@jupyter-widgets/base",
            "top": null,
            "grid_column": null,
            "overflow_y": null,
            "overflow_x": null,
            "grid_auto_flow": null,
            "grid_area": null,
            "grid_template_columns": null,
            "flex": null,
            "_model_name": "LayoutModel",
            "justify_items": null,
            "grid_row": null,
            "max_height": null,
            "align_content": null,
            "visibility": null,
            "align_self": null,
            "height": null,
            "min_height": null,
            "padding": null,
            "grid_auto_rows": null,
            "grid_gap": null,
            "max_width": null,
            "order": null,
            "_view_module_version": "1.2.0",
            "grid_template_areas": null,
            "object_position": null,
            "object_fit": null,
            "grid_auto_columns": null,
            "margin": null,
            "display": null,
            "left": null
          }
        },
        "0c0f89cc7b5646ef9811225296f59f09": {
          "model_module": "@jupyter-widgets/controls",
          "model_name": "ProgressStyleModel",
          "model_module_version": "1.5.0",
          "state": {
            "_view_name": "StyleView",
            "_model_name": "ProgressStyleModel",
            "description_width": "",
            "_view_module": "@jupyter-widgets/base",
            "_model_module_version": "1.5.0",
            "_view_count": null,
            "_view_module_version": "1.2.0",
            "bar_color": null,
            "_model_module": "@jupyter-widgets/controls"
          }
        },
        "f91697f09c944f29aa2f836516853dc0": {
          "model_module": "@jupyter-widgets/base",
          "model_name": "LayoutModel",
          "model_module_version": "1.2.0",
          "state": {
            "_view_name": "LayoutView",
            "grid_template_rows": null,
            "right": null,
            "justify_content": null,
            "_view_module": "@jupyter-widgets/base",
            "overflow": null,
            "_model_module_version": "1.2.0",
            "_view_count": null,
            "flex_flow": null,
            "width": null,
            "min_width": null,
            "border": null,
            "align_items": null,
            "bottom": null,
            "_model_module": "@jupyter-widgets/base",
            "top": null,
            "grid_column": null,
            "overflow_y": null,
            "overflow_x": null,
            "grid_auto_flow": null,
            "grid_area": null,
            "grid_template_columns": null,
            "flex": null,
            "_model_name": "LayoutModel",
            "justify_items": null,
            "grid_row": null,
            "max_height": null,
            "align_content": null,
            "visibility": null,
            "align_self": null,
            "height": null,
            "min_height": null,
            "padding": null,
            "grid_auto_rows": null,
            "grid_gap": null,
            "max_width": null,
            "order": null,
            "_view_module_version": "1.2.0",
            "grid_template_areas": null,
            "object_position": null,
            "object_fit": null,
            "grid_auto_columns": null,
            "margin": null,
            "display": null,
            "left": null
          }
        },
        "535bc5cf82994234ae258ab9e89fac3c": {
          "model_module": "@jupyter-widgets/controls",
          "model_name": "DescriptionStyleModel",
          "model_module_version": "1.5.0",
          "state": {
            "_view_name": "StyleView",
            "_model_name": "DescriptionStyleModel",
            "description_width": "",
            "_view_module": "@jupyter-widgets/base",
            "_model_module_version": "1.5.0",
            "_view_count": null,
            "_view_module_version": "1.2.0",
            "_model_module": "@jupyter-widgets/controls"
          }
        },
        "ce01408a32a14d6eb16c335d26484ad4": {
          "model_module": "@jupyter-widgets/base",
          "model_name": "LayoutModel",
          "model_module_version": "1.2.0",
          "state": {
            "_view_name": "LayoutView",
            "grid_template_rows": null,
            "right": null,
            "justify_content": null,
            "_view_module": "@jupyter-widgets/base",
            "overflow": null,
            "_model_module_version": "1.2.0",
            "_view_count": null,
            "flex_flow": null,
            "width": null,
            "min_width": null,
            "border": null,
            "align_items": null,
            "bottom": null,
            "_model_module": "@jupyter-widgets/base",
            "top": null,
            "grid_column": null,
            "overflow_y": null,
            "overflow_x": null,
            "grid_auto_flow": null,
            "grid_area": null,
            "grid_template_columns": null,
            "flex": null,
            "_model_name": "LayoutModel",
            "justify_items": null,
            "grid_row": null,
            "max_height": null,
            "align_content": null,
            "visibility": null,
            "align_self": null,
            "height": null,
            "min_height": null,
            "padding": null,
            "grid_auto_rows": null,
            "grid_gap": null,
            "max_width": null,
            "order": null,
            "_view_module_version": "1.2.0",
            "grid_template_areas": null,
            "object_position": null,
            "object_fit": null,
            "grid_auto_columns": null,
            "margin": null,
            "display": null,
            "left": null
          }
        }
      }
    }
  },
  "cells": [
    {
      "cell_type": "code",
      "metadata": {
        "id": "CGdksZBWTQNM"
      },
      "source": [
        "import tensorflow as tf\n",
        "import os\n",
        "import datetime\n",
        "import tensorflow_datasets as tfds\n",
        "import tqdm\n",
        "%load_ext tensorboard"
      ],
      "execution_count": 1,
      "outputs": []
    },
    {
      "cell_type": "code",
      "metadata": {
        "colab": {
          "base_uri": "https://localhost:8080/"
        },
        "id": "QbQ5Cee7TTnN",
        "outputId": "bccaaf2a-09d7-4c91-dba6-0d7adc2b7e87"
      },
      "source": [
        "print(tf.__version__)"
      ],
      "execution_count": 2,
      "outputs": [
        {
          "output_type": "stream",
          "name": "stdout",
          "text": [
            "2.7.0\n"
          ]
        }
      ]
    },
    {
      "cell_type": "code",
      "metadata": {
        "colab": {
          "base_uri": "https://localhost:8080/",
          "height": 269,
          "referenced_widgets": [
            "26b82dd9fd884a75a2164a4f2274630b",
            "7ad3542e534b42ceb253b4812d49d807",
            "90902ade673d4103bad2c2f08a5fe70a",
            "e4213a8e82d042c08696861be1af6589",
            "1a6c0f4f17a943219bea762c6bafbe93",
            "5ea922eb8f704af3809a840ce83b5aa3",
            "6be668a4a61d46e2aa268a762ea67578",
            "5dfcabc97fd1403bb1c52e0eb1d0a321",
            "d994564218e24276beb3ae686af7e5a2",
            "9577e0cd53ad4ce39ae059bfe7f3ceed",
            "8c94d583cd7d4e6c9478d416132bba68",
            "99cf225fe1694f8493f4e1d4a7a75ed8",
            "37ee452fe6ce4332992c2ab06b2abaa9",
            "c8d41fc656494ede9955070353fefe7d",
            "490fa72064b249c5b87b0166e5699b89",
            "4e45685dac644b6b95d86a23c04889c8",
            "fd57da31a65b4286bdfb0959daef9b76",
            "1af28de52dfa4426a8bb2f80aa17b467",
            "dcbfb75868834bbeb8c053d1fff75a6e",
            "dbd9f06be4ec4ed9bbb0cb7afb092e6a",
            "26c8a9cdaf104652ae554ed8b21c9466",
            "3c7b691e32b2413185ad7b7a8bbfb977",
            "d264bd7270e54b9a93e9f6574d1e5f07",
            "ac1a8cde19824fa9a6e84897385381a1",
            "86fd49ceeba74c46ad6d7d65baa77262",
            "57173bee828d43848d1af652a255fe87",
            "7af60c1bed7e4188b086d948f84afecb",
            "f979d3cf9390434dbc7cfb70f89a63af",
            "5a4a83e1ba4447d2a69d488dcc1223c7",
            "c5badf41ee354a0aa9bdad5a235ec179",
            "57f54b47963c43d8af4e51d7223d8ec9",
            "de1f2652ce7c4a9d9b5c3174b0fc2905",
            "ef1b8ec1237f4bcbb2e6e6060a79cb59",
            "3caf6613082844e8b3fb661825829400",
            "a5bb8ef7486b4404b7af75b79894ccd0",
            "ac38a57c49c64591a3dc695213370e9e",
            "000f58ac43534f888298528d1e5b3434",
            "e948d9538ca543df86af2a9cc15d5c7a",
            "c794162a22fb4c4e90656d92f9f3b96b",
            "328b3052286049bba7edba610fa3d751",
            "21cdaee5951843268b9e81a0a932ab55",
            "7d77ffa423b6477b93d879b414e36b6e",
            "cb98ae0692cd480397518aab93121ee4",
            "7586fc698f444a438f379f2591f9bf9c",
            "a372336412984af2b21a50b0cc6813a9",
            "07e34932a66b427ca73192dd27e86a92",
            "a0e3263494d8463ca55cc65cdc4f89a6",
            "a46b847b7bc24c8ea6c70b598b65cda5",
            "46f21cfb85c44f3094414ef5fe21ab62",
            "68a9d9f9e5094146abc04fe9e386eb00",
            "a82f4402326d4233a45e17765c1eccac",
            "0c0f89cc7b5646ef9811225296f59f09",
            "f91697f09c944f29aa2f836516853dc0",
            "535bc5cf82994234ae258ab9e89fac3c",
            "ce01408a32a14d6eb16c335d26484ad4"
          ]
        },
        "id": "a-NDTgsiTgJX",
        "outputId": "4f4728fe-ce9d-46ab-88c7-b6eb25dfef23"
      },
      "source": [
        "dataset, info = tfds.load('amazon_us_reviews/Mobile_Electronics_v1_00', with_info=True)\n",
        "train_dataset = dataset['train']"
      ],
      "execution_count": 3,
      "outputs": [
        {
          "output_type": "stream",
          "name": "stdout",
          "text": [
            "\u001b[1mDownloading and preparing dataset amazon_us_reviews/Mobile_Electronics_v1_00/0.1.0 (download: 21.81 MiB, generated: Unknown size, total: 21.81 MiB) to /root/tensorflow_datasets/amazon_us_reviews/Mobile_Electronics_v1_00/0.1.0...\u001b[0m\n"
          ]
        },
        {
          "output_type": "display_data",
          "data": {
            "application/vnd.jupyter.widget-view+json": {
              "model_id": "26b82dd9fd884a75a2164a4f2274630b",
              "version_minor": 0,
              "version_major": 2
            },
            "text/plain": [
              "Dl Completed...: 0 url [00:00, ? url/s]"
            ]
          },
          "metadata": {}
        },
        {
          "output_type": "display_data",
          "data": {
            "application/vnd.jupyter.widget-view+json": {
              "model_id": "99cf225fe1694f8493f4e1d4a7a75ed8",
              "version_minor": 0,
              "version_major": 2
            },
            "text/plain": [
              "Dl Size...: 0 MiB [00:00, ? MiB/s]"
            ]
          },
          "metadata": {}
        },
        {
          "output_type": "display_data",
          "data": {
            "application/vnd.jupyter.widget-view+json": {
              "model_id": "d264bd7270e54b9a93e9f6574d1e5f07",
              "version_minor": 0,
              "version_major": 2
            },
            "text/plain": [
              "Extraction completed...: 0 file [00:00, ? file/s]"
            ]
          },
          "metadata": {}
        },
        {
          "output_type": "stream",
          "name": "stdout",
          "text": [
            "\n",
            "\n",
            "\n"
          ]
        },
        {
          "output_type": "display_data",
          "data": {
            "application/vnd.jupyter.widget-view+json": {
              "model_id": "3caf6613082844e8b3fb661825829400",
              "version_minor": 0,
              "version_major": 2
            },
            "text/plain": [
              "0 examples [00:00, ? examples/s]"
            ]
          },
          "metadata": {}
        },
        {
          "output_type": "stream",
          "name": "stdout",
          "text": [
            "Shuffling and writing examples to /root/tensorflow_datasets/amazon_us_reviews/Mobile_Electronics_v1_00/0.1.0.incompleteJLZV3A/amazon_us_reviews-train.tfrecord\n"
          ]
        },
        {
          "output_type": "display_data",
          "data": {
            "application/vnd.jupyter.widget-view+json": {
              "model_id": "a372336412984af2b21a50b0cc6813a9",
              "version_minor": 0,
              "version_major": 2
            },
            "text/plain": [
              "  0%|          | 0/104975 [00:00<?, ? examples/s]"
            ]
          },
          "metadata": {}
        },
        {
          "output_type": "stream",
          "name": "stdout",
          "text": [
            "\u001b[1mDataset amazon_us_reviews downloaded and prepared to /root/tensorflow_datasets/amazon_us_reviews/Mobile_Electronics_v1_00/0.1.0. Subsequent calls will reuse this data.\u001b[0m\n"
          ]
        }
      ]
    },
    {
      "cell_type": "code",
      "metadata": {
        "colab": {
          "base_uri": "https://localhost:8080/"
        },
        "id": "lD_p8At8T24a",
        "outputId": "e963aa17-6213-45bb-c2d3-d0aae2c25adf"
      },
      "source": [
        "info"
      ],
      "execution_count": 4,
      "outputs": [
        {
          "output_type": "execute_result",
          "data": {
            "text/plain": [
              "tfds.core.DatasetInfo(\n",
              "    name='amazon_us_reviews',\n",
              "    version=0.1.0,\n",
              "    description='Amazon Customer Reviews (a.k.a. Product Reviews) is one of Amazons iconic products. In a period of over two decades since the first review in 1995, millions of Amazon customers have contributed over a hundred million reviews to express opinions and describe their experiences regarding products on the Amazon.com website. This makes Amazon Customer Reviews a rich source of information for academic researchers in the fields of Natural Language Processing (NLP), Information Retrieval (IR), and Machine Learning (ML), amongst others. Accordingly, we are releasing this data to further research in multiple disciplines related to understanding customer product experiences. Specifically, this dataset was constructed to represent a sample of customer evaluations and opinions, variation in the perception of a product across geographical regions, and promotional intent or bias in reviews.\n",
              "\n",
              "Over 130+ million customer reviews are available to researchers as part of this release. The data is available in TSV files in the amazon-reviews-pds S3 bucket in AWS US East Region. Each line in the data files corresponds to an individual review (tab delimited, with no quote and escape characters).\n",
              "\n",
              "Each Dataset contains the following columns : \n",
              "  marketplace       - 2 letter country code of the marketplace where the review was written.\n",
              "  customer_id       - Random identifier that can be used to aggregate reviews written by a single author.\n",
              "  review_id         - The unique ID of the review.\n",
              "  product_id        - The unique Product ID the review pertains to. In the multilingual dataset the reviews\n",
              "                      for the same product in different countries can be grouped by the same product_id.\n",
              "  product_parent    - Random identifier that can be used to aggregate reviews for the same product.\n",
              "  product_title     - Title of the product.\n",
              "  product_category  - Broad product category that can be used to group reviews \n",
              "                      (also used to group the dataset into coherent parts).\n",
              "  star_rating       - The 1-5 star rating of the review.\n",
              "  helpful_votes     - Number of helpful votes.\n",
              "  total_votes       - Number of total votes the review received.\n",
              "  vine              - Review was written as part of the Vine program.\n",
              "  verified_purchase - The review is on a verified purchase.\n",
              "  review_headline   - The title of the review.\n",
              "  review_body       - The review text.\n",
              "  review_date       - The date the review was written.',\n",
              "    homepage='https://s3.amazonaws.com/amazon-reviews-pds/readme.html',\n",
              "    features=FeaturesDict({\n",
              "        'data': FeaturesDict({\n",
              "            'customer_id': tf.string,\n",
              "            'helpful_votes': tf.int32,\n",
              "            'marketplace': tf.string,\n",
              "            'product_category': tf.string,\n",
              "            'product_id': tf.string,\n",
              "            'product_parent': tf.string,\n",
              "            'product_title': tf.string,\n",
              "            'review_body': tf.string,\n",
              "            'review_date': tf.string,\n",
              "            'review_headline': tf.string,\n",
              "            'review_id': tf.string,\n",
              "            'star_rating': tf.int32,\n",
              "            'total_votes': tf.int32,\n",
              "            'verified_purchase': ClassLabel(shape=(), dtype=tf.int64, num_classes=2),\n",
              "            'vine': ClassLabel(shape=(), dtype=tf.int64, num_classes=2),\n",
              "        }),\n",
              "    }),\n",
              "    total_num_examples=104975,\n",
              "    splits={\n",
              "        'train': 104975,\n",
              "    },\n",
              "    supervised_keys=None,\n",
              "    citation=\"\"\"\"\"\",\n",
              "    redistribution_info=,\n",
              ")"
            ]
          },
          "metadata": {},
          "execution_count": 4
        }
      ]
    },
    {
      "cell_type": "code",
      "metadata": {
        "colab": {
          "base_uri": "https://localhost:8080/"
        },
        "id": "HzCA0460UNWE",
        "outputId": "eda83d5c-63e2-4894-b4bc-3225ec0ac993"
      },
      "source": [
        "len(list(train_dataset))"
      ],
      "execution_count": 5,
      "outputs": [
        {
          "output_type": "execute_result",
          "data": {
            "text/plain": [
              "104975"
            ]
          },
          "metadata": {},
          "execution_count": 5
        }
      ]
    },
    {
      "cell_type": "code",
      "metadata": {
        "id": "dWml-4gFUNT4"
      },
      "source": [
        "BUFFER_SIZE = 30000\n",
        "BATCH_SIZE = 128"
      ],
      "execution_count": 6,
      "outputs": []
    },
    {
      "cell_type": "code",
      "metadata": {
        "id": "UMnyEJwIUNRd"
      },
      "source": [
        "train_dataset = train_dataset.shuffle(BUFFER_SIZE, reshuffle_each_iteration = False)"
      ],
      "execution_count": 7,
      "outputs": []
    },
    {
      "cell_type": "code",
      "metadata": {
        "colab": {
          "base_uri": "https://localhost:8080/"
        },
        "id": "V39gQR4NUNPF",
        "outputId": "322cd753-aadf-4b8e-e393-3da38f91186f"
      },
      "source": [
        "for reviews in train_dataset.take(2):\n",
        "  print(reviews)"
      ],
      "execution_count": 8,
      "outputs": [
        {
          "output_type": "stream",
          "name": "stdout",
          "text": [
            "{'data': {'customer_id': <tf.Tensor: shape=(), dtype=string, numpy=b'19430629'>, 'helpful_votes': <tf.Tensor: shape=(), dtype=int32, numpy=0>, 'marketplace': <tf.Tensor: shape=(), dtype=string, numpy=b'US'>, 'product_category': <tf.Tensor: shape=(), dtype=string, numpy=b'Mobile_Electronics'>, 'product_id': <tf.Tensor: shape=(), dtype=string, numpy=b'B0044BZLCS'>, 'product_parent': <tf.Tensor: shape=(), dtype=string, numpy=b'286427579'>, 'product_title': <tf.Tensor: shape=(), dtype=string, numpy=b'Durable Smoke Shining Silicone Skin for Apple iPod Touch 4th Generation with Clear Screen Protector for itouch 4th gen + USB Wall Charger for iPod Touch 4G and Wristband'>, 'review_body': <tf.Tensor: shape=(), dtype=string, numpy=b\"PROS: Fast shipping, easy to install lcd protector  CONS: Poor quality case (you get what you pay for)    The product arrived (in GUAM) in less than a week, that is fast! The AC adapter looks and feels cheap. The screen protector and the silicon case are what I was interested in. The screen was easy to install. Just make sure that the lcd is clean and free from any dust or lint, putting the protector on is perfectly easy. I had difficulty putting the case on. I placed the bottom part first but the top is kinda loose, so I tried putting the top first; the problem now is the bottom. So I placed the ipod on top of the case and let the silicon hold the back. Then I pulled the corners - it was a perfect fit except for the bottom front which I expected not to be tight, was a little loose. Over all it's a good protection for your ipod touch at a not so expensive price...    If you're looking for a good protection and don't have the budget, this is a decent choice. But if you have a couple of bucks to spare, go for the more expensive ones.\">, 'review_date': <tf.Tensor: shape=(), dtype=string, numpy=b'2010-10-06'>, 'review_headline': <tf.Tensor: shape=(), dtype=string, numpy=b'Fast Shipping'>, 'review_id': <tf.Tensor: shape=(), dtype=string, numpy=b'RX71HT2BW379G'>, 'star_rating': <tf.Tensor: shape=(), dtype=int32, numpy=3>, 'total_votes': <tf.Tensor: shape=(), dtype=int32, numpy=0>, 'verified_purchase': <tf.Tensor: shape=(), dtype=int64, numpy=0>, 'vine': <tf.Tensor: shape=(), dtype=int64, numpy=1>}}\n",
            "{'data': {'customer_id': <tf.Tensor: shape=(), dtype=string, numpy=b'19610816'>, 'helpful_votes': <tf.Tensor: shape=(), dtype=int32, numpy=0>, 'marketplace': <tf.Tensor: shape=(), dtype=string, numpy=b'US'>, 'product_category': <tf.Tensor: shape=(), dtype=string, numpy=b'Mobile_Electronics'>, 'product_id': <tf.Tensor: shape=(), dtype=string, numpy=b'B00SXIRUS6'>, 'product_parent': <tf.Tensor: shape=(), dtype=string, numpy=b'45885102'>, 'product_title': <tf.Tensor: shape=(), dtype=string, numpy=b'Crux BEEBG-33B Beeline Series Bluetooth Integration Adapter for Select 2012-Up GM SUVs and Trucks with Factory Navigation'>, 'review_body': <tf.Tensor: shape=(), dtype=string, numpy=b\"I installed it on chevy tahoe 2013 LTZ. It's fun and easy to install this device. I like the voice clearness of calls and media. What I dislike is: 1. if you pair media audio through bluetooth; the radio will stop with each touch on the smartphone, 2. You can't hear the answered calls if the radio is muted. 3. You can't mute the paird media from steering wheel, unless you lower it from the radio. Overall it's nice if you stop pairing audio media if it's not in need. Thanks.\">, 'review_date': <tf.Tensor: shape=(), dtype=string, numpy=b'2015-03-23'>, 'review_headline': <tf.Tensor: shape=(), dtype=string, numpy=b'Nice device'>, 'review_id': <tf.Tensor: shape=(), dtype=string, numpy=b'RSRONMUXDB0EY'>, 'star_rating': <tf.Tensor: shape=(), dtype=int32, numpy=4>, 'total_votes': <tf.Tensor: shape=(), dtype=int32, numpy=0>, 'verified_purchase': <tf.Tensor: shape=(), dtype=int64, numpy=0>, 'vine': <tf.Tensor: shape=(), dtype=int64, numpy=1>}}\n"
          ]
        }
      ]
    },
    {
      "cell_type": "code",
      "metadata": {
        "colab": {
          "base_uri": "https://localhost:8080/"
        },
        "id": "-r6-vHORUNLq",
        "outputId": "cb40e7c4-2cd1-43a7-ce70-c94f86762b4b"
      },
      "source": [
        "for reviews in train_dataset.take(10):\n",
        "  review_text = reviews['data']\n",
        "  print(review_text.get('review_body').numpy())\n",
        "  print(review_text.get('star_rating'))\n",
        "  print(tf.where(review_text.get('star_rating')>3,1,0).numpy())"
      ],
      "execution_count": 9,
      "outputs": [
        {
          "output_type": "stream",
          "name": "stdout",
          "text": [
            "b\"PROS: Fast shipping, easy to install lcd protector  CONS: Poor quality case (you get what you pay for)    The product arrived (in GUAM) in less than a week, that is fast! The AC adapter looks and feels cheap. The screen protector and the silicon case are what I was interested in. The screen was easy to install. Just make sure that the lcd is clean and free from any dust or lint, putting the protector on is perfectly easy. I had difficulty putting the case on. I placed the bottom part first but the top is kinda loose, so I tried putting the top first; the problem now is the bottom. So I placed the ipod on top of the case and let the silicon hold the back. Then I pulled the corners - it was a perfect fit except for the bottom front which I expected not to be tight, was a little loose. Over all it's a good protection for your ipod touch at a not so expensive price...    If you're looking for a good protection and don't have the budget, this is a decent choice. But if you have a couple of bucks to spare, go for the more expensive ones.\"\n",
            "tf.Tensor(3, shape=(), dtype=int32)\n",
            "0\n",
            "b\"I installed it on chevy tahoe 2013 LTZ. It's fun and easy to install this device. I like the voice clearness of calls and media. What I dislike is: 1. if you pair media audio through bluetooth; the radio will stop with each touch on the smartphone, 2. You can't hear the answered calls if the radio is muted. 3. You can't mute the paird media from steering wheel, unless you lower it from the radio. Overall it's nice if you stop pairing audio media if it's not in need. Thanks.\"\n",
            "tf.Tensor(4, shape=(), dtype=int32)\n",
            "1\n",
            "b'I bought 2 of these chargers as extras. It took over 9 hours to fully charge my phone with these plugs. My original plugs charge my phone fully in under an hour. So i wouldnt recommend them if needing to charge your device right away.'\n",
            "tf.Tensor(1, shape=(), dtype=int32)\n",
            "0\n",
            "b'Love this product it arrived right on time and it works great and sounds great. I would highly reccomend this buyer'\n",
            "tf.Tensor(5, shape=(), dtype=int32)\n",
            "1\n",
            "b'My daughter loves this cute little guy. All her friends wanted to know where she bought it. This cover not only protects her iPod, but adds a unique look to her device.'\n",
            "tf.Tensor(5, shape=(), dtype=int32)\n",
            "1\n",
            "b\"Good thumpin' sub. I've been runnin' it for about three weeks so far & it thumps good. Response is good, I give it country, blues, jazz, & Metallica. For the price you'll get good beats without a huge investment\"\n",
            "tf.Tensor(5, shape=(), dtype=int32)\n",
            "1\n",
            "b'good camera , night video is nice, compering 3 cams I test it my self, but 1 problem I found... it does not record 720 p, only 1080p, 720 p will have weird pic, distorted'\n",
            "tf.Tensor(3, shape=(), dtype=int32)\n",
            "0\n",
            "b'Most docking stations that I\\'ve seen in the \\\\\\\\\"Big Box\\\\\\\\\" stores look great and sound good.  But I didn\\'t want to spend a lot, especially given the fact I primarily wanted a reliable docking station to charge my Ipad/Iphone.  This iPEGA product is very good for the money.  I\\'m impressed with the sound quality - no distortion at high volume - and is rich enough to fill my small office.  I\\'d say this product is comparible to docking stations costing close to $100+.'\n",
            "tf.Tensor(4, shape=(), dtype=int32)\n",
            "1\n",
            "b'So far so good on working - been using about 2 weeks now'\n",
            "tf.Tensor(5, shape=(), dtype=int32)\n",
            "1\n",
            "b'I suffer from shocking often when I switch on or off light because of static electricity. I now touch the switch with it, and it works. I would not be hurt anymore. the flash shows the static electricity is gone. great.'\n",
            "tf.Tensor(5, shape=(), dtype=int32)\n",
            "1\n"
          ]
        }
      ]
    },
    {
      "cell_type": "code",
      "metadata": {
        "colab": {
          "base_uri": "https://localhost:8080/"
        },
        "id": "hIsGen1QUNIr",
        "outputId": "2def9670-eea0-43f2-d6ca-b8f75dd072a0"
      },
      "source": [
        "tokenizer = tfds.deprecated.text.Tokenizer()\n",
        "\n",
        "vocabulary_set = set()\n",
        "\n",
        "for _,reviews in tqdm.tqdm(train_dataset.enumerate()):\n",
        "  review_text = reviews['data']\n",
        "  reviews_tokens = tokenizer.tokenize(review_text.get('review_body').numpy())\n",
        "  vocabulary_set.update(reviews_tokens)\n",
        "\n",
        "vocab_size = len(vocabulary_set)\n",
        "vocab_size"
      ],
      "execution_count": 10,
      "outputs": [
        {
          "output_type": "stream",
          "name": "stderr",
          "text": [
            "100%|██████████| 104975/104975 [01:21<00:00, 1281.18it/s]\n"
          ]
        },
        {
          "output_type": "execute_result",
          "data": {
            "text/plain": [
              "73738"
            ]
          },
          "metadata": {},
          "execution_count": 10
        }
      ]
    },
    {
      "cell_type": "code",
      "metadata": {
        "id": "PFKZOkX9UM7K"
      },
      "source": [
        "encoder = tfds.deprecated.text.TokenTextEncoder(vocabulary_set)"
      ],
      "execution_count": 11,
      "outputs": []
    },
    {
      "cell_type": "code",
      "metadata": {
        "id": "K0j4Hy56X6gp"
      },
      "source": [
        "def encode(text_tensor, label_tensor):\n",
        "  encoded_text = encoder.encode(text_tensor.numpy())\n",
        "  label = tf.where(label_tensor>3,1,0)\n",
        "  return encoded_text, label\n",
        "  "
      ],
      "execution_count": 12,
      "outputs": []
    },
    {
      "cell_type": "code",
      "metadata": {
        "id": "0TSu_NqyX6dJ"
      },
      "source": [
        "def encode_map_fn(tensor):\n",
        "  text = tensor['data'].get('review_body')\n",
        "  label = tensor['data'].get('star_rating')\n",
        "\n",
        "  encoded_text, label = tf.py_function(encode, inp = [text, label], Tout = (tf.int64, tf.int32))\n",
        "  encoded_text.set_shape([None])\n",
        "  label.set_shape([])\n",
        "\n",
        "  return encoded_text, label"
      ],
      "execution_count": 15,
      "outputs": []
    },
    {
      "cell_type": "code",
      "metadata": {
        "id": "ilxs_vzQX6af"
      },
      "source": [
        "ar_encoded_data = train_dataset.map(encode_map_fn)"
      ],
      "execution_count": 16,
      "outputs": []
    },
    {
      "cell_type": "code",
      "metadata": {
        "colab": {
          "base_uri": "https://localhost:8080/"
        },
        "id": "Yl02HBTfX6X3",
        "outputId": "6cfa1e0b-523e-4136-ff4f-8b4cb55d00d6"
      },
      "source": [
        "for i,j in ar_encoded_data.take(2):\n",
        "  print(i)\n",
        "  print(j)"
      ],
      "execution_count": 17,
      "outputs": [
        {
          "output_type": "stream",
          "name": "stdout",
          "text": [
            "tf.Tensor(\n",
            "[69745 63468   457 69364 32244 72248 55779 45928  7532 71337 65158 12545\n",
            " 48146 28107 62168 48146 71310 70140 43950 30398 10682 59335 26426 59335\n",
            " 66321 72726  6485 37330 41206 34763 34492 43950 55078 69302  1190 18786\n",
            " 43193  1389 43950 15199 45928 18786 14694 61553 12545 41573 62168 30716\n",
            " 68829 18013 59335 43950 15199 68829 69364 32244 72248 69165 71401 28348\n",
            " 41206 14694 55779 34763 24301 18786 17427 44033 16827 15339 62762 44354\n",
            " 57430 14694 45928  1277 34763 15526 69364 30716 67366 56896 57430 14694\n",
            " 12545  1277 30716  3353 14694 10233 63146 59287 41153 14694 53855 34763\n",
            " 40754  3012 71701 30716 28479 57430 14694 53855 59287 14694 30860  9227\n",
            " 34763 14694 10233  1347 30716  3353 14694 43998  1277 53855  8543 14694\n",
            " 12545 18786 58930 14694 61553 69250 14694 46002 11769 30716 66300 14694\n",
            " 70809 23494 68829  6485 19044 44174 70095 70140 14694 10233 70355   844\n",
            " 30716 21427 28795 32244 10486 64489 68829  6485 25157  3012 70406 29887\n",
            " 23494 56801  6485 22433  4021 70140 22766 43998 14716 43214  6485 28795\n",
            " 71701  1481 22938 46203 48146 34567 24575 70140  6485 22433  4021 18786\n",
            " 41327 23575 22941 14694 37284 46066 34763  6485 67948 33469 11000 56626\n",
            " 48146 22941  6485 18454  8543 42340 32244 63759 65710 70140 14694 64319\n",
            "  1481 29948], shape=(206,), dtype=int64)\n",
            "tf.Tensor(0, shape=(), dtype=int32)\n",
            "tf.Tensor(\n",
            "[30716 54189 23494  1277 67928 39063 43949 69177 19304 56801 18792 18786\n",
            " 69364 32244 72248 46066 49554 30716 15357 14694  9855 36992  8543 26481\n",
            " 18786 63788 58616 30716 22311 34763 10377 56626 48146 26572 63788 25621\n",
            " 13425 56479 14694 17596 41869 37116 61961 36867 14716  1277 14694 39365\n",
            " 43449 69286 41758 23575 26397 14694 56727 26481 56626 14694 17596 34763\n",
            " 39338 65656 69286 41758 23575  4408 14694 58462 63788 44033 10364 22881\n",
            " 52233 48146 29582 23494 44033 14694 17596 43643 23494 56801 23361 56626\n",
            " 48146 37116 60161 25621 63788 56626 23494 56801 28795 59335 23429 11419], shape=(96,), dtype=int64)\n",
            "tf.Tensor(1, shape=(), dtype=int32)\n"
          ]
        }
      ]
    },
    {
      "cell_type": "code",
      "metadata": {
        "id": "0nsoHRwVX6U9"
      },
      "source": [
        "TAKE_SIZE = 1000\n",
        "\n",
        "train_data = ar_encoded_data.skip(TAKE_SIZE).shuffle(BUFFER_SIZE)\n",
        "train_data = train_data.padded_batch(BATCH_SIZE)\n",
        "\n",
        "test_data = ar_encoded_data.take(TAKE_SIZE)\n",
        "test_data = test_data.padded_batch(BATCH_SIZE)"
      ],
      "execution_count": 18,
      "outputs": []
    },
    {
      "cell_type": "code",
      "metadata": {
        "id": "-qA_0riGiaSw"
      },
      "source": [
        "vocab_size += 1"
      ],
      "execution_count": 19,
      "outputs": []
    },
    {
      "cell_type": "code",
      "metadata": {
        "colab": {
          "base_uri": "https://localhost:8080/"
        },
        "id": "32M6e1t0iemh",
        "outputId": "dbae8693-3179-4564-e6bf-0f3d77ecd577"
      },
      "source": [
        "sample_text, sample_labels = next(iter(test_data))\n",
        "sample_text[0], sample_labels[0]"
      ],
      "execution_count": 20,
      "outputs": [
        {
          "output_type": "execute_result",
          "data": {
            "text/plain": [
              "(<tf.Tensor: shape=(2421,), dtype=int64, numpy=array([69745, 63468,   457, ...,     0,     0,     0])>,\n",
              " <tf.Tensor: shape=(), dtype=int32, numpy=0>)"
            ]
          },
          "metadata": {},
          "execution_count": 20
        }
      ]
    },
    {
      "cell_type": "code",
      "metadata": {
        "colab": {
          "base_uri": "https://localhost:8080/"
        },
        "id": "I32SUlpQixZN",
        "outputId": "28b4c239-b89d-47fd-bddd-7809d6b6d61c"
      },
      "source": [
        "for fo,f1 in test_data.take(10):\n",
        "  print(tf.unique_with_counts(f1)[2].numpy()) #num of pos & neg reviews in the batch"
      ],
      "execution_count": 21,
      "outputs": [
        {
          "output_type": "stream",
          "name": "stdout",
          "text": [
            "[43 85]\n",
            "[95 33]\n",
            "[87 41]\n",
            "[50 78]\n",
            "[42 86]\n",
            "[39 89]\n",
            "[87 41]\n",
            "[42 62]\n"
          ]
        }
      ]
    },
    {
      "cell_type": "markdown",
      "metadata": {
        "id": "zFfBdvpPkDB_"
      },
      "source": [
        "### Building the model"
      ]
    },
    {
      "cell_type": "code",
      "metadata": {
        "id": "gz-tsQypkCwC"
      },
      "source": [
        "model = tf.keras.Sequential()\n",
        "model.add(tf.keras.layers.Embedding(vocab_size, 128))\n",
        "model.add(tf.keras.layers.Bidirectional(tf.keras.layers.LSTM(128, return_sequences=True)))\n",
        "model.add(tf.keras.layers.Bidirectional(tf.keras.layers.LSTM(64)))\n",
        "model.add(tf.keras.layers.Dense(64, activation = 'relu'))\n",
        "model.add(tf.keras.layers.Dense(64, activation = 'relu'))\n",
        "model.add(tf.keras.layers.Dense(1)) #sigmoid not used to get a linear activation and we can add a cutoff later, this would be faster"
      ],
      "execution_count": 23,
      "outputs": []
    },
    {
      "cell_type": "code",
      "metadata": {
        "id": "IUyJyrtokCtb"
      },
      "source": [
        "logdir = os.path.join(\"/tmp/logs\", datetime.datetime.now().strftime(\"%Y%m%d-%H%M%S\"))\n",
        "tensorboard_callback = tf.keras.callbacks.TensorBoard(logdir, histogram_freq=1)"
      ],
      "execution_count": 25,
      "outputs": []
    },
    {
      "cell_type": "code",
      "metadata": {
        "id": "6ef7OqVHkCqF"
      },
      "source": [
        "checkpointer = tf.keras.callbacks.ModelCheckpoint(filepath='tmp/sentiment_analysis.hdf5', verbose = 1, save_best_only=True)"
      ],
      "execution_count": 26,
      "outputs": []
    },
    {
      "cell_type": "code",
      "metadata": {
        "id": "yKJqjEY9kCnq"
      },
      "source": [
        "model.compile(optimizer='adam', loss = tf.keras.losses.BinaryCrossentropy(from_logits=True), metrics=['accuracy']) #bec we are using linear layer -> logits"
      ],
      "execution_count": 27,
      "outputs": []
    },
    {
      "cell_type": "code",
      "metadata": {
        "colab": {
          "base_uri": "https://localhost:8080/"
        },
        "id": "CefwmXyzkClN",
        "outputId": "fb1f9ee3-1cf4-4828-a89c-022c325b9f16"
      },
      "source": [
        "history = model.fit(train_data, epochs =4, validation_data=test_data, callbacks=[tensorboard_callback, checkpointer])"
      ],
      "execution_count": null,
      "outputs": [
        {
          "output_type": "stream",
          "name": "stdout",
          "text": [
            "Epoch 1/4\n",
            " 78/813 [=>............................] - ETA: 8:18 - loss: 0.5257 - accuracy: 0.7100"
          ]
        }
      ]
    },
    {
      "cell_type": "code",
      "metadata": {
        "id": "j7B2b0Z4ohmE"
      },
      "source": [
        "model.save('/tmp/final_sentiment_analysis')"
      ],
      "execution_count": null,
      "outputs": []
    },
    {
      "cell_type": "code",
      "metadata": {
        "id": "ePJqsA_Eo0wN"
      },
      "source": [
        ""
      ],
      "execution_count": null,
      "outputs": []
    },
    {
      "cell_type": "code",
      "metadata": {
        "id": "BKec3SOco0tb"
      },
      "source": [
        ""
      ],
      "execution_count": null,
      "outputs": []
    },
    {
      "cell_type": "code",
      "metadata": {
        "id": "hZg56_3No0qk"
      },
      "source": [
        ""
      ],
      "execution_count": null,
      "outputs": []
    },
    {
      "cell_type": "code",
      "metadata": {
        "id": "DWZ2WYIho0nu"
      },
      "source": [
        ""
      ],
      "execution_count": null,
      "outputs": []
    },
    {
      "cell_type": "code",
      "metadata": {
        "id": "NjhyOeADo0en"
      },
      "source": [
        ""
      ],
      "execution_count": null,
      "outputs": []
    },
    {
      "cell_type": "code",
      "metadata": {
        "id": "1vPC_5Gao0bt"
      },
      "source": [
        ""
      ],
      "execution_count": null,
      "outputs": []
    }
  ]
}