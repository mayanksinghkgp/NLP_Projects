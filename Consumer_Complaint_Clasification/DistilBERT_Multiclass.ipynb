{
  "nbformat": 4,
  "nbformat_minor": 0,
  "metadata": {
    "colab": {
      "name": "DistilBERT_Multiclass.ipynb",
      "provenance": [],
      "collapsed_sections": []
    },
    "kernelspec": {
      "name": "python3",
      "display_name": "Python 3"
    },
    "language_info": {
      "name": "python"
    },
    "accelerator": "GPU"
  },
  "cells": [
    {
      "cell_type": "code",
      "execution_count": 65,
      "metadata": {
        "id": "sFCENYCvcY-a"
      },
      "outputs": [],
      "source": [
        "# !wget https://files.consumerfinance.gov/ccdb/complaints.csv.zip -d complaints.zip"
      ]
    },
    {
      "cell_type": "code",
      "source": [
        "# !unzip complaints.csv.zip"
      ],
      "metadata": {
        "id": "0LP8RApgcddm"
      },
      "execution_count": 66,
      "outputs": []
    },
    {
      "cell_type": "code",
      "source": [
        "# !pip install transformers"
      ],
      "metadata": {
        "id": "KWfy5VvDhs-x"
      },
      "execution_count": 67,
      "outputs": []
    },
    {
      "cell_type": "code",
      "source": [
        "import numpy as np \n",
        "import pandas as pd\n",
        "import matplotlib.pyplot as plt\n",
        "import seaborn as sns\n",
        "from sklearn.model_selection import train_test_split\n",
        "from sklearn.linear_model import LogisticRegression\n",
        "from sklearn.model_selection import GridSearchCV\n",
        "from sklearn.model_selection import cross_val_score\n",
        "import torch\n",
        "import transformers as ppb\n",
        "import warnings\n",
        "warnings.filterwarnings('ignore')"
      ],
      "metadata": {
        "id": "pLh7NdQ3cgKf"
      },
      "execution_count": 68,
      "outputs": []
    },
    {
      "cell_type": "code",
      "source": [
        "df = pd.read_csv('complaints.csv', usecols = ['Product', 'Consumer complaint narrative'])\n",
        "df.info()"
      ],
      "metadata": {
        "colab": {
          "base_uri": "https://localhost:8080/"
        },
        "id": "J90Czgczci9V",
        "outputId": "325da3dd-e487-48c4-f58c-18f4a64b2f67"
      },
      "execution_count": 69,
      "outputs": [
        {
          "output_type": "stream",
          "name": "stdout",
          "text": [
            "<class 'pandas.core.frame.DataFrame'>\n",
            "RangeIndex: 2379125 entries, 0 to 2379124\n",
            "Data columns (total 2 columns):\n",
            " #   Column                        Dtype \n",
            "---  ------                        ----- \n",
            " 0   Product                       object\n",
            " 1   Consumer complaint narrative  object\n",
            "dtypes: object(2)\n",
            "memory usage: 36.3+ MB\n"
          ]
        }
      ]
    },
    {
      "cell_type": "code",
      "source": [
        "df.head()"
      ],
      "metadata": {
        "colab": {
          "base_uri": "https://localhost:8080/",
          "height": 206
        },
        "id": "tf1K7lf6cky8",
        "outputId": "2ce4d70a-adca-44a8-bf83-acd9acc46f1e"
      },
      "execution_count": 70,
      "outputs": [
        {
          "output_type": "execute_result",
          "data": {
            "text/html": [
              "<div>\n",
              "<style scoped>\n",
              "    .dataframe tbody tr th:only-of-type {\n",
              "        vertical-align: middle;\n",
              "    }\n",
              "\n",
              "    .dataframe tbody tr th {\n",
              "        vertical-align: top;\n",
              "    }\n",
              "\n",
              "    .dataframe thead th {\n",
              "        text-align: right;\n",
              "    }\n",
              "</style>\n",
              "<table border=\"1\" class=\"dataframe\">\n",
              "  <thead>\n",
              "    <tr style=\"text-align: right;\">\n",
              "      <th></th>\n",
              "      <th>Product</th>\n",
              "      <th>Consumer complaint narrative</th>\n",
              "    </tr>\n",
              "  </thead>\n",
              "  <tbody>\n",
              "    <tr>\n",
              "      <th>0</th>\n",
              "      <td>Credit reporting, credit repair services, or o...</td>\n",
              "      <td>NaN</td>\n",
              "    </tr>\n",
              "    <tr>\n",
              "      <th>1</th>\n",
              "      <td>Vehicle loan or lease</td>\n",
              "      <td>I contacted Ally on Friday XX/XX/XXXX after fa...</td>\n",
              "    </tr>\n",
              "    <tr>\n",
              "      <th>2</th>\n",
              "      <td>Credit reporting, credit repair services, or o...</td>\n",
              "      <td>NaN</td>\n",
              "    </tr>\n",
              "    <tr>\n",
              "      <th>3</th>\n",
              "      <td>Credit reporting, credit repair services, or o...</td>\n",
              "      <td>NaN</td>\n",
              "    </tr>\n",
              "    <tr>\n",
              "      <th>4</th>\n",
              "      <td>Checking or savings account</td>\n",
              "      <td>NaN</td>\n",
              "    </tr>\n",
              "  </tbody>\n",
              "</table>\n",
              "</div>"
            ],
            "text/plain": [
              "                                             Product                       Consumer complaint narrative\n",
              "0  Credit reporting, credit repair services, or o...                                                NaN\n",
              "1                              Vehicle loan or lease  I contacted Ally on Friday XX/XX/XXXX after fa...\n",
              "2  Credit reporting, credit repair services, or o...                                                NaN\n",
              "3  Credit reporting, credit repair services, or o...                                                NaN\n",
              "4                        Checking or savings account                                                NaN"
            ]
          },
          "metadata": {},
          "execution_count": 70
        }
      ]
    },
    {
      "cell_type": "code",
      "source": [
        "df1 = df.dropna(axis = 0)\n",
        "df1.reset_index(drop=True)\n",
        "\n",
        "df1.loc[df1['Product'] == 'Credit reporting', 'Product'] = 'Credit reporting, credit repair services, or other personal consumer reports'\n",
        "df1.loc[df1['Product'] == 'Credit card', 'Product'] = 'Credit card or prepaid card'\n",
        "df1.loc[df1['Product'] == 'Payday loan', 'Product'] = 'Payday loan, title loan, or personal loan'\n",
        "df1.loc[df1['Product'] == 'Virtual currency', 'Product'] = 'Money transfer, virtual currency, or money service'\n",
        "df1 = df1[df1.Product != 'Other financial service']"
      ],
      "metadata": {
        "id": "m5dD0yYAcnK5"
      },
      "execution_count": 71,
      "outputs": []
    },
    {
      "cell_type": "code",
      "source": [
        "def print_plot(index):\n",
        "    example = df1.iloc[index].values\n",
        "    if len(example) > 0:\n",
        "        print(example[1])\n",
        "        print('Product:', example[0])"
      ],
      "metadata": {
        "id": "vjlXw8lhdWE0"
      },
      "execution_count": 72,
      "outputs": []
    },
    {
      "cell_type": "code",
      "source": [
        "print_plot(42)"
      ],
      "metadata": {
        "colab": {
          "base_uri": "https://localhost:8080/"
        },
        "id": "iC5pA6VGdZie",
        "outputId": "32fc7334-b503-4088-e851-4b6a88cd088d"
      },
      "execution_count": 73,
      "outputs": [
        {
          "output_type": "stream",
          "name": "stdout",
          "text": [
            "I presently have four student loan accounts with Navient. All four of these accounts were originally opened with Sallie Mae under the title of 'Smart Option Student Loan '. Thereafter, the accounts were assigned to Navient without notice. All four of these accounts are now incorrectly reporting missed or late payments in XX/XX/XXXX and XX/XX/XXXX ( totaling 8 missed/late payments reported ) despite my diligent efforts to have Navient correct these errors. On two occasions through XXXX and on one occasion directly with Navient by mail, I have asked Navient to correct these reporting errors that are clearly contrary to the terms of our Promissory Note. \n",
            "\n",
            "Pursuant to the Promissory Notes of these loans ( see attached ), repayment of these loans was to commence after the 'Interim Period ' described in the Note in Section B ( 1 ) ( a ) as \" ... approximately six months after the date the student borrower graduates. '' Additionally, according to Section D ( Terms of Repayment ), Navient was required to send me a statement setting forth the repayment schedule on or before the date of repayment. ( See Section D ( 4 ) ). To date, no such repayment schedule has been received electronically or by mail. \n",
            "\n",
            "Further, I graduated from XXXX XXXX XXXX XXXX XXXX in XXXX, New Jersey in XXXX of XXXX. Accordingly, as the 'School Period ' of the 'Interim Period ' had ended at that time, the 'Separation Period ' had thereafter begun. ( See Section B ( 1 ) ). The Separation Period should have lasted until XX/XX/XXXX under the terms of the Promissory Note described above. However, contrary to this agreement, without notice, Navient began attempting to collect on full monthly payments in XXXX of XXXX. When I discovered that Navient reported late payments to the Credit Bureaus in XX/XX/XXXX of that year, I immediately took action on my account and began repayment while also attempting to dispute the subject of this present Complaint directly with Navient. \n",
            "\n",
            "To date, Navient has been unwilling to correct the clerical error that led to my account coming due before the agreed upon period and that ultimately led to the missed payments. Navient 's failure to correct this error is also a violation of Section R of our Promissory Note ( Correction of Clerical Errors ). In closing, Navient has acted in bad faith at every stage of repayment and the language of our agreement clearly shows that the 8 missed or late payments reflected on my Credit Reports should be removed immediately.\n",
            "Product: Credit reporting, credit repair services, or other personal consumer reports\n"
          ]
        }
      ]
    },
    {
      "cell_type": "code",
      "source": [
        "import nltk\n",
        "nltk.download('stopwords')\n",
        "\n",
        "import re\n",
        "from nltk.corpus import stopwords\n",
        "#regular expressions for data cleaning\n",
        "REPLACE_BY_SPACE_RE = re.compile('[/(){}\\[\\]\\|@,;]')\n",
        "BAD_SYMBOLS_RE = re.compile('[^0-9a-z #+_]')\n",
        "STOPWORDS = set(stopwords.words('english'))\n",
        "\n",
        "def clean_text(text):\n",
        "    text = text.lower() # lowercase text\n",
        "    text = REPLACE_BY_SPACE_RE.sub(' ', text) # replace REPLACE_BY_SPACE_RE symbols by space in text. substitute the matched string in REPLACE_BY_SPACE_RE with space.\n",
        "    text = BAD_SYMBOLS_RE.sub('', text) # remove symbols which are in BAD_SYMBOLS_RE from text. substitute the matched string in BAD_SYMBOLS_RE with nothing. \n",
        "    text = text.replace('x', '') #remove retracted info\n",
        "    text = ' '.join(word for word in text.split() if word not in STOPWORDS) # remove stopwors from text\n",
        "    text = re.sub('\\d+', '', text)\n",
        "    return text\n",
        "\n",
        "df1['Consumer complaint narrative'] = df1['Consumer complaint narrative'].apply(clean_text)"
      ],
      "metadata": {
        "colab": {
          "base_uri": "https://localhost:8080/"
        },
        "id": "JMKieJg3da_i",
        "outputId": "77939c26-810e-4fba-a8ce-140390a7d04d"
      },
      "execution_count": 74,
      "outputs": [
        {
          "output_type": "stream",
          "name": "stdout",
          "text": [
            "[nltk_data] Downloading package stopwords to /root/nltk_data...\n",
            "[nltk_data]   Package stopwords is already up-to-date!\n"
          ]
        }
      ]
    },
    {
      "cell_type": "code",
      "source": [
        "print_plot(42)"
      ],
      "metadata": {
        "colab": {
          "base_uri": "https://localhost:8080/"
        },
        "id": "-LNLny5ddlaY",
        "outputId": "9a556135-3bda-451f-bf26-9db80514b1b7"
      },
      "execution_count": 75,
      "outputs": [
        {
          "output_type": "stream",
          "name": "stdout",
          "text": [
            "presently four student loan accounts navient four accounts originally opened sallie mae title smart option student loan thereafter accounts assigned navient without notice four accounts incorrectly reporting missed late payments totaling  missed late payments reported despite diligent efforts navient correct errors two occasions one occasion directly navient mail asked navient correct reporting errors clearly contrary terms promissory note pursuant promissory notes loans see attached repayment loans commence interim period described note section b  approimately si months date student borrower graduates additionally according section terms repayment navient required send statement setting forth repayment schedule date repayment see section  date repayment schedule received electronically mail graduated new jersey accordingly school period interim period ended time separation period thereafter begun see section b  separation period lasted terms promissory note described however contrary agreement without notice navient began attempting collect full monthly payments discovered navient reported late payments credit bureaus year immediately took action account began repayment also attempting dispute subject present complaint directly navient date navient unwilling correct clerical error led account coming due agreed upon period ultimately led missed payments navient failure correct error also violation section r promissory note correction clerical errors closing navient acted bad faith every stage repayment language agreement clearly shows  missed late payments reflected credit reports removed immediately\n",
            "Product: Credit reporting, credit repair services, or other personal consumer reports\n"
          ]
        }
      ]
    },
    {
      "cell_type": "code",
      "source": [
        "df1.head()"
      ],
      "metadata": {
        "colab": {
          "base_uri": "https://localhost:8080/",
          "height": 206
        },
        "id": "u7oxjiOMdyz9",
        "outputId": "4f5d4076-5f18-4a5a-a64c-7751d2a89d4c"
      },
      "execution_count": 76,
      "outputs": [
        {
          "output_type": "execute_result",
          "data": {
            "text/html": [
              "<div>\n",
              "<style scoped>\n",
              "    .dataframe tbody tr th:only-of-type {\n",
              "        vertical-align: middle;\n",
              "    }\n",
              "\n",
              "    .dataframe tbody tr th {\n",
              "        vertical-align: top;\n",
              "    }\n",
              "\n",
              "    .dataframe thead th {\n",
              "        text-align: right;\n",
              "    }\n",
              "</style>\n",
              "<table border=\"1\" class=\"dataframe\">\n",
              "  <thead>\n",
              "    <tr style=\"text-align: right;\">\n",
              "      <th></th>\n",
              "      <th>Product</th>\n",
              "      <th>Consumer complaint narrative</th>\n",
              "    </tr>\n",
              "  </thead>\n",
              "  <tbody>\n",
              "    <tr>\n",
              "      <th>1</th>\n",
              "      <td>Vehicle loan or lease</td>\n",
              "      <td>contacted ally friday falling behind payments ...</td>\n",
              "    </tr>\n",
              "    <tr>\n",
              "      <th>5</th>\n",
              "      <td>Credit reporting, credit repair services, or o...</td>\n",
              "      <td>thanks cfpb able get account settled lost syst...</td>\n",
              "    </tr>\n",
              "    <tr>\n",
              "      <th>7</th>\n",
              "      <td>Credit reporting, credit repair services, or o...</td>\n",
              "      <td>hello complaint three credit reporting compani...</td>\n",
              "    </tr>\n",
              "    <tr>\n",
              "      <th>8</th>\n",
              "      <td>Credit reporting, credit repair services, or o...</td>\n",
              "      <td>victim identity theft currently eperian accoun...</td>\n",
              "    </tr>\n",
              "    <tr>\n",
              "      <th>11</th>\n",
              "      <td>Credit reporting, credit repair services, or o...</td>\n",
              "      <td>two accounts still credit history contacting c...</td>\n",
              "    </tr>\n",
              "  </tbody>\n",
              "</table>\n",
              "</div>"
            ],
            "text/plain": [
              "                                              Product                       Consumer complaint narrative\n",
              "1                               Vehicle loan or lease  contacted ally friday falling behind payments ...\n",
              "5   Credit reporting, credit repair services, or o...  thanks cfpb able get account settled lost syst...\n",
              "7   Credit reporting, credit repair services, or o...  hello complaint three credit reporting compani...\n",
              "8   Credit reporting, credit repair services, or o...  victim identity theft currently eperian accoun...\n",
              "11  Credit reporting, credit repair services, or o...  two accounts still credit history contacting c..."
            ]
          },
          "metadata": {},
          "execution_count": 76
        }
      ]
    },
    {
      "cell_type": "code",
      "source": [
        "df2 = df1.sample(10000, random_state=42)"
      ],
      "metadata": {
        "id": "5bcLyTEqkunK"
      },
      "execution_count": 77,
      "outputs": []
    },
    {
      "cell_type": "code",
      "source": [
        "' '.join(df2['Consumer complaint narrative'].iloc[0].split()[0:12])"
      ],
      "metadata": {
        "colab": {
          "base_uri": "https://localhost:8080/",
          "height": 35
        },
        "id": "1LICEk61mhcc",
        "outputId": "cd85908a-0f30-400d-9af4-19e15c60fc92"
      },
      "execution_count": 78,
      "outputs": [
        {
          "output_type": "execute_result",
          "data": {
            "application/vnd.google.colaboratory.intrinsic+json": {
              "type": "string"
            },
            "text/plain": [
              "'repeatedly failed separate dad credit reporting system year said would fi breach'"
            ]
          },
          "metadata": {},
          "execution_count": 78
        }
      ]
    },
    {
      "cell_type": "code",
      "source": [
        "def sample_text(x):\n",
        "  if len(x.split()) > 300:\n",
        "    return(' '.join(x.split()[:150]+x.split()[-150:]))\n",
        "  else:\n",
        "    return(x)"
      ],
      "metadata": {
        "id": "waulFC0Llll-"
      },
      "execution_count": 79,
      "outputs": []
    },
    {
      "cell_type": "code",
      "source": [
        "df2['Consumer complaint narrative'] = df2['Consumer complaint narrative'].apply(sample_text)"
      ],
      "metadata": {
        "id": "ukSpRdFBnaIC"
      },
      "execution_count": 80,
      "outputs": []
    },
    {
      "cell_type": "code",
      "source": [
        "def check_len(x):\n",
        "  return(len(x.split()))"
      ],
      "metadata": {
        "id": "bo2dDXzWzuhP"
      },
      "execution_count": 81,
      "outputs": []
    },
    {
      "cell_type": "code",
      "source": [
        "len_chk = df2['Consumer complaint narrative'].apply(check_len)"
      ],
      "metadata": {
        "id": "zkCN6saglJPg"
      },
      "execution_count": 82,
      "outputs": []
    },
    {
      "cell_type": "code",
      "source": [
        "len_chk.describe().T"
      ],
      "metadata": {
        "colab": {
          "base_uri": "https://localhost:8080/"
        },
        "id": "UGmRhPnllRX6",
        "outputId": "83420e29-16bf-4533-834e-3a692906cb60"
      },
      "execution_count": 83,
      "outputs": [
        {
          "output_type": "execute_result",
          "data": {
            "text/plain": [
              "count    10000.000000\n",
              "mean        78.118800\n",
              "std         70.812986\n",
              "min          0.000000\n",
              "25%         29.000000\n",
              "50%         55.000000\n",
              "75%        102.000000\n",
              "max        300.000000\n",
              "Name: Consumer complaint narrative, dtype: float64"
            ]
          },
          "metadata": {},
          "execution_count": 83
        }
      ]
    },
    {
      "cell_type": "code",
      "source": [
        "# For DistilBERT:\n",
        "model_class, tokenizer_class, pretrained_weights = (ppb.DistilBertModel, ppb.DistilBertTokenizer, 'distilbert-base-uncased')\n",
        "\n",
        "## Want BERT instead of distilBERT? Uncomment the following line:\n",
        "#model_class, tokenizer_class, pretrained_weights = (ppb.BertModel, ppb.BertTokenizer, 'bert-base-uncased')\n",
        "\n",
        "# Load pretrained model/tokenizer\n",
        "tokenizer = tokenizer_class.from_pretrained(pretrained_weights)\n",
        "model = model_class.from_pretrained(pretrained_weights)"
      ],
      "metadata": {
        "colab": {
          "base_uri": "https://localhost:8080/"
        },
        "id": "9o7hZqqGeTtW",
        "outputId": "f3cbf01e-1bae-4814-b218-52e686fc8d03"
      },
      "execution_count": 84,
      "outputs": [
        {
          "output_type": "stream",
          "name": "stderr",
          "text": [
            "Some weights of the model checkpoint at distilbert-base-uncased were not used when initializing DistilBertModel: ['vocab_projector.bias', 'vocab_layer_norm.bias', 'vocab_transform.bias', 'vocab_projector.weight', 'vocab_transform.weight', 'vocab_layer_norm.weight']\n",
            "- This IS expected if you are initializing DistilBertModel from the checkpoint of a model trained on another task or with another architecture (e.g. initializing a BertForSequenceClassification model from a BertForPreTraining model).\n",
            "- This IS NOT expected if you are initializing DistilBertModel from the checkpoint of a model that you expect to be exactly identical (initializing a BertForSequenceClassification model from a BertForSequenceClassification model).\n"
          ]
        }
      ]
    },
    {
      "cell_type": "code",
      "source": [
        "tokenized = df2['Consumer complaint narrative'].apply((lambda x: tokenizer.encode(x, add_special_tokens=True)))"
      ],
      "metadata": {
        "id": "br3ucRA1hlsN"
      },
      "execution_count": 85,
      "outputs": []
    },
    {
      "cell_type": "code",
      "source": [
        "max_len = 0\n",
        "for i in tokenized.values:\n",
        "    if len(i) > max_len:\n",
        "        max_len = len(i)\n",
        "\n",
        "padded = np.array([i + [0]*(max_len-len(i)) for i in tokenized.values])"
      ],
      "metadata": {
        "id": "9SLlfygqh8LK"
      },
      "execution_count": 86,
      "outputs": []
    },
    {
      "cell_type": "code",
      "source": [
        "np.array(padded).shape"
      ],
      "metadata": {
        "colab": {
          "base_uri": "https://localhost:8080/"
        },
        "id": "sx-i7ynUiEp5",
        "outputId": "3916c936-74ab-43aa-ee46-d6ea98c2346f"
      },
      "execution_count": 87,
      "outputs": [
        {
          "output_type": "execute_result",
          "data": {
            "text/plain": [
              "(10000, 454)"
            ]
          },
          "metadata": {},
          "execution_count": 87
        }
      ]
    },
    {
      "cell_type": "code",
      "source": [
        "attention_mask = np.where(padded != 0, 1, 0)\n",
        "attention_mask.shape"
      ],
      "metadata": {
        "colab": {
          "base_uri": "https://localhost:8080/"
        },
        "id": "N1HgecQFiqgh",
        "outputId": "569fb8ed-5626-44a7-fae5-749e11064ad6"
      },
      "execution_count": 88,
      "outputs": [
        {
          "output_type": "execute_result",
          "data": {
            "text/plain": [
              "(10000, 454)"
            ]
          },
          "metadata": {},
          "execution_count": 88
        }
      ]
    },
    {
      "cell_type": "code",
      "source": [
        "len(padded)"
      ],
      "metadata": {
        "colab": {
          "base_uri": "https://localhost:8080/"
        },
        "id": "UDpk6h8aAYpu",
        "outputId": "28a67f81-35b9-4521-9b4a-85ab8a1ce54d"
      },
      "execution_count": 89,
      "outputs": [
        {
          "output_type": "execute_result",
          "data": {
            "text/plain": [
              "10000"
            ]
          },
          "metadata": {},
          "execution_count": 89
        }
      ]
    },
    {
      "cell_type": "code",
      "source": [
        "padded"
      ],
      "metadata": {
        "colab": {
          "base_uri": "https://localhost:8080/"
        },
        "id": "4tB8XmxzH7gf",
        "outputId": "fc6288a5-1b8e-4d07-d716-384fefc21998"
      },
      "execution_count": 90,
      "outputs": [
        {
          "output_type": "execute_result",
          "data": {
            "text/plain": [
              "array([[  101,  8385,  3478, ...,     0,     0,     0],\n",
              "       [  101,  6023,  1056, ...,     0,     0,     0],\n",
              "       [  101,  2755,  4034, ...,     0,     0,     0],\n",
              "       ...,\n",
              "       [  101,  2667,  5309, ...,     0,     0,     0],\n",
              "       [  101,  3531,  7901, ...,     0,     0,     0],\n",
              "       [  101,  4958, 27549, ...,     0,     0,     0]])"
            ]
          },
          "metadata": {},
          "execution_count": 90
        }
      ]
    },
    {
      "cell_type": "code",
      "source": [
        "features = {}\n",
        "bs = 100\n",
        "for i in range(int(len(padded)/bs)):\n",
        "  print(i)\n",
        "  a = padded[i*bs:i*bs+bs]\n",
        "  input_ids = torch.tensor(a)  \n",
        "  print(len(input_ids))\n",
        "  att_mask = torch.tensor(attention_mask[i*bs:i*bs+bs])\n",
        "\n",
        "  with torch.no_grad():\n",
        "      last_hidden_states = model(input_ids, attention_mask=att_mask)\n",
        "  features[i] = last_hidden_states[0][:,0,:].numpy()"
      ],
      "metadata": {
        "id": "g4Ux2S_yisuh",
        "colab": {
          "base_uri": "https://localhost:8080/"
        },
        "outputId": "8a24082b-f869-4af3-a3de-ba93738b77b3"
      },
      "execution_count": null,
      "outputs": [
        {
          "output_type": "stream",
          "name": "stdout",
          "text": [
            "0\n",
            "100\n",
            "1\n",
            "100\n",
            "2\n",
            "100\n",
            "3\n",
            "100\n",
            "4\n",
            "100\n",
            "5\n",
            "100\n",
            "6\n",
            "100\n",
            "7\n",
            "100\n",
            "8\n",
            "100\n",
            "9\n",
            "100\n",
            "10\n",
            "100\n",
            "11\n",
            "100\n",
            "12\n",
            "100\n",
            "13\n",
            "100\n",
            "14\n",
            "100\n"
          ]
        }
      ]
    },
    {
      "cell_type": "code",
      "source": [
        "f = []\n",
        "for i in range(10):\n",
        "  f = f + list(features[i])"
      ],
      "metadata": {
        "id": "2g26pOZTDj5-"
      },
      "execution_count": null,
      "outputs": []
    },
    {
      "cell_type": "code",
      "source": [
        "f = np.array(f)"
      ],
      "metadata": {
        "id": "TcFeNWVWWrO5"
      },
      "execution_count": null,
      "outputs": []
    },
    {
      "cell_type": "code",
      "source": [
        "f.shape"
      ],
      "metadata": {
        "id": "NFCznxgsXh8m"
      },
      "execution_count": null,
      "outputs": []
    },
    {
      "cell_type": "code",
      "source": [
        "# features = last_hidden_states[0][:,0,:].numpy()"
      ],
      "metadata": {
        "id": "WTgIJhe0iwJW"
      },
      "execution_count": null,
      "outputs": []
    },
    {
      "cell_type": "code",
      "source": [
        "labels = pd.get_dummies(df2['Product']).values"
      ],
      "metadata": {
        "id": "nMY6VR7Giyh0"
      },
      "execution_count": null,
      "outputs": []
    },
    {
      "cell_type": "code",
      "source": [
        "classes = df2.Product.nunique()"
      ],
      "metadata": {
        "id": "EmVHYW3_ymDL"
      },
      "execution_count": null,
      "outputs": []
    },
    {
      "cell_type": "code",
      "source": [
        "from sklearn.model_selection import train_test_split\n",
        "X_train, X_test, Y_train, Y_test = train_test_split(f,labels, test_size = 0.10, random_state = 42)\n",
        "print(X_train.shape,Y_train.shape)\n",
        "print(X_test.shape,Y_test.shape)"
      ],
      "metadata": {
        "id": "hDDKX-OpjByN"
      },
      "execution_count": null,
      "outputs": []
    },
    {
      "cell_type": "code",
      "source": [
        "from tensorflow.keras.layers import Dense, Embedding, LSTM, SpatialDropout1D, Dropout, BatchNormalization\n",
        "from tensorflow.keras.models import Sequential\n",
        "from tensorflow.keras.callbacks import EarlyStopping"
      ],
      "metadata": {
        "id": "XVLeLoVC1RN1"
      },
      "execution_count": null,
      "outputs": []
    },
    {
      "cell_type": "code",
      "source": [
        "model = Sequential()\n",
        "model.add(Dense(128, input_dim = 768))\n",
        "model.add(BatchNormalization())\n",
        "model.add(Dropout(0.4))\n",
        "model.add(Dense(classes, activation='softmax'))\n",
        "model.compile(loss='categorical_crossentropy', optimizer='adam', metrics=['accuracy'])\n",
        "print(model.summary())"
      ],
      "metadata": {
        "id": "GES6VXkwjMT5"
      },
      "execution_count": null,
      "outputs": []
    },
    {
      "cell_type": "code",
      "source": [
        "epochs = 500\n",
        "batch_size = 1024\n",
        "\n",
        "history = model.fit(X_train, Y_train, epochs=epochs,validation_split=0.1)"
      ],
      "metadata": {
        "id": "f50xn-LckD8p"
      },
      "execution_count": null,
      "outputs": []
    },
    {
      "cell_type": "code",
      "source": [
        ""
      ],
      "metadata": {
        "id": "FX1qTrYxkEq8"
      },
      "execution_count": null,
      "outputs": []
    }
  ]
}