{
  "cells": [
    {
      "cell_type": "markdown",
      "id": "9e5bc699",
      "metadata": {
        "id": "9e5bc699"
      },
      "source": [
        "## Multiclass classification on the Consumer complaints Dataset"
      ]
    },
    {
      "cell_type": "markdown",
      "id": "2c811733",
      "metadata": {
        "id": "2c811733"
      },
      "source": [
        "**Dataset downloaded form: https://catalog.data.gov/dataset/consumer-complaint-database**"
      ]
    },
    {
      "cell_type": "code",
      "source": [
        "!wget https://files.consumerfinance.gov/ccdb/complaints.csv.zip -d complaints.zip"
      ],
      "metadata": {
        "colab": {
          "base_uri": "https://localhost:8080/"
        },
        "id": "5_Ydt-OjH7X0",
        "outputId": "14e9ed78-5637-4ccf-f5e3-a7700c351062"
      },
      "id": "5_Ydt-OjH7X0",
      "execution_count": 1,
      "outputs": [
        {
          "output_type": "stream",
          "name": "stdout",
          "text": [
            "DEBUG output created by Wget 1.19.4 on linux-gnu.\n",
            "\n",
            "Reading HSTS entries from /root/.wget-hsts\n",
            "URI encoding = ‘UTF-8’\n",
            "Converted file name 'complaints.csv.zip' (UTF-8) -> 'complaints.csv.zip' (UTF-8)\n",
            "--2021-12-11 15:34:43--  https://files.consumerfinance.gov/ccdb/complaints.csv.zip\n",
            "Resolving files.consumerfinance.gov (files.consumerfinance.gov)... 13.249.93.82, 13.249.93.54, 13.249.93.125, ...\n",
            "Caching files.consumerfinance.gov => 13.249.93.82 13.249.93.54 13.249.93.125 13.249.93.124\n",
            "Connecting to files.consumerfinance.gov (files.consumerfinance.gov)|13.249.93.82|:443... connected.\n",
            "Created socket 5.\n",
            "Releasing 0x0000557082a60ae0 (new refcount 1).\n",
            "Initiating SSL handshake.\n",
            "Handshake successful; connected socket 5 to SSL handle 0x0000557082a84000\n",
            "certificate:\n",
            "  subject: CN=files.consumerfinance.gov,O=Consumer Financial Protection Bureau,L=Washington,ST=District of Columbia,C=US\n",
            "  issuer:  CN=Entrust Certification Authority - L1K,OU=(c) 2012 Entrust\\\\, Inc. - for authorized use only,OU=See www.entrust.net/legal-terms,O=Entrust\\\\, Inc.,C=US\n",
            "X509 certificate successfully verified and matches host files.consumerfinance.gov\n",
            "\n",
            "---request begin---\n",
            "GET /ccdb/complaints.csv.zip HTTP/1.1\r\n",
            "User-Agent: Wget/1.19.4 (linux-gnu)\r\n",
            "Accept: */*\r\n",
            "Accept-Encoding: identity\r\n",
            "Host: files.consumerfinance.gov\r\n",
            "Connection: Keep-Alive\r\n",
            "\r\n",
            "---request end---\n",
            "HTTP request sent, awaiting response... \n",
            "---response begin---\n",
            "HTTP/1.1 200 OK\r\n",
            "Content-Type: binary/octet-stream\r\n",
            "Content-Length: 394525840\r\n",
            "Connection: keep-alive\r\n",
            "Date: Sat, 11 Dec 2021 15:32:50 GMT\r\n",
            "Last-Modified: Fri, 10 Dec 2021 10:44:50 GMT\r\n",
            "x-amz-version-id: cF0el5qGX9y8_LSUngnHNdZko_v7JDKk\r\n",
            "ETag: \"22841d58ceb5702d96bbf60f71f2c34d-48\"\r\n",
            "Server: AmazonS3\r\n",
            "X-Cache: Hit from cloudfront\r\n",
            "Via: 1.1 8542aaf5305e0e6e067cca1e9561db6e.cloudfront.net (CloudFront)\r\n",
            "X-Amz-Cf-Pop: ORD52-C1\r\n",
            "X-Amz-Cf-Id: SRAZAfvad7I-ELyKkkyKs4HzI-15CoxKwva8NgX6ymWt1m7G5160Ew==\r\n",
            "Age: 115\r\n",
            "\r\n",
            "---response end---\n",
            "200 OK\n",
            "Registered socket 5 for persistent reuse.\n",
            "Length: 394525840 (376M) [binary/octet-stream]\n",
            "Saving to: ‘complaints.csv.zip’\n",
            "\n",
            "complaints.csv.zip  100%[===================>] 376.25M  65.8MB/s    in 5.3s    \n",
            "\n",
            "2021-12-11 15:34:49 (70.8 MB/s) - ‘complaints.csv.zip’ saved [394525840/394525840]\n",
            "\n",
            "URI encoding = ‘UTF-8’\n",
            "Converted file name 'index.html' (UTF-8) -> 'index.html' (UTF-8)\n",
            "--2021-12-11 15:34:49--  http://complaints.zip/\n",
            "Resolving complaints.zip (complaints.zip)... failed: Name or service not known.\n",
            "wget: unable to resolve host address ‘complaints.zip’\n",
            "FINISHED --2021-12-11 15:34:49--\n",
            "Total wall clock time: 5.7s\n",
            "Downloaded: 1 files, 376M in 5.3s (70.8 MB/s)\n"
          ]
        }
      ]
    },
    {
      "cell_type": "code",
      "source": [
        "!unzip complaints.csv.zip"
      ],
      "metadata": {
        "colab": {
          "base_uri": "https://localhost:8080/"
        },
        "id": "U8rHG-qbIDpd",
        "outputId": "0e2a214b-c9ac-4c8e-fea8-1e0a1c6bac93"
      },
      "id": "U8rHG-qbIDpd",
      "execution_count": 2,
      "outputs": [
        {
          "output_type": "stream",
          "name": "stdout",
          "text": [
            "Archive:  complaints.csv.zip\n",
            "  inflating: complaints.csv          \n"
          ]
        }
      ]
    },
    {
      "cell_type": "code",
      "execution_count": 3,
      "id": "cbe5869c",
      "metadata": {
        "id": "cbe5869c"
      },
      "outputs": [],
      "source": [
        "import numpy as np \n",
        "import pandas as pd\n",
        "import matplotlib.pyplot as plt\n",
        "import seaborn as sns\n",
        "# from plotly.offline import iplot"
      ]
    },
    {
      "cell_type": "code",
      "execution_count": 4,
      "id": "a19efd6b",
      "metadata": {
        "id": "a19efd6b"
      },
      "outputs": [],
      "source": [
        "# !find /c /v \"complaints.csv\""
      ]
    },
    {
      "cell_type": "markdown",
      "id": "22b94cb7",
      "metadata": {
        "id": "22b94cb7"
      },
      "source": [
        "### Since the number of data points is very large, only considering the required columns"
      ]
    },
    {
      "cell_type": "code",
      "execution_count": 5,
      "id": "339937a2",
      "metadata": {
        "colab": {
          "base_uri": "https://localhost:8080/"
        },
        "id": "339937a2",
        "outputId": "d0941ebb-1845-4ff6-9bdd-3b84bba55939"
      },
      "outputs": [
        {
          "output_type": "stream",
          "name": "stdout",
          "text": [
            "<class 'pandas.core.frame.DataFrame'>\n",
            "RangeIndex: 2374711 entries, 0 to 2374710\n",
            "Data columns (total 2 columns):\n",
            " #   Column                        Dtype \n",
            "---  ------                        ----- \n",
            " 0   Product                       object\n",
            " 1   Consumer complaint narrative  object\n",
            "dtypes: object(2)\n",
            "memory usage: 36.2+ MB\n"
          ]
        }
      ],
      "source": [
        "df = pd.read_csv('complaints.csv', usecols = ['Product', 'Consumer complaint narrative'])\n",
        "df.info()"
      ]
    },
    {
      "cell_type": "code",
      "execution_count": 6,
      "id": "06c9b4df",
      "metadata": {
        "id": "06c9b4df"
      },
      "outputs": [],
      "source": [
        "# df = df[['Product', 'Consumer complaint narrative']]"
      ]
    },
    {
      "cell_type": "code",
      "execution_count": 7,
      "id": "ed5c5cee",
      "metadata": {
        "colab": {
          "base_uri": "https://localhost:8080/",
          "height": 206
        },
        "id": "ed5c5cee",
        "outputId": "23d5abbb-676b-4fd3-d341-ceae27858269"
      },
      "outputs": [
        {
          "output_type": "execute_result",
          "data": {
            "text/html": [
              "<div>\n",
              "<style scoped>\n",
              "    .dataframe tbody tr th:only-of-type {\n",
              "        vertical-align: middle;\n",
              "    }\n",
              "\n",
              "    .dataframe tbody tr th {\n",
              "        vertical-align: top;\n",
              "    }\n",
              "\n",
              "    .dataframe thead th {\n",
              "        text-align: right;\n",
              "    }\n",
              "</style>\n",
              "<table border=\"1\" class=\"dataframe\">\n",
              "  <thead>\n",
              "    <tr style=\"text-align: right;\">\n",
              "      <th></th>\n",
              "      <th>Product</th>\n",
              "      <th>Consumer complaint narrative</th>\n",
              "    </tr>\n",
              "  </thead>\n",
              "  <tbody>\n",
              "    <tr>\n",
              "      <th>0</th>\n",
              "      <td>Credit reporting, credit repair services, or o...</td>\n",
              "      <td>NaN</td>\n",
              "    </tr>\n",
              "    <tr>\n",
              "      <th>1</th>\n",
              "      <td>Vehicle loan or lease</td>\n",
              "      <td>I contacted Ally on Friday XX/XX/XXXX after fa...</td>\n",
              "    </tr>\n",
              "    <tr>\n",
              "      <th>2</th>\n",
              "      <td>Credit reporting, credit repair services, or o...</td>\n",
              "      <td>NaN</td>\n",
              "    </tr>\n",
              "    <tr>\n",
              "      <th>3</th>\n",
              "      <td>Checking or savings account</td>\n",
              "      <td>NaN</td>\n",
              "    </tr>\n",
              "    <tr>\n",
              "      <th>4</th>\n",
              "      <td>Credit card or prepaid card</td>\n",
              "      <td>On XX/XX/2019 my bill did not go through accou...</td>\n",
              "    </tr>\n",
              "  </tbody>\n",
              "</table>\n",
              "</div>"
            ],
            "text/plain": [
              "                                             Product                       Consumer complaint narrative\n",
              "0  Credit reporting, credit repair services, or o...                                                NaN\n",
              "1                              Vehicle loan or lease  I contacted Ally on Friday XX/XX/XXXX after fa...\n",
              "2  Credit reporting, credit repair services, or o...                                                NaN\n",
              "3                        Checking or savings account                                                NaN\n",
              "4                        Credit card or prepaid card  On XX/XX/2019 my bill did not go through accou..."
            ]
          },
          "metadata": {},
          "execution_count": 7
        }
      ],
      "source": [
        "df.head()"
      ]
    },
    {
      "cell_type": "code",
      "execution_count": 8,
      "id": "4de3c842",
      "metadata": {
        "colab": {
          "base_uri": "https://localhost:8080/",
          "height": 424
        },
        "id": "4de3c842",
        "outputId": "2855e5ef-f74f-465b-da95-de83f3c71afd"
      },
      "outputs": [
        {
          "output_type": "execute_result",
          "data": {
            "text/html": [
              "<div>\n",
              "<style scoped>\n",
              "    .dataframe tbody tr th:only-of-type {\n",
              "        vertical-align: middle;\n",
              "    }\n",
              "\n",
              "    .dataframe tbody tr th {\n",
              "        vertical-align: top;\n",
              "    }\n",
              "\n",
              "    .dataframe thead th {\n",
              "        text-align: right;\n",
              "    }\n",
              "</style>\n",
              "<table border=\"1\" class=\"dataframe\">\n",
              "  <thead>\n",
              "    <tr style=\"text-align: right;\">\n",
              "      <th></th>\n",
              "      <th>Product</th>\n",
              "      <th>Consumer complaint narrative</th>\n",
              "    </tr>\n",
              "  </thead>\n",
              "  <tbody>\n",
              "    <tr>\n",
              "      <th>0</th>\n",
              "      <td>Vehicle loan or lease</td>\n",
              "      <td>I contacted Ally on Friday XX/XX/XXXX after fa...</td>\n",
              "    </tr>\n",
              "    <tr>\n",
              "      <th>1</th>\n",
              "      <td>Credit card or prepaid card</td>\n",
              "      <td>On XX/XX/2019 my bill did not go through accou...</td>\n",
              "    </tr>\n",
              "    <tr>\n",
              "      <th>2</th>\n",
              "      <td>Credit reporting, credit repair services, or o...</td>\n",
              "      <td>Hello This complaint is against the three cred...</td>\n",
              "    </tr>\n",
              "    <tr>\n",
              "      <th>3</th>\n",
              "      <td>Credit reporting, credit repair services, or o...</td>\n",
              "      <td>I am a victim of Identity Theft &amp; currently ha...</td>\n",
              "    </tr>\n",
              "    <tr>\n",
              "      <th>4</th>\n",
              "      <td>Credit reporting, credit repair services, or o...</td>\n",
              "      <td>Two accounts are still on my credit history af...</td>\n",
              "    </tr>\n",
              "    <tr>\n",
              "      <th>...</th>\n",
              "      <td>...</td>\n",
              "      <td>...</td>\n",
              "    </tr>\n",
              "    <tr>\n",
              "      <th>829025</th>\n",
              "      <td>Credit card</td>\n",
              "      <td>Automated calls from \" XXXX with Capital One '...</td>\n",
              "    </tr>\n",
              "    <tr>\n",
              "      <th>829026</th>\n",
              "      <td>Debt collection</td>\n",
              "      <td>I have disputed my debts several times with no...</td>\n",
              "    </tr>\n",
              "    <tr>\n",
              "      <th>829027</th>\n",
              "      <td>Mortgage</td>\n",
              "      <td>My father died in XX/XX/XXXX. Left me his only...</td>\n",
              "    </tr>\n",
              "    <tr>\n",
              "      <th>829028</th>\n",
              "      <td>Credit reporting</td>\n",
              "      <td>cfbp i would Like to file a complaint on Exper...</td>\n",
              "    </tr>\n",
              "    <tr>\n",
              "      <th>829029</th>\n",
              "      <td>Credit reporting</td>\n",
              "      <td>My husband and I are in the middle of an FHA S...</td>\n",
              "    </tr>\n",
              "  </tbody>\n",
              "</table>\n",
              "<p>829030 rows × 2 columns</p>\n",
              "</div>"
            ],
            "text/plain": [
              "                                                  Product                       Consumer complaint narrative\n",
              "0                                   Vehicle loan or lease  I contacted Ally on Friday XX/XX/XXXX after fa...\n",
              "1                             Credit card or prepaid card  On XX/XX/2019 my bill did not go through accou...\n",
              "2       Credit reporting, credit repair services, or o...  Hello This complaint is against the three cred...\n",
              "3       Credit reporting, credit repair services, or o...  I am a victim of Identity Theft & currently ha...\n",
              "4       Credit reporting, credit repair services, or o...  Two accounts are still on my credit history af...\n",
              "...                                                   ...                                                ...\n",
              "829025                                        Credit card  Automated calls from \" XXXX with Capital One '...\n",
              "829026                                    Debt collection  I have disputed my debts several times with no...\n",
              "829027                                           Mortgage  My father died in XX/XX/XXXX. Left me his only...\n",
              "829028                                   Credit reporting  cfbp i would Like to file a complaint on Exper...\n",
              "829029                                   Credit reporting  My husband and I are in the middle of an FHA S...\n",
              "\n",
              "[829030 rows x 2 columns]"
            ]
          },
          "metadata": {},
          "execution_count": 8
        }
      ],
      "source": [
        "df1 = df.dropna(axis = 0)\n",
        "df1.reset_index(drop=True)\n",
        "# df1=df1.drop('index', axis = 1)"
      ]
    },
    {
      "cell_type": "code",
      "execution_count": 9,
      "id": "9c6e7a9b",
      "metadata": {
        "colab": {
          "base_uri": "https://localhost:8080/"
        },
        "id": "9c6e7a9b",
        "outputId": "73b55bd8-6929-43ee-a5e4-5d8f4cdd5457"
      },
      "outputs": [
        {
          "output_type": "stream",
          "name": "stdout",
          "text": [
            "<class 'pandas.core.frame.DataFrame'>\n",
            "Int64Index: 829030 entries, 1 to 2374709\n",
            "Data columns (total 2 columns):\n",
            " #   Column                        Non-Null Count   Dtype \n",
            "---  ------                        --------------   ----- \n",
            " 0   Product                       829030 non-null  object\n",
            " 1   Consumer complaint narrative  829030 non-null  object\n",
            "dtypes: object(2)\n",
            "memory usage: 19.0+ MB\n"
          ]
        }
      ],
      "source": [
        "df1.info()"
      ]
    },
    {
      "cell_type": "code",
      "execution_count": 10,
      "id": "d23c1d3d",
      "metadata": {
        "colab": {
          "base_uri": "https://localhost:8080/"
        },
        "id": "d23c1d3d",
        "outputId": "543e0bd6-ef11-4b77-92ec-44784b685e23"
      },
      "outputs": [
        {
          "output_type": "execute_result",
          "data": {
            "text/plain": [
              "Credit reporting, credit repair services, or other personal consumer reports    326828\n",
              "Debt collection                                                                 160799\n",
              "Mortgage                                                                         85766\n",
              "Credit card or prepaid card                                                      62540\n",
              "Checking or savings account                                                      38576\n",
              "Credit reporting                                                                 31588\n",
              "Student loan                                                                     29321\n",
              "Money transfer, virtual currency, or money service                               19244\n",
              "Credit card                                                                      18838\n",
              "Vehicle loan or lease                                                            15521\n",
              "Bank account or service                                                          14885\n",
              "Payday loan, title loan, or personal loan                                        10653\n",
              "Consumer Loan                                                                     9470\n",
              "Payday loan                                                                       1746\n",
              "Money transfers                                                                   1497\n",
              "Prepaid card                                                                      1450\n",
              "Other financial service                                                            292\n",
              "Virtual currency                                                                    16\n",
              "Name: Product, dtype: int64"
            ]
          },
          "metadata": {},
          "execution_count": 10
        }
      ],
      "source": [
        "df1.Product.value_counts()"
      ]
    },
    {
      "cell_type": "markdown",
      "id": "ab240a2e",
      "metadata": {
        "id": "ab240a2e"
      },
      "source": [
        "**Some of the Products can be clubbed together like:**\n",
        "- Consolidate “Credit reporting” into “Credit reporting, credit repair services, or other personal consumer reports”.\n",
        "- Consolidate “Credit card” into “Credit card or prepaid card”.\n",
        "- Consolidate “Payday loan” into “Payday loan, title loan, or personal loan”.\n",
        "- Consolidate “Virtual currency” into “Money transfer, virtual currency, or money service”.  \n",
        "“Other financial service” has very few number of complaints and it does not mean anything, so it is removed."
      ]
    },
    {
      "cell_type": "code",
      "execution_count": 11,
      "id": "abb3a6c2",
      "metadata": {
        "colab": {
          "base_uri": "https://localhost:8080/"
        },
        "id": "abb3a6c2",
        "outputId": "65cb041b-976d-4c4a-da51-ef29743e6eaa"
      },
      "outputs": [
        {
          "output_type": "stream",
          "name": "stderr",
          "text": [
            "/usr/local/lib/python3.7/dist-packages/pandas/core/indexing.py:670: SettingWithCopyWarning: \n",
            "A value is trying to be set on a copy of a slice from a DataFrame\n",
            "\n",
            "See the caveats in the documentation: https://pandas.pydata.org/pandas-docs/stable/user_guide/indexing.html#returning-a-view-versus-a-copy\n",
            "  iloc._setitem_with_indexer(indexer, value)\n",
            "/usr/local/lib/python3.7/dist-packages/ipykernel_launcher.py:1: SettingWithCopyWarning: \n",
            "A value is trying to be set on a copy of a slice from a DataFrame\n",
            "\n",
            "See the caveats in the documentation: https://pandas.pydata.org/pandas-docs/stable/user_guide/indexing.html#returning-a-view-versus-a-copy\n",
            "  \"\"\"Entry point for launching an IPython kernel.\n",
            "/usr/local/lib/python3.7/dist-packages/ipykernel_launcher.py:2: SettingWithCopyWarning: \n",
            "A value is trying to be set on a copy of a slice from a DataFrame\n",
            "\n",
            "See the caveats in the documentation: https://pandas.pydata.org/pandas-docs/stable/user_guide/indexing.html#returning-a-view-versus-a-copy\n",
            "  \n",
            "/usr/local/lib/python3.7/dist-packages/ipykernel_launcher.py:3: SettingWithCopyWarning: \n",
            "A value is trying to be set on a copy of a slice from a DataFrame\n",
            "\n",
            "See the caveats in the documentation: https://pandas.pydata.org/pandas-docs/stable/user_guide/indexing.html#returning-a-view-versus-a-copy\n",
            "  This is separate from the ipykernel package so we can avoid doing imports until\n",
            "/usr/local/lib/python3.7/dist-packages/ipykernel_launcher.py:4: SettingWithCopyWarning: \n",
            "A value is trying to be set on a copy of a slice from a DataFrame\n",
            "\n",
            "See the caveats in the documentation: https://pandas.pydata.org/pandas-docs/stable/user_guide/indexing.html#returning-a-view-versus-a-copy\n",
            "  after removing the cwd from sys.path.\n"
          ]
        }
      ],
      "source": [
        "df1.loc[df1['Product'] == 'Credit reporting', 'Product'] = 'Credit reporting, credit repair services, or other personal consumer reports'\n",
        "df1.loc[df1['Product'] == 'Credit card', 'Product'] = 'Credit card or prepaid card'\n",
        "df1.loc[df1['Product'] == 'Payday loan', 'Product'] = 'Payday loan, title loan, or personal loan'\n",
        "df1.loc[df1['Product'] == 'Virtual currency', 'Product'] = 'Money transfer, virtual currency, or money service'\n",
        "df1 = df1[df1.Product != 'Other financial service']"
      ]
    },
    {
      "cell_type": "code",
      "execution_count": 12,
      "id": "1f4a9ed0",
      "metadata": {
        "colab": {
          "base_uri": "https://localhost:8080/",
          "height": 662
        },
        "id": "1f4a9ed0",
        "outputId": "63e4da88-68e2-4091-e0f8-8a89b2a9b2dd"
      },
      "outputs": [
        {
          "output_type": "execute_result",
          "data": {
            "text/plain": [
              "<matplotlib.axes._subplots.AxesSubplot at 0x7f559a8d5cd0>"
            ]
          },
          "metadata": {},
          "execution_count": 12
        },
        {
          "output_type": "display_data",
          "data": {
            "image/png": "[encoded data removed]",
            "text/plain": [
              "<Figure size 432x288 with 1 Axes>"
            ]
          },
          "metadata": {
            "needs_background": "light"
          }
        }
      ],
      "source": [
        "df1['Product'].value_counts().sort_values(ascending=False).plot(kind='bar', \n",
        "                                                                title='Number complaints in each product')"
      ]
    },
    {
      "cell_type": "markdown",
      "id": "a9bf5f88",
      "metadata": {
        "id": "a9bf5f88"
      },
      "source": [
        "### Text exploration and cleaning"
      ]
    },
    {
      "cell_type": "code",
      "execution_count": 13,
      "id": "b611472b",
      "metadata": {
        "colab": {
          "base_uri": "https://localhost:8080/",
          "height": 206
        },
        "id": "b611472b",
        "outputId": "a0b9aa3b-b5c7-4b57-f632-76e8f14f767f"
      },
      "outputs": [
        {
          "output_type": "execute_result",
          "data": {
            "text/html": [
              "<div>\n",
              "<style scoped>\n",
              "    .dataframe tbody tr th:only-of-type {\n",
              "        vertical-align: middle;\n",
              "    }\n",
              "\n",
              "    .dataframe tbody tr th {\n",
              "        vertical-align: top;\n",
              "    }\n",
              "\n",
              "    .dataframe thead th {\n",
              "        text-align: right;\n",
              "    }\n",
              "</style>\n",
              "<table border=\"1\" class=\"dataframe\">\n",
              "  <thead>\n",
              "    <tr style=\"text-align: right;\">\n",
              "      <th></th>\n",
              "      <th>Product</th>\n",
              "      <th>Consumer complaint narrative</th>\n",
              "    </tr>\n",
              "  </thead>\n",
              "  <tbody>\n",
              "    <tr>\n",
              "      <th>1</th>\n",
              "      <td>Vehicle loan or lease</td>\n",
              "      <td>I contacted Ally on Friday XX/XX/XXXX after fa...</td>\n",
              "    </tr>\n",
              "    <tr>\n",
              "      <th>4</th>\n",
              "      <td>Credit card or prepaid card</td>\n",
              "      <td>On XX/XX/2019 my bill did not go through accou...</td>\n",
              "    </tr>\n",
              "    <tr>\n",
              "      <th>6</th>\n",
              "      <td>Credit reporting, credit repair services, or o...</td>\n",
              "      <td>Hello This complaint is against the three cred...</td>\n",
              "    </tr>\n",
              "    <tr>\n",
              "      <th>7</th>\n",
              "      <td>Credit reporting, credit repair services, or o...</td>\n",
              "      <td>I am a victim of Identity Theft &amp; currently ha...</td>\n",
              "    </tr>\n",
              "    <tr>\n",
              "      <th>9</th>\n",
              "      <td>Credit reporting, credit repair services, or o...</td>\n",
              "      <td>Two accounts are still on my credit history af...</td>\n",
              "    </tr>\n",
              "  </tbody>\n",
              "</table>\n",
              "</div>"
            ],
            "text/plain": [
              "                                             Product                       Consumer complaint narrative\n",
              "1                              Vehicle loan or lease  I contacted Ally on Friday XX/XX/XXXX after fa...\n",
              "4                        Credit card or prepaid card  On XX/XX/2019 my bill did not go through accou...\n",
              "6  Credit reporting, credit repair services, or o...  Hello This complaint is against the three cred...\n",
              "7  Credit reporting, credit repair services, or o...  I am a victim of Identity Theft & currently ha...\n",
              "9  Credit reporting, credit repair services, or o...  Two accounts are still on my credit history af..."
            ]
          },
          "metadata": {},
          "execution_count": 13
        }
      ],
      "source": [
        "df1.head()"
      ]
    },
    {
      "cell_type": "code",
      "execution_count": 14,
      "id": "d8fea179",
      "metadata": {
        "id": "d8fea179"
      },
      "outputs": [],
      "source": [
        "def print_plot(index):\n",
        "    example = df1.iloc[index].values\n",
        "    if len(example) > 0:\n",
        "        print(example[1])\n",
        "        print('Product:', example[0])"
      ]
    },
    {
      "cell_type": "code",
      "execution_count": 15,
      "id": "82a7c287",
      "metadata": {
        "scrolled": true,
        "colab": {
          "base_uri": "https://localhost:8080/"
        },
        "id": "82a7c287",
        "outputId": "3e99989e-d15e-4227-b38b-811499a5e1ba"
      },
      "outputs": [
        {
          "output_type": "stream",
          "name": "stdout",
          "text": [
            "Experian and XXXX are reporting me as 120 and 180 days past due XXXX XXXX  account that has a {$0.00} balance and {$0.00} past due. This is harming my credit score. I have disputed this directly with the two bureaus but the coding violation has not been corrected. It is impossible to be late on payments to an account that has a {$0.00} balance and {$0.00} past due amount. \n",
            "\n",
            "I have listed the account number for reference : XXXX\n",
            "Product: Credit reporting, credit repair services, or other personal consumer reports\n"
          ]
        }
      ],
      "source": [
        "print_plot(42)"
      ]
    },
    {
      "cell_type": "code",
      "execution_count": 21,
      "id": "3f94d659",
      "metadata": {
        "colab": {
          "base_uri": "https://localhost:8080/"
        },
        "id": "3f94d659",
        "outputId": "2c4e5185-09ca-436a-a9fc-b0b9d0a63339"
      },
      "outputs": [
        {
          "output_type": "stream",
          "name": "stdout",
          "text": [
            "[nltk_data] Downloading package stopwords to /root/nltk_data...\n",
            "[nltk_data]   Unzipping corpora/stopwords.zip.\n"
          ]
        },
        {
          "output_type": "execute_result",
          "data": {
            "text/plain": [
              "True"
            ]
          },
          "metadata": {},
          "execution_count": 21
        }
      ],
      "source": [
        "import nltk\n",
        "nltk.download('stopwords')"
      ]
    },
    {
      "cell_type": "code",
      "execution_count": 22,
      "id": "e77c07a6",
      "metadata": {
        "id": "e77c07a6"
      },
      "outputs": [],
      "source": [
        "import re\n",
        "from nltk.corpus import stopwords\n",
        "#regular expressions for data cleaning\n",
        "REPLACE_BY_SPACE_RE = re.compile('[/(){}\\[\\]\\|@,;]')\n",
        "BAD_SYMBOLS_RE = re.compile('[^0-9a-z #+_]')\n",
        "STOPWORDS = set(stopwords.words('english'))"
      ]
    },
    {
      "cell_type": "code",
      "execution_count": 23,
      "id": "bf3381c5",
      "metadata": {
        "id": "bf3381c5"
      },
      "outputs": [],
      "source": [
        "def clean_text(text):\n",
        "    text = text.lower() # lowercase text\n",
        "    text = REPLACE_BY_SPACE_RE.sub(' ', text) # replace REPLACE_BY_SPACE_RE symbols by space in text. substitute the matched string in REPLACE_BY_SPACE_RE with space.\n",
        "    text = BAD_SYMBOLS_RE.sub('', text) # remove symbols which are in BAD_SYMBOLS_RE from text. substitute the matched string in BAD_SYMBOLS_RE with nothing. \n",
        "    text = text.replace('x', '') #remove retracted info\n",
        "    text = ' '.join(word for word in text.split() if word not in STOPWORDS) # remove stopwors from text\n",
        "    text = re.sub('\\d+', '', text)\n",
        "    return text"
      ]
    },
    {
      "cell_type": "code",
      "execution_count": 24,
      "id": "58369cc3",
      "metadata": {
        "id": "58369cc3"
      },
      "outputs": [],
      "source": [
        "df1['Consumer complaint narrative'] = df1['Consumer complaint narrative'].apply(clean_text)"
      ]
    },
    {
      "cell_type": "code",
      "execution_count": 25,
      "id": "7515f66f",
      "metadata": {
        "colab": {
          "base_uri": "https://localhost:8080/"
        },
        "id": "7515f66f",
        "outputId": "0812b15c-7f0e-4d55-e04d-ca4bdca1710a"
      },
      "outputs": [
        {
          "output_type": "stream",
          "name": "stdout",
          "text": [
            "eperian reporting   days past due account  balance  past due harming credit score disputed directly two bureaus coding violation corrected impossible late payments account  balance  past due amount listed account number reference\n",
            "Product: Credit reporting, credit repair services, or other personal consumer reports\n"
          ]
        }
      ],
      "source": [
        "print_plot(42)"
      ]
    },
    {
      "cell_type": "code",
      "execution_count": 26,
      "id": "2d3e4506",
      "metadata": {
        "colab": {
          "base_uri": "https://localhost:8080/"
        },
        "id": "2d3e4506",
        "outputId": "950474dd-fe05-4407-d8b7-192094e8ea99"
      },
      "outputs": [
        {
          "output_type": "stream",
          "name": "stdout",
          "text": [
            "Found 210740 unique tokens.\n"
          ]
        }
      ],
      "source": [
        "from tensorflow.keras.preprocessing.text import Tokenizer\n",
        "# The maximum number of words to be used. (most frequent)\n",
        "MAX_NB_WORDS = 50000\n",
        "# Max number of words in each complaint.\n",
        "MAX_SEQUENCE_LENGTH = 250\n",
        "# This is fixed.\n",
        "EMBEDDING_DIM = 100\n",
        "\n",
        "tokenizer = Tokenizer(num_words=MAX_NB_WORDS, filters='!\"#$%&()*+,-./:;<=>?@[\\]^_`{|}~', lower=True)\n",
        "tokenizer.fit_on_texts(df1['Consumer complaint narrative'].values)\n",
        "word_index = tokenizer.word_index\n",
        "print('Found %s unique tokens.' % len(word_index))"
      ]
    },
    {
      "cell_type": "code",
      "execution_count": 27,
      "id": "5fa42e3e",
      "metadata": {
        "colab": {
          "base_uri": "https://localhost:8080/"
        },
        "id": "5fa42e3e",
        "outputId": "a03ba9f1-a8b6-4ef3-f0bb-9119a7163f3f"
      },
      "outputs": [
        {
          "output_type": "stream",
          "name": "stdout",
          "text": [
            "Shape of data tensor: (828738, 250)\n"
          ]
        }
      ],
      "source": [
        "from tensorflow.keras.preprocessing.sequence import pad_sequences\n",
        "X = tokenizer.texts_to_sequences(df1['Consumer complaint narrative'].values)\n",
        "X = pad_sequences(X, maxlen=MAX_SEQUENCE_LENGTH)\n",
        "print('Shape of data tensor:', X.shape)"
      ]
    },
    {
      "cell_type": "code",
      "execution_count": 28,
      "id": "79e4b476",
      "metadata": {
        "colab": {
          "base_uri": "https://localhost:8080/"
        },
        "id": "79e4b476",
        "outputId": "3c1f9791-444d-4488-b2a4-aa0e5d636ad8"
      },
      "outputs": [
        {
          "output_type": "stream",
          "name": "stdout",
          "text": [
            "Shape of label tensor: (828738, 13)\n"
          ]
        }
      ],
      "source": [
        "Y = pd.get_dummies(df1['Product']).values\n",
        "print('Shape of label tensor:', Y.shape)"
      ]
    },
    {
      "cell_type": "code",
      "execution_count": 29,
      "id": "8754051a",
      "metadata": {
        "colab": {
          "base_uri": "https://localhost:8080/"
        },
        "id": "8754051a",
        "outputId": "99adbf45-896e-4a49-b7b7-929e07736e49"
      },
      "outputs": [
        {
          "output_type": "stream",
          "name": "stdout",
          "text": [
            "(745864, 250) (745864, 13)\n",
            "(82874, 250) (82874, 13)\n"
          ]
        }
      ],
      "source": [
        "from sklearn.model_selection import train_test_split\n",
        "X_train, X_test, Y_train, Y_test = train_test_split(X,Y, test_size = 0.10, random_state = 42)\n",
        "print(X_train.shape,Y_train.shape)\n",
        "print(X_test.shape,Y_test.shape)"
      ]
    },
    {
      "cell_type": "code",
      "execution_count": 30,
      "id": "228e8527",
      "metadata": {
        "id": "228e8527"
      },
      "outputs": [],
      "source": [
        "from tensorflow.keras.layers import Dense, Embedding, LSTM, SpatialDropout1D\n",
        "from tensorflow.keras.models import Sequential\n",
        "from tensorflow.keras.callbacks import EarlyStopping"
      ]
    },
    {
      "cell_type": "code",
      "execution_count": 31,
      "id": "85ebdb57",
      "metadata": {
        "colab": {
          "base_uri": "https://localhost:8080/"
        },
        "id": "85ebdb57",
        "outputId": "73cc59b2-d80d-4384-be61-4b602910f1e4"
      },
      "outputs": [
        {
          "output_type": "stream",
          "name": "stdout",
          "text": [
            "WARNING:tensorflow:Layer lstm will not use cuDNN kernels since it doesn't meet the criteria. It will use a generic GPU kernel as fallback when running on GPU.\n",
            "Model: \"sequential_1\"\n",
            "_________________________________________________________________\n",
            " Layer (type)                Output Shape              Param #   \n",
            "=================================================================\n",
            " embedding (Embedding)       (None, 250, 100)          5000000   \n",
            "                                                                 \n",
            " spatial_dropout1d (SpatialD  (None, 250, 100)         0         \n",
            " ropout1D)                                                       \n",
            "                                                                 \n",
            " lstm (LSTM)                 (None, 100)               80400     \n",
            "                                                                 \n",
            " dense (Dense)               (None, 13)                1313      \n",
            "                                                                 \n",
            "=================================================================\n",
            "Total params: 5,081,713\n",
            "Trainable params: 5,081,713\n",
            "Non-trainable params: 0\n",
            "_________________________________________________________________\n",
            "None\n"
          ]
        }
      ],
      "source": [
        "model = Sequential()\n",
        "model.add(Embedding(MAX_NB_WORDS, EMBEDDING_DIM, input_length=X.shape[1]))\n",
        "model.add(SpatialDropout1D(0.2))\n",
        "model.add(LSTM(100, dropout=0.2, recurrent_dropout=0.2))\n",
        "model.add(Dense(13, activation='softmax'))\n",
        "model.compile(loss='categorical_crossentropy', optimizer='adam', metrics=['accuracy'])\n",
        "print(model.summary())"
      ]
    },
    {
      "cell_type": "code",
      "execution_count": 37,
      "id": "83949762",
      "metadata": {
        "scrolled": true,
        "colab": {
          "base_uri": "https://localhost:8080/"
        },
        "id": "83949762",
        "outputId": "9b6d2ec1-f5ce-4c2e-e734-b8679a2696fc"
      },
      "outputs": [
        {
          "output_type": "stream",
          "name": "stdout",
          "text": [
            "Epoch 1/5\n",
            "656/656 [==============================] - 1124s 2s/step - loss: 0.7824 - accuracy: 0.7576 - val_loss: 0.6691 - val_accuracy: 0.7881\n",
            "Epoch 2/5\n",
            "656/656 [==============================] - 1145s 2s/step - loss: 0.6273 - accuracy: 0.8013 - val_loss: 0.5874 - val_accuracy: 0.8123\n",
            "Epoch 3/5\n",
            "656/656 [==============================] - 1150s 2s/step - loss: 0.5560 - accuracy: 0.8209 - val_loss: 0.5456 - val_accuracy: 0.8230\n",
            "Epoch 4/5\n",
            "656/656 [==============================] - 1106s 2s/step - loss: 0.5123 - accuracy: 0.8320 - val_loss: 0.5175 - val_accuracy: 0.8302\n",
            "Epoch 5/5\n",
            "656/656 [==============================] - 1105s 2s/step - loss: 0.4837 - accuracy: 0.8396 - val_loss: 0.5009 - val_accuracy: 0.8344\n"
          ]
        }
      ],
      "source": [
        "epochs = 5\n",
        "batch_size = 1024\n",
        "\n",
        "history = model.fit(X_train, Y_train, epochs=epochs,batch_size=batch_size,validation_split=0.1,callbacks=[EarlyStopping(monitor='val_loss', patience=3, min_delta=0.0001)])"
      ]
    },
    {
      "cell_type": "code",
      "execution_count": 38,
      "id": "bc565bf3",
      "metadata": {
        "colab": {
          "base_uri": "https://localhost:8080/"
        },
        "id": "bc565bf3",
        "outputId": "83ca7087-da53-407b-885d-671b15ad193f"
      },
      "outputs": [
        {
          "output_type": "stream",
          "name": "stdout",
          "text": [
            "2590/2590 [==============================] - 250s 97ms/step - loss: 0.5049 - accuracy: 0.8336\n",
            "Test set\n",
            "  Loss: 0.505\n",
            "  Accuracy: 0.834\n"
          ]
        }
      ],
      "source": [
        "accr = model.evaluate(X_test,Y_test)\n",
        "print('Test set\\n  Loss: {:0.3f}\\n  Accuracy: {:0.3f}'.format(accr[0],accr[1]))"
      ]
    },
    {
      "cell_type": "code",
      "execution_count": 39,
      "id": "ea78694d",
      "metadata": {
        "colab": {
          "base_uri": "https://localhost:8080/",
          "height": 281
        },
        "id": "ea78694d",
        "outputId": "8a0f7ab0-c884-48a7-ef9e-4218d986563a"
      },
      "outputs": [
        {
          "output_type": "display_data",
          "data": {
            "image/png": "[encoded data removed]",
            "text/plain": [
              "<Figure size 432x288 with 1 Axes>"
            ]
          },
          "metadata": {
            "needs_background": "light"
          }
        }
      ],
      "source": [
        "plt.title('Loss')\n",
        "plt.plot(history.history['loss'], label='train')\n",
        "plt.plot(history.history['val_loss'], label='test')\n",
        "plt.legend()\n",
        "plt.show();"
      ]
    },
    {
      "cell_type": "code",
      "source": [
        "plt.title('Accuracy')\n",
        "plt.plot(history.history['accuracy'], label='train')\n",
        "plt.plot(history.history['val_accuracy'], label='test')\n",
        "plt.legend()\n",
        "plt.show();"
      ],
      "metadata": {
        "colab": {
          "base_uri": "https://localhost:8080/",
          "height": 281
        },
        "id": "WME4AWcpnxIn",
        "outputId": "619110a3-88ed-4910-a111-71901c55adaf"
      },
      "id": "WME4AWcpnxIn",
      "execution_count": 43,
      "outputs": [
        {
          "output_type": "display_data",
          "data": {
            "image/png": "[encoded data removed]",
            "text/plain": [
              "<Figure size 432x288 with 1 Axes>"
            ]
          },
          "metadata": {
            "needs_background": "light"
          }
        }
      ]
    },
    {
      "cell_type": "code",
      "source": [
        "new_complaint = ['I am a victim of identity theft and someone stole my identity and personal information to open up a Visa credit card account with Bank of America. The following Bank of America Visa credit card account do not belong to me : XXXX.']\n",
        "seq = tokenizer.texts_to_sequences(new_complaint)\n",
        "padded = pad_sequences(seq, maxlen=MAX_SEQUENCE_LENGTH)\n",
        "pred = model.predict(padded)\n",
        "labels = ['Credit reporting, credit repair services, or other personal consumer reports', 'Debt collection', 'Mortgage', 'Credit card or prepaid card', 'Student loan', 'Bank account or service', 'Checking or savings account', 'Consumer Loan', 'Payday loan, title loan, or personal loan', 'Vehicle loan or lease', 'Money transfer, virtual currency, or money service', 'Money transfers', 'Prepaid card']\n",
        "print(pred, labels[np.argmax(pred)])"
      ],
      "metadata": {
        "colab": {
          "base_uri": "https://localhost:8080/"
        },
        "id": "ghMu16kiny04",
        "outputId": "376f8e3a-395f-4450-f43e-0d43981eaf64"
      },
      "id": "ghMu16kiny04",
      "execution_count": 44,
      "outputs": [
        {
          "output_type": "stream",
          "name": "stdout",
          "text": [
            "[[1.1177972e-03 5.9084711e-04 3.2392968e-04 5.5731051e-02 9.1647303e-01\n",
            "  2.4779759e-02 9.3589013e-05 1.1725188e-06 3.5284809e-04 2.1023177e-04\n",
            "  6.4868618e-06 4.5939141e-05 2.7322030e-04]] Student loan\n"
          ]
        }
      ]
    },
    {
      "cell_type": "code",
      "source": [
        "model.save('consumer_complaints.h5')"
      ],
      "metadata": {
        "id": "q-q_y8fEn7dl"
      },
      "id": "q-q_y8fEn7dl",
      "execution_count": 46,
      "outputs": []
    },
    {
      "cell_type": "code",
      "source": [
        "import tensorflow as tf\n",
        "new_model = tf.keras.models.load_model('consumer_complaints.h5')"
      ],
      "metadata": {
        "colab": {
          "base_uri": "https://localhost:8080/"
        },
        "id": "cu9mHYFApD2h",
        "outputId": "9125354e-331d-4ad3-cc47-e2edf8655673"
      },
      "id": "cu9mHYFApD2h",
      "execution_count": 51,
      "outputs": [
        {
          "output_type": "stream",
          "name": "stdout",
          "text": [
            "WARNING:tensorflow:Layer lstm will not use cuDNN kernels since it doesn't meet the criteria. It will use a generic GPU kernel as fallback when running on GPU.\n"
          ]
        },
        {
          "output_type": "stream",
          "name": "stderr",
          "text": [
            "WARNING:tensorflow:Layer lstm will not use cuDNN kernels since it doesn't meet the criteria. It will use a generic GPU kernel as fallback when running on GPU.\n"
          ]
        }
      ]
    },
    {
      "cell_type": "code",
      "source": [
        ""
      ],
      "metadata": {
        "id": "4jZtaZVfpkms"
      },
      "id": "4jZtaZVfpkms",
      "execution_count": null,
      "outputs": []
    }
  ],
  "metadata": {
    "kernelspec": {
      "display_name": "Python 3.7 (tf-keras-gpu-test)",
      "language": "python",
      "name": "tf-keras-gpu-test"
    },
    "language_info": {
      "codemirror_mode": {
        "name": "ipython",
        "version": 3
      },
      "file_extension": ".py",
      "mimetype": "text/x-python",
      "name": "python",
      "nbconvert_exporter": "python",
      "pygments_lexer": "ipython3",
      "version": "3.7.11"
    },
    "colab": {
      "name": "Multiclass_consumer_complaints.ipynb",
      "provenance": []
    },
    "accelerator": "GPU"
  },
  "nbformat": 4,
  "nbformat_minor": 5
}