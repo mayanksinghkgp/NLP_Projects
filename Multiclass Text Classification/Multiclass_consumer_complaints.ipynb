{
 "cells": [
  {
   "cell_type": "markdown",
   "id": "57ac8155",
   "metadata": {},
   "source": [
    "## Multiclass classification on the Consumer complaints Dataset"
   ]
  },
  {
   "cell_type": "markdown",
   "id": "f2d84cd6",
   "metadata": {},
   "source": [
    "**Dataset downloaded form: https://catalog.data.gov/dataset/consumer-complaint-database**"
   ]
  },
  {
   "cell_type": "code",
   "execution_count": 90,
   "id": "74302f60",
   "metadata": {},
   "outputs": [],
   "source": [
    "import numpy as np \n",
    "import pandas as pd\n",
    "import matplotlib.pyplot as plt\n",
    "import seaborn as sns\n",
    "# from plotly.offline import iplot"
   ]
  },
  {
   "cell_type": "code",
   "execution_count": 6,
   "id": "55ce0c08",
   "metadata": {},
   "outputs": [
    {
     "name": "stdout",
     "output_type": "stream",
     "text": [
      "^C\n"
     ]
    }
   ],
   "source": [
    "!find /c /v \"complaints.csv\""
   ]
  },
  {
   "cell_type": "markdown",
   "id": "30931ae4",
   "metadata": {},
   "source": [
    "### Since the number of data points is very large, only considering the required columns"
   ]
  },
  {
   "cell_type": "code",
   "execution_count": 53,
   "id": "33626fbb",
   "metadata": {},
   "outputs": [
    {
     "name": "stdout",
     "output_type": "stream",
     "text": [
      "<class 'pandas.core.frame.DataFrame'>\n",
      "RangeIndex: 2374711 entries, 0 to 2374710\n",
      "Data columns (total 2 columns):\n",
      " #   Column                        Dtype \n",
      "---  ------                        ----- \n",
      " 0   Product                       object\n",
      " 1   Consumer complaint narrative  object\n",
      "dtypes: object(2)\n",
      "memory usage: 36.2+ MB\n"
     ]
    }
   ],
   "source": [
    "df = pd.read_csv('complaints.csv', usecols = ['Product', 'Consumer complaint narrative'])\n",
    "df.info()"
   ]
  },
  {
   "cell_type": "code",
   "execution_count": 23,
   "id": "301f015d",
   "metadata": {},
   "outputs": [],
   "source": [
    "# df = df[['Product', 'Consumer complaint narrative']]"
   ]
  },
  {
   "cell_type": "code",
   "execution_count": 54,
   "id": "79c9bbc2",
   "metadata": {},
   "outputs": [
    {
     "data": {
      "text/html": [
       "<div>\n",
       "<style scoped>\n",
       "    .dataframe tbody tr th:only-of-type {\n",
       "        vertical-align: middle;\n",
       "    }\n",
       "\n",
       "    .dataframe tbody tr th {\n",
       "        vertical-align: top;\n",
       "    }\n",
       "\n",
       "    .dataframe thead th {\n",
       "        text-align: right;\n",
       "    }\n",
       "</style>\n",
       "<table border=\"1\" class=\"dataframe\">\n",
       "  <thead>\n",
       "    <tr style=\"text-align: right;\">\n",
       "      <th></th>\n",
       "      <th>Product</th>\n",
       "      <th>Consumer complaint narrative</th>\n",
       "    </tr>\n",
       "  </thead>\n",
       "  <tbody>\n",
       "    <tr>\n",
       "      <th>0</th>\n",
       "      <td>Credit reporting, credit repair services, or o...</td>\n",
       "      <td>NaN</td>\n",
       "    </tr>\n",
       "    <tr>\n",
       "      <th>1</th>\n",
       "      <td>Vehicle loan or lease</td>\n",
       "      <td>I contacted Ally on Friday XX/XX/XXXX after fa...</td>\n",
       "    </tr>\n",
       "    <tr>\n",
       "      <th>2</th>\n",
       "      <td>Credit reporting, credit repair services, or o...</td>\n",
       "      <td>NaN</td>\n",
       "    </tr>\n",
       "    <tr>\n",
       "      <th>3</th>\n",
       "      <td>Checking or savings account</td>\n",
       "      <td>NaN</td>\n",
       "    </tr>\n",
       "    <tr>\n",
       "      <th>4</th>\n",
       "      <td>Credit card or prepaid card</td>\n",
       "      <td>On XX/XX/2019 my bill did not go through accou...</td>\n",
       "    </tr>\n",
       "  </tbody>\n",
       "</table>\n",
       "</div>"
      ],
      "text/plain": [
       "                                             Product  \\\n",
       "0  Credit reporting, credit repair services, or o...   \n",
       "1                              Vehicle loan or lease   \n",
       "2  Credit reporting, credit repair services, or o...   \n",
       "3                        Checking or savings account   \n",
       "4                        Credit card or prepaid card   \n",
       "\n",
       "                        Consumer complaint narrative  \n",
       "0                                                NaN  \n",
       "1  I contacted Ally on Friday XX/XX/XXXX after fa...  \n",
       "2                                                NaN  \n",
       "3                                                NaN  \n",
       "4  On XX/XX/2019 my bill did not go through accou...  "
      ]
     },
     "execution_count": 54,
     "metadata": {},
     "output_type": "execute_result"
    }
   ],
   "source": [
    "df.head()"
   ]
  },
  {
   "cell_type": "code",
   "execution_count": 101,
   "id": "a8f4d846",
   "metadata": {},
   "outputs": [
    {
     "data": {
      "text/html": [
       "<div>\n",
       "<style scoped>\n",
       "    .dataframe tbody tr th:only-of-type {\n",
       "        vertical-align: middle;\n",
       "    }\n",
       "\n",
       "    .dataframe tbody tr th {\n",
       "        vertical-align: top;\n",
       "    }\n",
       "\n",
       "    .dataframe thead th {\n",
       "        text-align: right;\n",
       "    }\n",
       "</style>\n",
       "<table border=\"1\" class=\"dataframe\">\n",
       "  <thead>\n",
       "    <tr style=\"text-align: right;\">\n",
       "      <th></th>\n",
       "      <th>Product</th>\n",
       "      <th>Consumer complaint narrative</th>\n",
       "    </tr>\n",
       "  </thead>\n",
       "  <tbody>\n",
       "    <tr>\n",
       "      <th>0</th>\n",
       "      <td>Vehicle loan or lease</td>\n",
       "      <td>I contacted Ally on Friday XX/XX/XXXX after fa...</td>\n",
       "    </tr>\n",
       "    <tr>\n",
       "      <th>1</th>\n",
       "      <td>Credit card or prepaid card</td>\n",
       "      <td>On XX/XX/2019 my bill did not go through accou...</td>\n",
       "    </tr>\n",
       "    <tr>\n",
       "      <th>2</th>\n",
       "      <td>Credit reporting, credit repair services, or o...</td>\n",
       "      <td>Hello This complaint is against the three cred...</td>\n",
       "    </tr>\n",
       "    <tr>\n",
       "      <th>3</th>\n",
       "      <td>Credit reporting, credit repair services, or o...</td>\n",
       "      <td>I am a victim of Identity Theft &amp; currently ha...</td>\n",
       "    </tr>\n",
       "    <tr>\n",
       "      <th>4</th>\n",
       "      <td>Credit reporting, credit repair services, or o...</td>\n",
       "      <td>Two accounts are still on my credit history af...</td>\n",
       "    </tr>\n",
       "    <tr>\n",
       "      <th>...</th>\n",
       "      <td>...</td>\n",
       "      <td>...</td>\n",
       "    </tr>\n",
       "    <tr>\n",
       "      <th>828733</th>\n",
       "      <td>Credit card or prepaid card</td>\n",
       "      <td>Automated calls from \" XXXX with Capital One '...</td>\n",
       "    </tr>\n",
       "    <tr>\n",
       "      <th>828734</th>\n",
       "      <td>Debt collection</td>\n",
       "      <td>I have disputed my debts several times with no...</td>\n",
       "    </tr>\n",
       "    <tr>\n",
       "      <th>828735</th>\n",
       "      <td>Mortgage</td>\n",
       "      <td>My father died in XX/XX/XXXX. Left me his only...</td>\n",
       "    </tr>\n",
       "    <tr>\n",
       "      <th>828736</th>\n",
       "      <td>Credit reporting, credit repair services, or o...</td>\n",
       "      <td>cfbp i would Like to file a complaint on Exper...</td>\n",
       "    </tr>\n",
       "    <tr>\n",
       "      <th>828737</th>\n",
       "      <td>Credit reporting, credit repair services, or o...</td>\n",
       "      <td>My husband and I are in the middle of an FHA S...</td>\n",
       "    </tr>\n",
       "  </tbody>\n",
       "</table>\n",
       "<p>828738 rows × 2 columns</p>\n",
       "</div>"
      ],
      "text/plain": [
       "                                                  Product  \\\n",
       "0                                   Vehicle loan or lease   \n",
       "1                             Credit card or prepaid card   \n",
       "2       Credit reporting, credit repair services, or o...   \n",
       "3       Credit reporting, credit repair services, or o...   \n",
       "4       Credit reporting, credit repair services, or o...   \n",
       "...                                                   ...   \n",
       "828733                        Credit card or prepaid card   \n",
       "828734                                    Debt collection   \n",
       "828735                                           Mortgage   \n",
       "828736  Credit reporting, credit repair services, or o...   \n",
       "828737  Credit reporting, credit repair services, or o...   \n",
       "\n",
       "                             Consumer complaint narrative  \n",
       "0       I contacted Ally on Friday XX/XX/XXXX after fa...  \n",
       "1       On XX/XX/2019 my bill did not go through accou...  \n",
       "2       Hello This complaint is against the three cred...  \n",
       "3       I am a victim of Identity Theft & currently ha...  \n",
       "4       Two accounts are still on my credit history af...  \n",
       "...                                                   ...  \n",
       "828733  Automated calls from \" XXXX with Capital One '...  \n",
       "828734  I have disputed my debts several times with no...  \n",
       "828735  My father died in XX/XX/XXXX. Left me his only...  \n",
       "828736  cfbp i would Like to file a complaint on Exper...  \n",
       "828737  My husband and I are in the middle of an FHA S...  \n",
       "\n",
       "[828738 rows x 2 columns]"
      ]
     },
     "execution_count": 101,
     "metadata": {},
     "output_type": "execute_result"
    }
   ],
   "source": [
    "df1 = df.dropna(axis = 0)\n",
    "df1.reset_index(drop=True)\n",
    "# df1=df1.drop('index', axis = 1)"
   ]
  },
  {
   "cell_type": "code",
   "execution_count": 102,
   "id": "693c51da",
   "metadata": {},
   "outputs": [
    {
     "name": "stdout",
     "output_type": "stream",
     "text": [
      "<class 'pandas.core.frame.DataFrame'>\n",
      "Int64Index: 828738 entries, 1 to 2374709\n",
      "Data columns (total 2 columns):\n",
      " #   Column                        Non-Null Count   Dtype \n",
      "---  ------                        --------------   ----- \n",
      " 0   Product                       828738 non-null  object\n",
      " 1   Consumer complaint narrative  828738 non-null  object\n",
      "dtypes: object(2)\n",
      "memory usage: 19.0+ MB\n"
     ]
    }
   ],
   "source": [
    "df1.info()"
   ]
  },
  {
   "cell_type": "code",
   "execution_count": 103,
   "id": "61f49803",
   "metadata": {},
   "outputs": [
    {
     "data": {
      "text/plain": [
       "Credit reporting, credit repair services, or other personal consumer reports    358416\n",
       "Debt collection                                                                 160799\n",
       "Mortgage                                                                         85766\n",
       "Credit card or prepaid card                                                      81378\n",
       "Checking or savings account                                                      38576\n",
       "Student loan                                                                     29321\n",
       "Money transfer, virtual currency, or money service                               19260\n",
       "Vehicle loan or lease                                                            15521\n",
       "Bank account or service                                                          14885\n",
       "Payday loan, title loan, or personal loan                                        12399\n",
       "Consumer Loan                                                                     9470\n",
       "Money transfers                                                                   1497\n",
       "Prepaid card                                                                      1450\n",
       "Name: Product, dtype: int64"
      ]
     },
     "execution_count": 103,
     "metadata": {},
     "output_type": "execute_result"
    }
   ],
   "source": [
    "df1.Product.value_counts()"
   ]
  },
  {
   "cell_type": "markdown",
   "id": "335cf0d6",
   "metadata": {},
   "source": [
    "**Some of the Products can be clubbed together like:**\n",
    "- Consolidate “Credit reporting” into “Credit reporting, credit repair services, or other personal consumer reports”.\n",
    "- Consolidate “Credit card” into “Credit card or prepaid card”.\n",
    "- Consolidate “Payday loan” into “Payday loan, title loan, or personal loan”.\n",
    "- Consolidate “Virtual currency” into “Money transfer, virtual currency, or money service”.  \n",
    "“Other financial service” has very few number of complaints and it does not mean anything, so it is removed."
   ]
  },
  {
   "cell_type": "code",
   "execution_count": 104,
   "id": "5edd8a7a",
   "metadata": {},
   "outputs": [
    {
     "name": "stderr",
     "output_type": "stream",
     "text": [
      "D:\\Anaconda3\\envs\\tf-keras-gpu-test\\lib\\site-packages\\pandas\\core\\indexing.py:1732: SettingWithCopyWarning: \n",
      "A value is trying to be set on a copy of a slice from a DataFrame\n",
      "\n",
      "See the caveats in the documentation: https://pandas.pydata.org/pandas-docs/stable/user_guide/indexing.html#returning-a-view-versus-a-copy\n",
      "  self._setitem_single_block(indexer, value, name)\n",
      "D:\\Anaconda3\\envs\\tf-keras-gpu-test\\lib\\site-packages\\pandas\\core\\indexing.py:723: SettingWithCopyWarning: \n",
      "A value is trying to be set on a copy of a slice from a DataFrame\n",
      "\n",
      "See the caveats in the documentation: https://pandas.pydata.org/pandas-docs/stable/user_guide/indexing.html#returning-a-view-versus-a-copy\n",
      "  iloc._setitem_with_indexer(indexer, value, self.name)\n"
     ]
    }
   ],
   "source": [
    "df1.loc[df1['Product'] == 'Credit reporting', 'Product'] = 'Credit reporting, credit repair services, or other personal consumer reports'\n",
    "df1.loc[df1['Product'] == 'Credit card', 'Product'] = 'Credit card or prepaid card'\n",
    "df1.loc[df1['Product'] == 'Payday loan', 'Product'] = 'Payday loan, title loan, or personal loan'\n",
    "df1.loc[df1['Product'] == 'Virtual currency', 'Product'] = 'Money transfer, virtual currency, or money service'\n",
    "df1 = df1[df1.Product != 'Other financial service']"
   ]
  },
  {
   "cell_type": "code",
   "execution_count": 105,
   "id": "b10d3983",
   "metadata": {},
   "outputs": [
    {
     "data": {
      "text/plain": [
       "<AxesSubplot:title={'center':'Number complaints in each product'}>"
      ]
     },
     "execution_count": 105,
     "metadata": {},
     "output_type": "execute_result"
    },
    {
     "data": {
      "image/png": "[encoded data removed]",
      "text/plain": [
       "<Figure size 432x288 with 1 Axes>"
      ]
     },
     "metadata": {
      "needs_background": "light"
     },
     "output_type": "display_data"
    }
   ],
   "source": [
    "df1['Product'].value_counts().sort_values(ascending=False).plot(kind='bar', \n",
    "                                                                title='Number complaints in each product')"
   ]
  },
  {
   "cell_type": "markdown",
   "id": "d3215037",
   "metadata": {},
   "source": [
    "### Text exploration and cleaning"
   ]
  },
  {
   "cell_type": "code",
   "execution_count": 106,
   "id": "8d23abc2",
   "metadata": {},
   "outputs": [
    {
     "data": {
      "text/html": [
       "<div>\n",
       "<style scoped>\n",
       "    .dataframe tbody tr th:only-of-type {\n",
       "        vertical-align: middle;\n",
       "    }\n",
       "\n",
       "    .dataframe tbody tr th {\n",
       "        vertical-align: top;\n",
       "    }\n",
       "\n",
       "    .dataframe thead th {\n",
       "        text-align: right;\n",
       "    }\n",
       "</style>\n",
       "<table border=\"1\" class=\"dataframe\">\n",
       "  <thead>\n",
       "    <tr style=\"text-align: right;\">\n",
       "      <th></th>\n",
       "      <th>Product</th>\n",
       "      <th>Consumer complaint narrative</th>\n",
       "    </tr>\n",
       "  </thead>\n",
       "  <tbody>\n",
       "    <tr>\n",
       "      <th>1</th>\n",
       "      <td>Vehicle loan or lease</td>\n",
       "      <td>I contacted Ally on Friday XX/XX/XXXX after fa...</td>\n",
       "    </tr>\n",
       "    <tr>\n",
       "      <th>4</th>\n",
       "      <td>Credit card or prepaid card</td>\n",
       "      <td>On XX/XX/2019 my bill did not go through accou...</td>\n",
       "    </tr>\n",
       "    <tr>\n",
       "      <th>6</th>\n",
       "      <td>Credit reporting, credit repair services, or o...</td>\n",
       "      <td>Hello This complaint is against the three cred...</td>\n",
       "    </tr>\n",
       "    <tr>\n",
       "      <th>7</th>\n",
       "      <td>Credit reporting, credit repair services, or o...</td>\n",
       "      <td>I am a victim of Identity Theft &amp; currently ha...</td>\n",
       "    </tr>\n",
       "    <tr>\n",
       "      <th>9</th>\n",
       "      <td>Credit reporting, credit repair services, or o...</td>\n",
       "      <td>Two accounts are still on my credit history af...</td>\n",
       "    </tr>\n",
       "  </tbody>\n",
       "</table>\n",
       "</div>"
      ],
      "text/plain": [
       "                                             Product  \\\n",
       "1                              Vehicle loan or lease   \n",
       "4                        Credit card or prepaid card   \n",
       "6  Credit reporting, credit repair services, or o...   \n",
       "7  Credit reporting, credit repair services, or o...   \n",
       "9  Credit reporting, credit repair services, or o...   \n",
       "\n",
       "                        Consumer complaint narrative  \n",
       "1  I contacted Ally on Friday XX/XX/XXXX after fa...  \n",
       "4  On XX/XX/2019 my bill did not go through accou...  \n",
       "6  Hello This complaint is against the three cred...  \n",
       "7  I am a victim of Identity Theft & currently ha...  \n",
       "9  Two accounts are still on my credit history af...  "
      ]
     },
     "execution_count": 106,
     "metadata": {},
     "output_type": "execute_result"
    }
   ],
   "source": [
    "df1.head()"
   ]
  },
  {
   "cell_type": "code",
   "execution_count": 107,
   "id": "ca2b7291",
   "metadata": {},
   "outputs": [],
   "source": [
    "def print_plot(index):\n",
    "    example = df1.iloc[index].values\n",
    "    if len(example) > 0:\n",
    "        print(example[1])\n",
    "        print('Product:', example[0])"
   ]
  },
  {
   "cell_type": "code",
   "execution_count": 108,
   "id": "ff453668",
   "metadata": {
    "scrolled": true
   },
   "outputs": [
    {
     "name": "stdout",
     "output_type": "stream",
     "text": [
      "Experian and XXXX are reporting me as 120 and 180 days past due XXXX XXXX  account that has a {$0.00} balance and {$0.00} past due. This is harming my credit score. I have disputed this directly with the two bureaus but the coding violation has not been corrected. It is impossible to be late on payments to an account that has a {$0.00} balance and {$0.00} past due amount. \n",
      "\n",
      "I have listed the account number for reference : XXXX\n",
      "Product: Credit reporting, credit repair services, or other personal consumer reports\n"
     ]
    }
   ],
   "source": [
    "print_plot(42)"
   ]
  },
  {
   "cell_type": "code",
   "execution_count": 109,
   "id": "490703b8",
   "metadata": {},
   "outputs": [],
   "source": [
    "# import nltk\n",
    "# nltk.download('stopwords')"
   ]
  },
  {
   "cell_type": "code",
   "execution_count": 110,
   "id": "8d0ebab4",
   "metadata": {},
   "outputs": [],
   "source": [
    "import re\n",
    "from nltk.corpus import stopwords\n",
    "#regular expressions for data cleaning\n",
    "REPLACE_BY_SPACE_RE = re.compile('[/(){}\\[\\]\\|@,;]')\n",
    "BAD_SYMBOLS_RE = re.compile('[^0-9a-z #+_]')\n",
    "STOPWORDS = set(stopwords.words('english'))"
   ]
  },
  {
   "cell_type": "code",
   "execution_count": 111,
   "id": "0751dade",
   "metadata": {},
   "outputs": [],
   "source": [
    "def clean_text(text):\n",
    "    text = text.lower() # lowercase text\n",
    "    text = REPLACE_BY_SPACE_RE.sub(' ', text) # replace REPLACE_BY_SPACE_RE symbols by space in text. substitute the matched string in REPLACE_BY_SPACE_RE with space.\n",
    "    text = BAD_SYMBOLS_RE.sub('', text) # remove symbols which are in BAD_SYMBOLS_RE from text. substitute the matched string in BAD_SYMBOLS_RE with nothing. \n",
    "    text = text.replace('x', '') #remove retracted info\n",
    "    text = ' '.join(word for word in text.split() if word not in STOPWORDS) # remove stopwors from text\n",
    "    text = re.sub('\\d+', '', text)\n",
    "    return text"
   ]
  },
  {
   "cell_type": "code",
   "execution_count": null,
   "id": "47feb626",
   "metadata": {},
   "outputs": [],
   "source": [
    "df1['Consumer complaint narrative'] = df1['Consumer complaint narrative'].apply(clean_text)"
   ]
  },
  {
   "cell_type": "code",
   "execution_count": null,
   "id": "53c1a102",
   "metadata": {},
   "outputs": [],
   "source": [
    "print_plot(42)"
   ]
  },
  {
   "cell_type": "code",
   "execution_count": 99,
   "id": "fc65da26",
   "metadata": {},
   "outputs": [
    {
     "data": {
      "text/plain": [
       "'my  name'"
      ]
     },
     "execution_count": 99,
     "metadata": {},
     "output_type": "execute_result"
    }
   ],
   "source": [
    "re.sub('\\d+', '', 'my 123 name')"
   ]
  },
  {
   "cell_type": "code",
   "execution_count": null,
   "id": "5f07b2c2",
   "metadata": {},
   "outputs": [],
   "source": []
  }
 ],
 "metadata": {
  "kernelspec": {
   "display_name": "Python 3.7 (tf-keras-gpu-test)",
   "language": "python",
   "name": "tf-keras-gpu-test"
  },
  "language_info": {
   "codemirror_mode": {
    "name": "ipython",
    "version": 3
   },
   "file_extension": ".py",
   "mimetype": "text/x-python",
   "name": "python",
   "nbconvert_exporter": "python",
   "pygments_lexer": "ipython3",
   "version": "3.7.11"
  }
 },
 "nbformat": 4,
 "nbformat_minor": 5
}
