{
 "cells": [
  {
   "cell_type": "markdown",
   "id": "31858a7b",
   "metadata": {},
   "source": [
    "## Multiclass classification on the Consumer complaints Dataset"
   ]
  },
  {
   "cell_type": "markdown",
   "id": "e56f3da1",
   "metadata": {},
   "source": [
    "**Dataset downloaded form: https://catalog.data.gov/dataset/consumer-complaint-database**"
   ]
  },
  {
   "cell_type": "code",
   "execution_count": 1,
   "id": "d7fda65b",
   "metadata": {},
   "outputs": [],
   "source": [
    "import numpy as np \n",
    "import pandas as pd\n",
    "import matplotlib.pyplot as plt\n",
    "import seaborn as sns"
   ]
  },
  {
   "cell_type": "code",
   "execution_count": 6,
   "id": "8a0c38f0",
   "metadata": {},
   "outputs": [
    {
     "name": "stdout",
     "output_type": "stream",
     "text": [
      "^C\n"
     ]
    }
   ],
   "source": [
    "!find /c /v \"complaints.csv\""
   ]
  },
  {
   "cell_type": "markdown",
   "id": "d04ce623",
   "metadata": {},
   "source": [
    "### Since the number of data points is very large, only considering first 5 million entries"
   ]
  },
  {
   "cell_type": "code",
   "execution_count": 8,
   "id": "92bc0df1",
   "metadata": {},
   "outputs": [
    {
     "name": "stdout",
     "output_type": "stream",
     "text": [
      "<class 'pandas.core.frame.DataFrame'>\n",
      "RangeIndex: 1000000 entries, 0 to 999999\n",
      "Data columns (total 18 columns):\n",
      " #   Column                        Non-Null Count    Dtype \n",
      "---  ------                        --------------    ----- \n",
      " 0   Date received                 1000000 non-null  object\n",
      " 1   Product                       1000000 non-null  object\n",
      " 2   Sub-product                   987704 non-null   object\n",
      " 3   Issue                         1000000 non-null  object\n",
      " 4   Sub-issue                     875430 non-null   object\n",
      " 5   Consumer complaint narrative  444832 non-null   object\n",
      " 6   Company public response       489118 non-null   object\n",
      " 7   Company                       1000000 non-null  object\n",
      " 8   State                         983852 non-null   object\n",
      " 9   ZIP code                      983758 non-null   object\n",
      " 10  Tags                          117497 non-null   object\n",
      " 11  Consumer consent provided?    834434 non-null   object\n",
      " 12  Submitted via                 1000000 non-null  object\n",
      " 13  Date sent to company          1000000 non-null  object\n",
      " 14  Company response to consumer  999998 non-null   object\n",
      " 15  Timely response?              1000000 non-null  object\n",
      " 16  Consumer disputed?            44752 non-null    object\n",
      " 17  Complaint ID                  1000000 non-null  int64 \n",
      "dtypes: int64(1), object(17)\n",
      "memory usage: 137.3+ MB\n"
     ]
    }
   ],
   "source": [
    "df = pd.read_csv('complaints.csv', nrows = 1000000)\n",
    "df.info()"
   ]
  },
  {
   "cell_type": "code",
   "execution_count": 9,
   "id": "028726b6",
   "metadata": {},
   "outputs": [],
   "source": [
    "df = df[['Product', 'Consumer complaint narrative']]"
   ]
  },
  {
   "cell_type": "code",
   "execution_count": 10,
   "id": "b317be83",
   "metadata": {},
   "outputs": [
    {
     "data": {
      "text/html": [
       "<div>\n",
       "<style scoped>\n",
       "    .dataframe tbody tr th:only-of-type {\n",
       "        vertical-align: middle;\n",
       "    }\n",
       "\n",
       "    .dataframe tbody tr th {\n",
       "        vertical-align: top;\n",
       "    }\n",
       "\n",
       "    .dataframe thead th {\n",
       "        text-align: right;\n",
       "    }\n",
       "</style>\n",
       "<table border=\"1\" class=\"dataframe\">\n",
       "  <thead>\n",
       "    <tr style=\"text-align: right;\">\n",
       "      <th></th>\n",
       "      <th>Product</th>\n",
       "      <th>Consumer complaint narrative</th>\n",
       "    </tr>\n",
       "  </thead>\n",
       "  <tbody>\n",
       "    <tr>\n",
       "      <th>0</th>\n",
       "      <td>Credit reporting, credit repair services, or o...</td>\n",
       "      <td>NaN</td>\n",
       "    </tr>\n",
       "    <tr>\n",
       "      <th>1</th>\n",
       "      <td>Vehicle loan or lease</td>\n",
       "      <td>I contacted Ally on Friday XX/XX/XXXX after fa...</td>\n",
       "    </tr>\n",
       "    <tr>\n",
       "      <th>2</th>\n",
       "      <td>Credit reporting, credit repair services, or o...</td>\n",
       "      <td>NaN</td>\n",
       "    </tr>\n",
       "    <tr>\n",
       "      <th>3</th>\n",
       "      <td>Checking or savings account</td>\n",
       "      <td>NaN</td>\n",
       "    </tr>\n",
       "    <tr>\n",
       "      <th>4</th>\n",
       "      <td>Credit card or prepaid card</td>\n",
       "      <td>On XX/XX/2019 my bill did not go through accou...</td>\n",
       "    </tr>\n",
       "  </tbody>\n",
       "</table>\n",
       "</div>"
      ],
      "text/plain": [
       "                                             Product  \\\n",
       "0  Credit reporting, credit repair services, or o...   \n",
       "1                              Vehicle loan or lease   \n",
       "2  Credit reporting, credit repair services, or o...   \n",
       "3                        Checking or savings account   \n",
       "4                        Credit card or prepaid card   \n",
       "\n",
       "                        Consumer complaint narrative  \n",
       "0                                                NaN  \n",
       "1  I contacted Ally on Friday XX/XX/XXXX after fa...  \n",
       "2                                                NaN  \n",
       "3                                                NaN  \n",
       "4  On XX/XX/2019 my bill did not go through accou...  "
      ]
     },
     "execution_count": 10,
     "metadata": {},
     "output_type": "execute_result"
    }
   ],
   "source": [
    "df.head()"
   ]
  },
  {
   "cell_type": "code",
   "execution_count": 13,
   "id": "6e46b6ef",
   "metadata": {},
   "outputs": [],
   "source": [
    "df = df.dropna(axis = 0)"
   ]
  },
  {
   "cell_type": "code",
   "execution_count": 14,
   "id": "002827f2",
   "metadata": {},
   "outputs": [
    {
     "name": "stdout",
     "output_type": "stream",
     "text": [
      "<class 'pandas.core.frame.DataFrame'>\n",
      "Int64Index: 444832 entries, 1 to 999998\n",
      "Data columns (total 2 columns):\n",
      " #   Column                        Non-Null Count   Dtype \n",
      "---  ------                        --------------   ----- \n",
      " 0   Product                       444832 non-null  object\n",
      " 1   Consumer complaint narrative  444832 non-null  object\n",
      "dtypes: object(2)\n",
      "memory usage: 10.2+ MB\n"
     ]
    }
   ],
   "source": [
    "df.info()"
   ]
  },
  {
   "cell_type": "code",
   "execution_count": 15,
   "id": "94e62921",
   "metadata": {},
   "outputs": [
    {
     "data": {
      "text/plain": [
       "Credit reporting, credit repair services, or other personal consumer reports    223670\n",
       "Debt collection                                                                  75666\n",
       "Credit card or prepaid card                                                      42258\n",
       "Mortgage                                                                         35450\n",
       "Checking or savings account                                                      25313\n",
       "Money transfer, virtual currency, or money service                               12426\n",
       "Student loan                                                                     10312\n",
       "Vehicle loan or lease                                                             9939\n",
       "Payday loan, title loan, or personal loan                                         6548\n",
       "Credit reporting                                                                  1047\n",
       "Credit card                                                                        777\n",
       "Bank account or service                                                            594\n",
       "Consumer Loan                                                                      483\n",
       "Payday loan                                                                        144\n",
       "Money transfers                                                                    110\n",
       "Prepaid card                                                                        56\n",
       "Other financial service                                                             37\n",
       "Virtual currency                                                                     2\n",
       "Name: Product, dtype: int64"
      ]
     },
     "execution_count": 15,
     "metadata": {},
     "output_type": "execute_result"
    }
   ],
   "source": [
    "df.Product.value_counts()"
   ]
  },
  {
   "cell_type": "markdown",
   "id": "3ce4f68d",
   "metadata": {},
   "source": [
    "**Some of the Products can be clubbed together like:**\n",
    "- Consolidate “Credit reporting” into “Credit reporting, credit repair services, or other personal consumer reports”.\n",
    "- Consolidate “Credit card” into “Credit card or prepaid card”.\n",
    "- Consolidate “Payday loan” into “Payday loan, title loan, or personal loan”.\n",
    "- Consolidate “Virtual currency” into “Money transfer, virtual currency, or money service”.  \n",
    "“Other financial service” has very few number of complaints and it does not mean anything, so it is removed."
   ]
  },
  {
   "cell_type": "code",
   "execution_count": null,
   "id": "1519e95a",
   "metadata": {},
   "outputs": [],
   "source": []
  },
  {
   "cell_type": "code",
   "execution_count": null,
   "id": "80e214a0",
   "metadata": {},
   "outputs": [],
   "source": []
  },
  {
   "cell_type": "code",
   "execution_count": null,
   "id": "21adba83",
   "metadata": {},
   "outputs": [],
   "source": []
  },
  {
   "cell_type": "code",
   "execution_count": null,
   "id": "62e8dfa6",
   "metadata": {},
   "outputs": [],
   "source": []
  },
  {
   "cell_type": "code",
   "execution_count": null,
   "id": "2446fb0b",
   "metadata": {},
   "outputs": [],
   "source": []
  },
  {
   "cell_type": "code",
   "execution_count": null,
   "id": "6ae05dd5",
   "metadata": {},
   "outputs": [],
   "source": []
  },
  {
   "cell_type": "code",
   "execution_count": null,
   "id": "3c5221a8",
   "metadata": {},
   "outputs": [],
   "source": []
  },
  {
   "cell_type": "code",
   "execution_count": null,
   "id": "628da599",
   "metadata": {},
   "outputs": [],
   "source": []
  },
  {
   "cell_type": "code",
   "execution_count": null,
   "id": "3fa54ebf",
   "metadata": {},
   "outputs": [],
   "source": []
  }
 ],
 "metadata": {
  "kernelspec": {
   "display_name": "Python 3.7 (tf-keras-gpu-test)",
   "language": "python",
   "name": "tf-keras-gpu-test"
  },
  "language_info": {
   "codemirror_mode": {
    "name": "ipython",
    "version": 3
   },
   "file_extension": ".py",
   "mimetype": "text/x-python",
   "name": "python",
   "nbconvert_exporter": "python",
   "pygments_lexer": "ipython3",
   "version": "3.7.11"
  }
 },
 "nbformat": 4,
 "nbformat_minor": 5
}
