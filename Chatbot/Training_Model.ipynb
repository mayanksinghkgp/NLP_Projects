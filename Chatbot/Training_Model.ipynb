{
 "cells": [
  {
   "cell_type": "markdown",
   "id": "8b5b2997",
   "metadata": {},
   "source": [
    "## A script to build the model and train the chatbot"
   ]
  },
  {
   "cell_type": "code",
   "execution_count": 2,
   "id": "fae1a10a",
   "metadata": {},
   "outputs": [],
   "source": [
    "import nltk\n",
    "from nltk.stem import WordNetLemmatizer\n",
    "import json\n",
    "import pickle"
   ]
  },
  {
   "cell_type": "code",
   "execution_count": 49,
   "id": "ee97fba2",
   "metadata": {},
   "outputs": [],
   "source": [
    "import numpy as np\n",
    "import tensorflow as tf\n",
    "from tensorflow.keras.models import Sequential\n",
    "from tensorflow.keras.layers import Dense, Activation, Dropout\n",
    "from tensorflow.keras.optimizers import SGD\n",
    "import random"
   ]
  },
  {
   "cell_type": "code",
   "execution_count": 16,
   "id": "f8ceb607",
   "metadata": {},
   "outputs": [],
   "source": [
    "lemmatizer = WordNetLemmatizer()\n",
    "words=[]\n",
    "classes = []\n",
    "documents = []\n",
    "ignore_words = ['?', '!']\n",
    "data_file = open('intents.json').read()\n",
    "intents = json.loads(data_file)"
   ]
  },
  {
   "cell_type": "code",
   "execution_count": 17,
   "id": "2a282370",
   "metadata": {},
   "outputs": [
    {
     "data": {
      "text/plain": [
       "{'tag': 'greeting',\n",
       " 'patterns': ['Hi there',\n",
       "  'How are you',\n",
       "  'Is anyone there?',\n",
       "  'Hey',\n",
       "  'Hola',\n",
       "  'Hello',\n",
       "  'Good day'],\n",
       " 'responses': ['Hello, thanks for asking',\n",
       "  'Good to see you again',\n",
       "  'Hi there, how can I help?'],\n",
       " 'context': ['']}"
      ]
     },
     "execution_count": 17,
     "metadata": {},
     "output_type": "execute_result"
    }
   ],
   "source": [
    "intents['intents'][0]"
   ]
  },
  {
   "cell_type": "code",
   "execution_count": 20,
   "id": "1fec6c0c",
   "metadata": {},
   "outputs": [
    {
     "name": "stderr",
     "output_type": "stream",
     "text": [
      "[nltk_data] Downloading package punkt to\n",
      "[nltk_data]     C:\\Users\\mayan\\AppData\\Roaming\\nltk_data...\n",
      "[nltk_data]   Unzipping tokenizers\\punkt.zip.\n"
     ]
    }
   ],
   "source": [
    "# nltk.download('punkt')\n",
    "for intent in intents['intents']:\n",
    "    for pattern in intent['patterns']:\n",
    "        w = nltk.word_tokenize(pattern)          #tokenize each word\n",
    "        words.extend(w)                          #add documents in the corpus\n",
    "        documents.append((w, intent['tag']))\n",
    "        \n",
    "        if intent['tag'] not in classes:         # add to our classes list\n",
    "            classes.append(intent['tag'])"
   ]
  },
  {
   "cell_type": "code",
   "execution_count": 23,
   "id": "bfd7b905",
   "metadata": {
    "scrolled": true
   },
   "outputs": [
    {
     "data": {
      "text/plain": [
       "[(['Hi', 'there'], 'greeting'),\n",
       " (['How', 'are', 'you'], 'greeting'),\n",
       " (['Is', 'anyone', 'there', '?'], 'greeting'),\n",
       " (['Hey'], 'greeting'),\n",
       " (['Hola'], 'greeting')]"
      ]
     },
     "execution_count": 23,
     "metadata": {},
     "output_type": "execute_result"
    }
   ],
   "source": [
    "# classes\n",
    "documents[:5]"
   ]
  },
  {
   "cell_type": "code",
   "execution_count": 34,
   "id": "1c45f739",
   "metadata": {},
   "outputs": [
    {
     "data": {
      "text/plain": [
       "[\"'s\",\n",
       " ',',\n",
       " 'a',\n",
       " 'adverse',\n",
       " 'all',\n",
       " 'anyone',\n",
       " 'are',\n",
       " 'awesome',\n",
       " 'be',\n",
       " 'behavior']"
      ]
     },
     "execution_count": 34,
     "metadata": {},
     "output_type": "execute_result"
    }
   ],
   "source": [
    "sorted(words)[:10]"
   ]
  },
  {
   "cell_type": "code",
   "execution_count": 33,
   "id": "13bff193",
   "metadata": {},
   "outputs": [
    {
     "data": {
      "text/plain": [
       "[\"'s\",\n",
       " ',',\n",
       " 'a',\n",
       " 'adverse',\n",
       " 'all',\n",
       " 'anyone',\n",
       " 'are',\n",
       " 'awesome',\n",
       " 'be',\n",
       " 'behavior']"
      ]
     },
     "execution_count": 33,
     "metadata": {},
     "output_type": "execute_result"
    }
   ],
   "source": [
    "# lemmaztize and lower each word and remove duplicates\n",
    "# nltk.download('wordnet')\n",
    "words = [lemmatizer.lemmatize(w.lower()) for w in words if w not in ignore_words]\n",
    "words = sorted(list(set(words)))\n",
    "words[:10]"
   ]
  },
  {
   "cell_type": "code",
   "execution_count": 36,
   "id": "478e8651",
   "metadata": {},
   "outputs": [
    {
     "data": {
      "text/plain": [
       "['adverse_drug',\n",
       " 'blood_pressure',\n",
       " 'blood_pressure_search',\n",
       " 'goodbye',\n",
       " 'greeting',\n",
       " 'hospital_search',\n",
       " 'options',\n",
       " 'pharmacy_search',\n",
       " 'thanks']"
      ]
     },
     "execution_count": 36,
     "metadata": {},
     "output_type": "execute_result"
    }
   ],
   "source": [
    "# sort classes\n",
    "classes = sorted(list(set(classes)))\n",
    "classes"
   ]
  },
  {
   "cell_type": "code",
   "execution_count": 37,
   "id": "6b2635f7",
   "metadata": {},
   "outputs": [
    {
     "name": "stdout",
     "output_type": "stream",
     "text": [
      "47 documents\n",
      "9 classes ['adverse_drug', 'blood_pressure', 'blood_pressure_search', 'goodbye', 'greeting', 'hospital_search', 'options', 'pharmacy_search', 'thanks']\n",
      "88 unique lemmatized words [\"'s\", ',', 'a', 'adverse', 'all', 'anyone', 'are', 'awesome', 'be', 'behavior', 'blood', 'by', 'bye', 'can', 'causing', 'chatting', 'check', 'could', 'data', 'day', 'detail', 'do', 'dont', 'drug', 'entry', 'find', 'for', 'give', 'good', 'goodbye', 'have', 'hello', 'help', 'helpful', 'helping', 'hey', 'hi', 'history', 'hola', 'hospital', 'how', 'i', 'id', 'is', 'later', 'list', 'load', 'locate', 'log', 'looking', 'lookup', 'management', 'me', 'module', 'nearby', 'next', 'nice', 'of', 'offered', 'open', 'patient', 'pharmacy', 'pressure', 'provide', 'reaction', 'related', 'result', 'search', 'searching', 'see', 'show', 'suitable', 'support', 'task', 'thank', 'thanks', 'that', 'there', 'till', 'time', 'to', 'transfer', 'up', 'want', 'what', 'which', 'with', 'you']\n"
     ]
    }
   ],
   "source": [
    "# documents = combination between patterns and intents\n",
    "print (len(documents), \"documents\")\n",
    "# classes = intents\n",
    "print (len(classes), \"classes\", classes)\n",
    "# words = all words, vocabulary\n",
    "print (len(words), \"unique lemmatized words\", words)"
   ]
  },
  {
   "cell_type": "code",
   "execution_count": 38,
   "id": "13b2e376",
   "metadata": {},
   "outputs": [],
   "source": [
    "# creating the pickle files for the words and the classes\n",
    "pickle.dump(words,open('words.pkl','wb'))\n",
    "pickle.dump(classes,open('classes.pkl','wb'))"
   ]
  },
  {
   "cell_type": "markdown",
   "id": "39668e21",
   "metadata": {},
   "source": [
    "### Creating the training data"
   ]
  },
  {
   "cell_type": "code",
   "execution_count": 41,
   "id": "23be6023",
   "metadata": {},
   "outputs": [],
   "source": [
    "training = []\n",
    "output_empty = [0] * len(classes)\n",
    "for doc in documents:\n",
    "    bag = []\n",
    "    pattern_words = doc[0]\n",
    "    pattern_words = [lemmatizer.lemmatize(word.lower()) for word in pattern_words]\n",
    "    for w in words:\n",
    "        bag.append(1) if w in pattern_words else bag.append(0)\n",
    "    output_row = list(output_empty)\n",
    "    output_row[classes.index(doc[1])] = 1\n",
    "    training.append([bag, output_row])"
   ]
  },
  {
   "cell_type": "code",
   "execution_count": 42,
   "id": "8efe31b1",
   "metadata": {},
   "outputs": [],
   "source": [
    "# shuffle our features and turn into np.array\n",
    "random.shuffle(training)"
   ]
  },
  {
   "cell_type": "code",
   "execution_count": 43,
   "id": "cacbf3d6",
   "metadata": {},
   "outputs": [],
   "source": [
    "training = np.array(training)"
   ]
  },
  {
   "cell_type": "code",
   "execution_count": 106,
   "id": "2be7c58f",
   "metadata": {},
   "outputs": [],
   "source": [
    "train_x = list(training[:,0])\n",
    "train_y = list(training[:,1])"
   ]
  },
  {
   "cell_type": "markdown",
   "id": "7e635f83",
   "metadata": {},
   "source": [
    "### Build the model"
   ]
  },
  {
   "cell_type": "code",
   "execution_count": 107,
   "id": "908d2e43",
   "metadata": {},
   "outputs": [],
   "source": [
    "# Create model - 3 layers. First layer 128 neurons, second layer 64 neurons and 3rd output layer contains number of neurons\n",
    "# equal to number of intents to predict output intent with softmax\n",
    "model = Sequential()\n",
    "model.add(Dense(128, input_shape=(len(train_x[0]),), activation='relu'))\n",
    "model.add(Dropout(0.5))\n",
    "model.add(Dense(64, activation='relu'))\n",
    "model.add(Dropout(0.5))\n",
    "model.add(Dense(len(train_y[0]), activation='softmax'))"
   ]
  },
  {
   "cell_type": "code",
   "execution_count": 108,
   "id": "8ba6cc23",
   "metadata": {},
   "outputs": [],
   "source": [
    "# lr_schedule = tf.keras.callbacks.LearningRateScheduler(lambda epoch: 1e-3 * 10**(epoch /20))"
   ]
  },
  {
   "cell_type": "code",
   "execution_count": 109,
   "id": "f13d54e8",
   "metadata": {},
   "outputs": [],
   "source": [
    "sgd = SGD(lr=0.01, decay=1e-6, momentum=0.9, nesterov=True)\n",
    "model.compile(loss='categorical_crossentropy', optimizer=sgd, metrics=['accuracy'])"
   ]
  },
  {
   "cell_type": "code",
   "execution_count": 110,
   "id": "a0e3b5fc",
   "metadata": {},
   "outputs": [
    {
     "name": "stdout",
     "output_type": "stream",
     "text": [
      "Epoch 1/100\n",
      "10/10 [==============================] - 0s 4ms/step - loss: 2.2066 - accuracy: 0.1064\n",
      "Epoch 2/100\n",
      "10/10 [==============================] - 0s 5ms/step - loss: 2.1553 - accuracy: 0.1489\n",
      "Epoch 3/100\n",
      "10/10 [==============================] - 0s 4ms/step - loss: 2.0207 - accuracy: 0.2766\n",
      "Epoch 4/100\n",
      "10/10 [==============================] - 0s 4ms/step - loss: 2.0206 - accuracy: 0.2979\n",
      "Epoch 5/100\n",
      "10/10 [==============================] - 0s 4ms/step - loss: 1.8141 - accuracy: 0.4468\n",
      "Epoch 6/100\n",
      "10/10 [==============================] - 0s 4ms/step - loss: 1.7911 - accuracy: 0.3830\n",
      "Epoch 7/100\n",
      "10/10 [==============================] - 0s 4ms/step - loss: 1.6557 - accuracy: 0.4255\n",
      "Epoch 8/100\n",
      "10/10 [==============================] - 0s 5ms/step - loss: 1.5376 - accuracy: 0.5319\n",
      "Epoch 9/100\n",
      "10/10 [==============================] - 0s 5ms/step - loss: 1.4002 - accuracy: 0.6383\n",
      "Epoch 10/100\n",
      "10/10 [==============================] - 0s 4ms/step - loss: 1.2664 - accuracy: 0.6596\n",
      "Epoch 11/100\n",
      "10/10 [==============================] - 0s 4ms/step - loss: 1.2320 - accuracy: 0.7234\n",
      "Epoch 12/100\n",
      "10/10 [==============================] - 0s 5ms/step - loss: 1.1055 - accuracy: 0.6383\n",
      "Epoch 13/100\n",
      "10/10 [==============================] - 0s 4ms/step - loss: 0.9392 - accuracy: 0.7660\n",
      "Epoch 14/100\n",
      "10/10 [==============================] - 0s 4ms/step - loss: 0.8215 - accuracy: 0.7872\n",
      "Epoch 15/100\n",
      "10/10 [==============================] - 0s 4ms/step - loss: 0.8792 - accuracy: 0.8511\n",
      "Epoch 16/100\n",
      "10/10 [==============================] - 0s 4ms/step - loss: 0.8052 - accuracy: 0.8298\n",
      "Epoch 17/100\n",
      "10/10 [==============================] - 0s 4ms/step - loss: 0.7884 - accuracy: 0.8085\n",
      "Epoch 18/100\n",
      "10/10 [==============================] - 0s 4ms/step - loss: 0.7337 - accuracy: 0.7872\n",
      "Epoch 19/100\n",
      "10/10 [==============================] - 0s 4ms/step - loss: 0.4645 - accuracy: 0.9574\n",
      "Epoch 20/100\n",
      "10/10 [==============================] - 0s 4ms/step - loss: 0.4710 - accuracy: 0.9149\n",
      "Epoch 21/100\n",
      "10/10 [==============================] - 0s 5ms/step - loss: 0.4955 - accuracy: 0.8085\n",
      "Epoch 22/100\n",
      "10/10 [==============================] - 0s 4ms/step - loss: 0.4394 - accuracy: 0.8723\n",
      "Epoch 23/100\n",
      "10/10 [==============================] - 0s 4ms/step - loss: 0.3288 - accuracy: 0.9574\n",
      "Epoch 24/100\n",
      "10/10 [==============================] - 0s 4ms/step - loss: 0.4043 - accuracy: 0.8936\n",
      "Epoch 25/100\n",
      "10/10 [==============================] - 0s 4ms/step - loss: 0.4245 - accuracy: 0.9149\n",
      "Epoch 26/100\n",
      "10/10 [==============================] - 0s 4ms/step - loss: 0.1830 - accuracy: 1.0000\n",
      "Epoch 27/100\n",
      "10/10 [==============================] - 0s 4ms/step - loss: 0.2613 - accuracy: 0.9574\n",
      "Epoch 28/100\n",
      "10/10 [==============================] - 0s 4ms/step - loss: 0.2192 - accuracy: 0.9362\n",
      "Epoch 29/100\n",
      "10/10 [==============================] - 0s 4ms/step - loss: 0.2909 - accuracy: 0.9362\n",
      "Epoch 30/100\n",
      "10/10 [==============================] - 0s 4ms/step - loss: 0.2880 - accuracy: 0.9362\n",
      "Epoch 31/100\n",
      "10/10 [==============================] - 0s 4ms/step - loss: 0.4270 - accuracy: 0.8723\n",
      "Epoch 32/100\n",
      "10/10 [==============================] - 0s 4ms/step - loss: 0.3639 - accuracy: 0.8936\n",
      "Epoch 33/100\n",
      "10/10 [==============================] - 0s 9ms/step - loss: 0.2206 - accuracy: 0.9362\n",
      "Epoch 34/100\n",
      "10/10 [==============================] - 0s 4ms/step - loss: 0.1643 - accuracy: 0.9574\n",
      "Epoch 35/100\n",
      "10/10 [==============================] - 0s 4ms/step - loss: 0.2885 - accuracy: 0.8936\n",
      "Epoch 36/100\n",
      "10/10 [==============================] - 0s 4ms/step - loss: 0.1515 - accuracy: 0.9574\n",
      "Epoch 37/100\n",
      "10/10 [==============================] - ETA: 0s - loss: 0.1830 - accuracy: 1.00 - 0s 4ms/step - loss: 0.2422 - accuracy: 0.9787\n",
      "Epoch 38/100\n",
      "10/10 [==============================] - 0s 5ms/step - loss: 0.1741 - accuracy: 0.9362\n",
      "Epoch 39/100\n",
      "10/10 [==============================] - 0s 3ms/step - loss: 0.3609 - accuracy: 0.8298\n",
      "Epoch 40/100\n",
      "10/10 [==============================] - 0s 4ms/step - loss: 0.1608 - accuracy: 1.0000\n",
      "Epoch 41/100\n",
      "10/10 [==============================] - 0s 4ms/step - loss: 0.2293 - accuracy: 0.9362\n",
      "Epoch 42/100\n",
      "10/10 [==============================] - 0s 6ms/step - loss: 0.1589 - accuracy: 0.9574\n",
      "Epoch 43/100\n",
      "10/10 [==============================] - 0s 4ms/step - loss: 0.1358 - accuracy: 1.0000\n",
      "Epoch 44/100\n",
      "10/10 [==============================] - 0s 4ms/step - loss: 0.1507 - accuracy: 0.9362\n",
      "Epoch 45/100\n",
      "10/10 [==============================] - 0s 4ms/step - loss: 0.1168 - accuracy: 0.9787\n",
      "Epoch 46/100\n",
      "10/10 [==============================] - 0s 4ms/step - loss: 0.1724 - accuracy: 0.9362\n",
      "Epoch 47/100\n",
      "10/10 [==============================] - 0s 4ms/step - loss: 0.0884 - accuracy: 1.0000\n",
      "Epoch 48/100\n",
      "10/10 [==============================] - 0s 4ms/step - loss: 0.1016 - accuracy: 0.9574\n",
      "Epoch 49/100\n",
      "10/10 [==============================] - 0s 4ms/step - loss: 0.1242 - accuracy: 0.9787\n",
      "Epoch 50/100\n",
      "10/10 [==============================] - 0s 4ms/step - loss: 0.0584 - accuracy: 1.0000\n",
      "Epoch 51/100\n",
      "10/10 [==============================] - 0s 4ms/step - loss: 0.0582 - accuracy: 1.0000\n",
      "Epoch 52/100\n",
      "10/10 [==============================] - 0s 4ms/step - loss: 0.1036 - accuracy: 1.0000\n",
      "Epoch 53/100\n",
      "10/10 [==============================] - 0s 4ms/step - loss: 0.1236 - accuracy: 0.9787\n",
      "Epoch 54/100\n",
      "10/10 [==============================] - 0s 4ms/step - loss: 0.1498 - accuracy: 0.9362\n",
      "Epoch 55/100\n",
      "10/10 [==============================] - 0s 4ms/step - loss: 0.0732 - accuracy: 0.9787\n",
      "Epoch 56/100\n",
      "10/10 [==============================] - 0s 4ms/step - loss: 0.0720 - accuracy: 0.9787\n",
      "Epoch 57/100\n",
      "10/10 [==============================] - 0s 4ms/step - loss: 0.1031 - accuracy: 1.0000\n",
      "Epoch 58/100\n",
      "10/10 [==============================] - 0s 4ms/step - loss: 0.0767 - accuracy: 1.0000\n",
      "Epoch 59/100\n",
      "10/10 [==============================] - ETA: 0s - loss: 0.0076 - accuracy: 1.00 - 0s 5ms/step - loss: 0.0519 - accuracy: 1.0000\n",
      "Epoch 60/100\n",
      "10/10 [==============================] - 0s 5ms/step - loss: 0.1382 - accuracy: 0.9362\n",
      "Epoch 61/100\n",
      "10/10 [==============================] - 0s 4ms/step - loss: 0.0993 - accuracy: 0.9787\n",
      "Epoch 62/100\n",
      "10/10 [==============================] - 0s 4ms/step - loss: 0.0442 - accuracy: 1.0000\n",
      "Epoch 63/100\n",
      "10/10 [==============================] - 0s 4ms/step - loss: 0.0351 - accuracy: 1.0000\n",
      "Epoch 64/100\n",
      "10/10 [==============================] - 0s 4ms/step - loss: 0.0580 - accuracy: 1.0000\n",
      "Epoch 65/100\n",
      "10/10 [==============================] - 0s 5ms/step - loss: 0.0704 - accuracy: 0.9787\n",
      "Epoch 66/100\n",
      "10/10 [==============================] - 0s 5ms/step - loss: 0.0844 - accuracy: 0.9787\n",
      "Epoch 67/100\n",
      "10/10 [==============================] - 0s 4ms/step - loss: 0.0643 - accuracy: 0.9787\n",
      "Epoch 68/100\n",
      "10/10 [==============================] - 0s 4ms/step - loss: 0.0624 - accuracy: 1.0000\n",
      "Epoch 69/100\n",
      "10/10 [==============================] - 0s 4ms/step - loss: 0.0645 - accuracy: 0.9787\n",
      "Epoch 70/100\n",
      "10/10 [==============================] - 0s 4ms/step - loss: 0.0539 - accuracy: 0.9787\n",
      "Epoch 71/100\n",
      "10/10 [==============================] - 0s 4ms/step - loss: 0.0497 - accuracy: 1.0000\n",
      "Epoch 72/100\n",
      "10/10 [==============================] - 0s 4ms/step - loss: 0.1011 - accuracy: 0.9787\n",
      "Epoch 73/100\n",
      "10/10 [==============================] - 0s 4ms/step - loss: 0.0166 - accuracy: 1.0000\n",
      "Epoch 74/100\n",
      "10/10 [==============================] - 0s 4ms/step - loss: 0.0376 - accuracy: 1.0000\n",
      "Epoch 75/100\n",
      "10/10 [==============================] - 0s 4ms/step - loss: 0.0509 - accuracy: 0.9574\n",
      "Epoch 76/100\n",
      "10/10 [==============================] - 0s 4ms/step - loss: 0.0814 - accuracy: 0.9787\n",
      "Epoch 77/100\n",
      "10/10 [==============================] - 0s 4ms/step - loss: 0.0871 - accuracy: 0.9574\n",
      "Epoch 78/100\n",
      "10/10 [==============================] - 0s 4ms/step - loss: 0.1419 - accuracy: 0.9574\n",
      "Epoch 79/100\n",
      "10/10 [==============================] - 0s 4ms/step - loss: 0.0247 - accuracy: 1.0000\n",
      "Epoch 80/100\n",
      "10/10 [==============================] - 0s 7ms/step - loss: 0.0767 - accuracy: 0.9362\n",
      "Epoch 81/100\n"
     ]
    },
    {
     "name": "stdout",
     "output_type": "stream",
     "text": [
      "10/10 [==============================] - 0s 6ms/step - loss: 0.0208 - accuracy: 1.0000: 0s - loss: 0.0208 - accuracy: 1.00\n",
      "Epoch 82/100\n",
      "10/10 [==============================] - 0s 5ms/step - loss: 0.0845 - accuracy: 0.9787\n",
      "Epoch 83/100\n",
      "10/10 [==============================] - 0s 4ms/step - loss: 0.0709 - accuracy: 0.9787\n",
      "Epoch 84/100\n",
      "10/10 [==============================] - 0s 4ms/step - loss: 0.0238 - accuracy: 1.0000\n",
      "Epoch 85/100\n",
      "10/10 [==============================] - 0s 4ms/step - loss: 0.0305 - accuracy: 1.0000\n",
      "Epoch 86/100\n",
      "10/10 [==============================] - 0s 4ms/step - loss: 0.0412 - accuracy: 1.0000\n",
      "Epoch 87/100\n",
      "10/10 [==============================] - 0s 4ms/step - loss: 0.0692 - accuracy: 0.9787\n",
      "Epoch 88/100\n",
      "10/10 [==============================] - 0s 4ms/step - loss: 0.0698 - accuracy: 1.0000\n",
      "Epoch 89/100\n",
      "10/10 [==============================] - 0s 4ms/step - loss: 0.0590 - accuracy: 0.9787\n",
      "Epoch 90/100\n",
      "10/10 [==============================] - 0s 4ms/step - loss: 0.0360 - accuracy: 1.0000\n",
      "Epoch 91/100\n",
      "10/10 [==============================] - 0s 4ms/step - loss: 0.0285 - accuracy: 1.0000\n",
      "Epoch 92/100\n",
      "10/10 [==============================] - 0s 4ms/step - loss: 0.0292 - accuracy: 1.0000\n",
      "Epoch 93/100\n",
      "10/10 [==============================] - 0s 4ms/step - loss: 0.0437 - accuracy: 1.0000\n",
      "Epoch 94/100\n",
      "10/10 [==============================] - 0s 4ms/step - loss: 0.0809 - accuracy: 0.9787\n",
      "Epoch 95/100\n",
      "10/10 [==============================] - 0s 4ms/step - loss: 0.0126 - accuracy: 1.0000\n",
      "Epoch 96/100\n",
      "10/10 [==============================] - 0s 4ms/step - loss: 0.0286 - accuracy: 1.0000\n",
      "Epoch 97/100\n",
      "10/10 [==============================] - 0s 4ms/step - loss: 0.0447 - accuracy: 1.0000\n",
      "Epoch 98/100\n",
      "10/10 [==============================] - 0s 4ms/step - loss: 0.0143 - accuracy: 1.0000\n",
      "Epoch 99/100\n",
      "10/10 [==============================] - 0s 5ms/step - loss: 0.0368 - accuracy: 0.9787\n",
      "Epoch 100/100\n",
      "10/10 [==============================] - 0s 4ms/step - loss: 0.0640 - accuracy: 0.9787\n"
     ]
    }
   ],
   "source": [
    "# history = model.fit(np.array(train_x), np.array(train_y), epochs=100, batch_size=5, verbose=1, callbacks=[lr_schedule])\n",
    "history = model.fit(np.array(train_x), np.array(train_y), epochs=100, batch_size=5, verbose=1)"
   ]
  },
  {
   "cell_type": "code",
   "execution_count": 112,
   "id": "741b6937",
   "metadata": {},
   "outputs": [
    {
     "data": {
      "image/png": "[encoded data removed]",
      "text/plain": [
       "<Figure size 432x288 with 1 Axes>"
      ]
     },
     "metadata": {
      "needs_background": "light"
     },
     "output_type": "display_data"
    },
    {
     "data": {
      "text/plain": [
       "<Figure size 432x288 with 0 Axes>"
      ]
     },
     "metadata": {},
     "output_type": "display_data"
    }
   ],
   "source": [
    "import matplotlib.pyplot as plt\n",
    "acc = history.history['accuracy']\n",
    "# val_acc = history.history['val_accuracy']\n",
    "loss = history.history['loss']\n",
    "# val_loss = history.history['val_loss']\n",
    "\n",
    "epochs = range(len(acc))\n",
    "\n",
    "plt.plot(epochs, loss, 'b', label='Loss')\n",
    "plt.title('Loss')\n",
    "plt.legend(loc=0)\n",
    "plt.figure()\n",
    "\n",
    "plt.show()"
   ]
  },
  {
   "cell_type": "code",
   "execution_count": 111,
   "id": "5026854f",
   "metadata": {},
   "outputs": [],
   "source": [
    "model.save('chatbot_model.h5', hist)"
   ]
  },
  {
   "cell_type": "code",
   "execution_count": null,
   "id": "a5cdf6be",
   "metadata": {},
   "outputs": [],
   "source": []
  },
  {
   "cell_type": "code",
   "execution_count": null,
   "id": "70b7b591",
   "metadata": {},
   "outputs": [],
   "source": []
  }
 ],
 "metadata": {
  "kernelspec": {
   "display_name": "Python 3.7 (tf-keras-gpu-test)",
   "language": "python",
   "name": "tf-keras-gpu-test"
  },
  "language_info": {
   "codemirror_mode": {
    "name": "ipython",
    "version": 3
   },
   "file_extension": ".py",
   "mimetype": "text/x-python",
   "name": "python",
   "nbconvert_exporter": "python",
   "pygments_lexer": "ipython3",
   "version": "3.7.11"
  }
 },
 "nbformat": 4,
 "nbformat_minor": 5
}
