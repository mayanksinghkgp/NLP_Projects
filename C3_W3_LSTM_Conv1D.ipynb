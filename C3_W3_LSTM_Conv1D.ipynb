{
  "nbformat": 4,
  "nbformat_minor": 0,
  "metadata": {
    "accelerator": "GPU",
    "colab": {
      "name": "C3_W3_Assignment_Solution.ipynb",
      "provenance": [],
      "collapsed_sections": [],
      "toc_visible": true
    },
    "kernelspec": {
      "name": "python3",
      "display_name": "Python 3"
    },
    "language_info": {
      "name": "python"
    }
  },
  "cells": [
    {
      "cell_type": "code",
      "metadata": {
        "id": "zX4Kg8DUTKWO"
      },
      "source": [
        "#@title Licensed under the Apache License, Version 2.0 (the \"License\");\n",
        "# you may not use this file except in compliance with the License.\n",
        "# You may obtain a copy of the License at\n",
        "#\n",
        "# https://www.apache.org/licenses/LICENSE-2.0\n",
        "#\n",
        "# Unless required by applicable law or agreed to in writing, software\n",
        "# distributed under the License is distributed on an \"AS IS\" BASIS,\n",
        "# WITHOUT WARRANTIES OR CONDITIONS OF ANY KIND, either express or implied.\n",
        "# See the License for the specific language governing permissions and\n",
        "# limitations under the License."
      ],
      "execution_count": null,
      "outputs": []
    },
    {
      "cell_type": "markdown",
      "metadata": {
        "id": "-v8aHcpUdtKN"
      },
      "source": [
        "**Note:** This notebook can run using TensorFlow 2.5.0"
      ]
    },
    {
      "cell_type": "code",
      "metadata": {
        "id": "FtL554lDdtKO"
      },
      "source": [
        "#!pip install tensorflow==2.5.0"
      ],
      "execution_count": null,
      "outputs": []
    },
    {
      "cell_type": "code",
      "metadata": {
        "id": "hmA6EzkQJ5jt"
      },
      "source": [
        "import json\n",
        "import tensorflow as tf\n",
        "import csv\n",
        "import random\n",
        "import numpy as np\n",
        "\n",
        "from tensorflow.keras.preprocessing.text import Tokenizer\n",
        "from tensorflow.keras.preprocessing.sequence import pad_sequences\n",
        "from tensorflow.keras.utils import to_categorical\n",
        "from tensorflow.keras import regularizers\n",
        "\n",
        "\n",
        "embedding_dim = 100\n",
        "max_length = 16\n",
        "trunc_type='post'\n",
        "padding_type='post'\n",
        "oov_tok = \"<OOV>\"\n",
        "training_size=160000\n",
        "test_portion=.1\n",
        "\n",
        "corpus = []\n"
      ],
      "execution_count": 1,
      "outputs": []
    },
    {
      "cell_type": "code",
      "metadata": {
        "id": "bM0l_dORKqE0",
        "outputId": "ee92522a-f5fd-4016-903c-7a16b47e6d99",
        "colab": {
          "base_uri": "https://localhost:8080/"
        }
      },
      "source": [
        "# Note that I cleaned the Stanford dataset to remove LATIN1 encoding to make it easier for Python CSV reader\n",
        "# You can do that yourself with:\n",
        "# iconv -f LATIN1 -t UTF8 training.1600000.processed.noemoticon.csv -o training_cleaned.csv\n",
        "\n",
        "# training_cleaned.csv\n",
        "!gdown --id 1wd8KaeCSHxt-nEpMeuHFSNWrDp8joUXJ\n",
        "\n",
        "num_sentences = 0\n",
        "\n",
        "with open(\"./training_cleaned.csv\") as csvfile:\n",
        "    reader = csv.reader(csvfile, delimiter=',')\n",
        "    for row in reader:\n",
        "        list_item=[]\n",
        "        \n",
        "        ### START CODE HERE\n",
        "        list_item.append(row[5])\n",
        "        this_label=row[0]\n",
        "        if this_label=='0':\n",
        "            list_item.append(0)\n",
        "        else:\n",
        "            list_item.append(1)\n",
        "        ### END CODE HERE\n",
        "        \n",
        "        num_sentences = num_sentences + 1\n",
        "        corpus.append(list_item)\n"
      ],
      "execution_count": 2,
      "outputs": [
        {
          "output_type": "stream",
          "name": "stdout",
          "text": [
            "Downloading...\n",
            "From: https://drive.google.com/uc?id=1wd8KaeCSHxt-nEpMeuHFSNWrDp8joUXJ\n",
            "To: /content/training_cleaned.csv\n",
            "100% 239M/239M [00:02<00:00, 95.4MB/s]\n"
          ]
        }
      ]
    },
    {
      "cell_type": "code",
      "metadata": {
        "id": "YXvs76Fj0FwA",
        "outputId": "1952b356-ea9c-4ab5-b60d-dec1a5acc51c",
        "colab": {
          "base_uri": "https://localhost:8080/"
        }
      },
      "source": [
        "# !egrep -n 'PDT 2009' training_cleaned.csv | head"
      ],
      "execution_count": 9,
      "outputs": [
        {
          "output_type": "stream",
          "name": "stdout",
          "text": [
            "1:\"0\",\"1467810369\",\"Mon Apr 06 22:19:45 PDT 2009\",\"NO_QUERY\",\"_TheSpecialOne_\",\"@switchfoot http://twitpic.com/2y1zl - Awww, that's a bummer.  You shoulda got David Carr of Third Day to do it. ;D\"\n",
            "2:\"0\",\"1467810672\",\"Mon Apr 06 22:19:49 PDT 2009\",\"NO_QUERY\",\"scotthamilton\",\"is upset that he can't update his Facebook by texting it... and might cry as a result  School today also. Blah!\"\n",
            "3:\"0\",\"1467810917\",\"Mon Apr 06 22:19:53 PDT 2009\",\"NO_QUERY\",\"mattycus\",\"@Kenichan I dived many times for the ball. Managed to save 50%  The rest go out of bounds\"\n",
            "4:\"0\",\"1467811184\",\"Mon Apr 06 22:19:57 PDT 2009\",\"NO_QUERY\",\"ElleCTF\",\"my whole body feels itchy and like its on fire \"\n",
            "5:\"0\",\"1467811193\",\"Mon Apr 06 22:19:57 PDT 2009\",\"NO_QUERY\",\"Karoli\",\"@nationwideclass no, it's not behaving at all. i'm mad. why am i here? because I can't see you all over there. \"\n",
            "6:\"0\",\"1467811372\",\"Mon Apr 06 22:20:00 PDT 2009\",\"NO_QUERY\",\"joy_wolf\",\"@Kwesidei not the whole crew \"\n",
            "7:\"0\",\"1467811592\",\"Mon Apr 06 22:20:03 PDT 2009\",\"NO_QUERY\",\"mybirch\",\"Need a hug \"\n",
            "8:\"0\",\"1467811594\",\"Mon Apr 06 22:20:03 PDT 2009\",\"NO_QUERY\",\"coZZ\",\"@LOLTrish hey  long time no see! Yes.. Rains a bit ,only a bit  LOL , I'm fine thanks , how's you ?\"\n",
            "9:\"0\",\"1467811795\",\"Mon Apr 06 22:20:05 PDT 2009\",\"NO_QUERY\",\"2Hood4Hollywood\",\"@Tatiana_K nope they didn't have it \"\n",
            "10:\"0\",\"1467812025\",\"Mon Apr 06 22:20:09 PDT 2009\",\"NO_QUERY\",\"mimismo\",\"@twittera que me muera ? \"\n"
          ]
        }
      ]
    },
    {
      "cell_type": "code",
      "metadata": {
        "id": "3kxblBUjEUX-",
        "outputId": "d61f66f5-e827-4c8c-80e6-34c8846b90a3",
        "colab": {
          "base_uri": "https://localhost:8080/"
        }
      },
      "source": [
        "print(num_sentences)\n",
        "print(len(corpus))\n",
        "print(corpus[1])\n",
        "\n",
        "# Expected Output:\n",
        "# 1600000\n",
        "# 1600000\n",
        "# [\"is upset that he can't update his Facebook by texting it... and might cry as a result  School today also. Blah!\", 0]"
      ],
      "execution_count": 3,
      "outputs": [
        {
          "output_type": "stream",
          "name": "stdout",
          "text": [
            "1600000\n",
            "1600000\n",
            "[\"is upset that he can't update his Facebook by texting it... and might cry as a result  School today also. Blah!\", 0]\n"
          ]
        }
      ]
    },
    {
      "cell_type": "code",
      "metadata": {
        "id": "ohOGz24lsNAD"
      },
      "source": [
        "sentences=[]\n",
        "labels=[]\n",
        "random.shuffle(corpus)\n",
        "for x in range(training_size):\n",
        "    sentences.append(corpus[x][0])# YOUR CODE HERE)\n",
        "    labels.append(corpus[x][1])# YOUR CODE HERE)\n",
        "\n",
        "\n",
        "tokenizer = Tokenizer()\n",
        "tokenizer.fit_on_texts(sentences)# YOUR CODE HERE)\n",
        "\n",
        "word_index = tokenizer.word_index\n",
        "vocab_size=len(word_index)# YOUR CODE HERE)\n",
        "\n",
        "sequences = tokenizer.texts_to_sequences(sentences)# YOUR CODE HERE)\n",
        "padded = pad_sequences(sequences, maxlen=max_length, padding=padding_type, truncating=trunc_type)# YOUR CODE HERE)\n",
        "\n",
        "split = int(test_portion * training_size)\n",
        "\n",
        "test_sequences = padded[0:split]# YOUR CODE HERE)\n",
        "training_sequences = padded[split:training_size]# YOUR CODE HERE)\n",
        "test_labels = labels[0:split]# YOUR CODE HERE)\n",
        "training_labels = labels[split:training_size]# YOUR CODE HERE)"
      ],
      "execution_count": 10,
      "outputs": []
    },
    {
      "cell_type": "code",
      "metadata": {
        "id": "gIrtRem1En3N",
        "outputId": "3c489bf2-3666-4a1c-8b48-fbb91d462d7d",
        "colab": {
          "base_uri": "https://localhost:8080/"
        }
      },
      "source": [
        "print(vocab_size)\n",
        "print(word_index['i'])\n",
        "# Expected Output\n",
        "# 138856\n",
        "# 1"
      ],
      "execution_count": 11,
      "outputs": [
        {
          "output_type": "stream",
          "name": "stdout",
          "text": [
            "138812\n",
            "1\n"
          ]
        }
      ]
    },
    {
      "cell_type": "code",
      "metadata": {
        "id": "C1zdgJkusRh0",
        "outputId": "ad321dd4-e56b-4503-f6f2-2675a4720fac",
        "colab": {
          "base_uri": "https://localhost:8080/"
        }
      },
      "source": [
        "# Note this is the 100 dimension version of GloVe from Stanford\n",
        "\n",
        "# glove.6B.100d.txt\n",
        "!gdown --id 1W5vZy2etitAblLdFn8_DxnsQKzfFJ98g\n",
        "\n",
        "embeddings_index = {};\n",
        "with open('./glove.6B.100d.txt') as f:\n",
        "    for line in f:\n",
        "        values = line.split();\n",
        "        word = values[0];\n",
        "        coefs = np.asarray(values[1:], dtype='float32');\n",
        "        embeddings_index[word] = coefs;\n",
        "\n",
        "embeddings_matrix = np.zeros((vocab_size+1, embedding_dim));\n",
        "for word, i in word_index.items():\n",
        "    embedding_vector = embeddings_index.get(word);\n",
        "    if embedding_vector is not None:\n",
        "        embeddings_matrix[i] = embedding_vector;"
      ],
      "execution_count": 12,
      "outputs": [
        {
          "output_type": "stream",
          "name": "stdout",
          "text": [
            "Downloading...\n",
            "From: https://drive.google.com/uc?id=1W5vZy2etitAblLdFn8_DxnsQKzfFJ98g\n",
            "To: /content/glove.6B.100d.txt\n",
            "100% 347M/347M [00:02<00:00, 162MB/s]\n"
          ]
        }
      ]
    },
    {
      "cell_type": "code",
      "metadata": {
        "id": "71NLk_lpFLNt",
        "outputId": "a6c6823e-6467-4820-9f27-ab874a5c7178",
        "colab": {
          "base_uri": "https://localhost:8080/"
        }
      },
      "source": [
        "print(len(embeddings_matrix))\n",
        "# Expected Output\n",
        "# 138857"
      ],
      "execution_count": 13,
      "outputs": [
        {
          "output_type": "stream",
          "name": "stdout",
          "text": [
            "138813\n"
          ]
        }
      ]
    },
    {
      "cell_type": "code",
      "metadata": {
        "id": "iKKvbuEBOGFz",
        "outputId": "4d1761b0-1854-4ec7-99be-a2c61e06df0b",
        "colab": {
          "base_uri": "https://localhost:8080/"
        }
      },
      "source": [
        "model = tf.keras.Sequential([\n",
        "    # YOUR CODE HERE\n",
        "    tf.keras.layers.Embedding(vocab_size+1, embedding_dim, input_length=max_length, weights=[embeddings_matrix], trainable=False),\n",
        "    tf.keras.layers.Dropout(0.2),\n",
        "    tf.keras.layers.Conv1D(64, 5, activation='relu'),\n",
        "    tf.keras.layers.MaxPooling1D(pool_size=4),\n",
        "    tf.keras.layers.LSTM(64),\n",
        "    tf.keras.layers.Dense(1, activation='sigmoid')\n",
        "])\n",
        "model.compile(loss='binary_crossentropy',optimizer='adam',metrics=['accuracy'])# YOUR CODE HERE)\n",
        "model.summary()\n",
        "\n",
        "num_epochs = 50\n",
        "\n",
        "training_padded = np.array(training_sequences)\n",
        "training_labels = np.array(training_labels)\n",
        "testing_padded = np.array(test_sequences)\n",
        "testing_labels = np.array(test_labels)\n",
        "\n",
        "history = model.fit(training_padded, training_labels, epochs=num_epochs, validation_data=(testing_padded, testing_labels), verbose=2)\n",
        "\n",
        "print(\"Training Complete\")"
      ],
      "execution_count": 14,
      "outputs": [
        {
          "output_type": "stream",
          "name": "stdout",
          "text": [
            "Model: \"sequential\"\n",
            "_________________________________________________________________\n",
            " Layer (type)                Output Shape              Param #   \n",
            "=================================================================\n",
            " embedding (Embedding)       (None, 16, 100)           13881300  \n",
            "                                                                 \n",
            " dropout (Dropout)           (None, 16, 100)           0         \n",
            "                                                                 \n",
            " conv1d (Conv1D)             (None, 12, 64)            32064     \n",
            "                                                                 \n",
            " max_pooling1d (MaxPooling1D  (None, 3, 64)            0         \n",
            " )                                                               \n",
            "                                                                 \n",
            " lstm (LSTM)                 (None, 64)                33024     \n",
            "                                                                 \n",
            " dense (Dense)               (None, 1)                 65        \n",
            "                                                                 \n",
            "=================================================================\n",
            "Total params: 13,946,453\n",
            "Trainable params: 65,153\n",
            "Non-trainable params: 13,881,300\n",
            "_________________________________________________________________\n",
            "Epoch 1/50\n",
            "4500/4500 - 36s - loss: 0.5666 - accuracy: 0.6992 - val_loss: 0.5241 - val_accuracy: 0.7331 - 36s/epoch - 8ms/step\n",
            "Epoch 2/50\n",
            "4500/4500 - 19s - loss: 0.5289 - accuracy: 0.7304 - val_loss: 0.5135 - val_accuracy: 0.7391 - 19s/epoch - 4ms/step\n",
            "Epoch 3/50\n",
            "4500/4500 - 19s - loss: 0.5124 - accuracy: 0.7427 - val_loss: 0.5072 - val_accuracy: 0.7452 - 19s/epoch - 4ms/step\n",
            "Epoch 4/50\n",
            "4500/4500 - 19s - loss: 0.5012 - accuracy: 0.7506 - val_loss: 0.5007 - val_accuracy: 0.7506 - 19s/epoch - 4ms/step\n",
            "Epoch 5/50\n",
            "4500/4500 - 19s - loss: 0.4924 - accuracy: 0.7556 - val_loss: 0.4960 - val_accuracy: 0.7527 - 19s/epoch - 4ms/step\n",
            "Epoch 6/50\n",
            "4500/4500 - 19s - loss: 0.4843 - accuracy: 0.7629 - val_loss: 0.4943 - val_accuracy: 0.7556 - 19s/epoch - 4ms/step\n",
            "Epoch 7/50\n",
            "4500/4500 - 19s - loss: 0.4783 - accuracy: 0.7657 - val_loss: 0.4977 - val_accuracy: 0.7544 - 19s/epoch - 4ms/step\n",
            "Epoch 8/50\n",
            "4500/4500 - 19s - loss: 0.4739 - accuracy: 0.7690 - val_loss: 0.4987 - val_accuracy: 0.7552 - 19s/epoch - 4ms/step\n",
            "Epoch 9/50\n",
            "4500/4500 - 19s - loss: 0.4694 - accuracy: 0.7718 - val_loss: 0.4950 - val_accuracy: 0.7546 - 19s/epoch - 4ms/step\n",
            "Epoch 10/50\n",
            "4500/4500 - 19s - loss: 0.4651 - accuracy: 0.7740 - val_loss: 0.5006 - val_accuracy: 0.7504 - 19s/epoch - 4ms/step\n",
            "Epoch 11/50\n",
            "4500/4500 - 19s - loss: 0.4615 - accuracy: 0.7770 - val_loss: 0.5036 - val_accuracy: 0.7498 - 19s/epoch - 4ms/step\n",
            "Epoch 12/50\n",
            "4500/4500 - 19s - loss: 0.4592 - accuracy: 0.7780 - val_loss: 0.5007 - val_accuracy: 0.7538 - 19s/epoch - 4ms/step\n",
            "Epoch 13/50\n",
            "4500/4500 - 19s - loss: 0.4567 - accuracy: 0.7795 - val_loss: 0.4990 - val_accuracy: 0.7551 - 19s/epoch - 4ms/step\n",
            "Epoch 14/50\n",
            "4500/4500 - 19s - loss: 0.4558 - accuracy: 0.7808 - val_loss: 0.4998 - val_accuracy: 0.7541 - 19s/epoch - 4ms/step\n",
            "Epoch 15/50\n",
            "4500/4500 - 19s - loss: 0.4508 - accuracy: 0.7820 - val_loss: 0.5054 - val_accuracy: 0.7564 - 19s/epoch - 4ms/step\n",
            "Epoch 16/50\n",
            "4500/4500 - 19s - loss: 0.4497 - accuracy: 0.7829 - val_loss: 0.5047 - val_accuracy: 0.7542 - 19s/epoch - 4ms/step\n",
            "Epoch 17/50\n",
            "4500/4500 - 21s - loss: 0.4479 - accuracy: 0.7847 - val_loss: 0.5044 - val_accuracy: 0.7572 - 21s/epoch - 5ms/step\n",
            "Epoch 18/50\n",
            "4500/4500 - 19s - loss: 0.4475 - accuracy: 0.7846 - val_loss: 0.5039 - val_accuracy: 0.7573 - 19s/epoch - 4ms/step\n",
            "Epoch 19/50\n",
            "4500/4500 - 19s - loss: 0.4441 - accuracy: 0.7874 - val_loss: 0.5046 - val_accuracy: 0.7567 - 19s/epoch - 4ms/step\n",
            "Epoch 20/50\n",
            "4500/4500 - 19s - loss: 0.4442 - accuracy: 0.7878 - val_loss: 0.5078 - val_accuracy: 0.7529 - 19s/epoch - 4ms/step\n",
            "Epoch 21/50\n",
            "4500/4500 - 19s - loss: 0.4433 - accuracy: 0.7875 - val_loss: 0.5067 - val_accuracy: 0.7524 - 19s/epoch - 4ms/step\n",
            "Epoch 22/50\n",
            "4500/4500 - 19s - loss: 0.4421 - accuracy: 0.7886 - val_loss: 0.5064 - val_accuracy: 0.7564 - 19s/epoch - 4ms/step\n",
            "Epoch 23/50\n",
            "4500/4500 - 19s - loss: 0.4409 - accuracy: 0.7894 - val_loss: 0.5087 - val_accuracy: 0.7517 - 19s/epoch - 4ms/step\n",
            "Epoch 24/50\n",
            "4500/4500 - 19s - loss: 0.4404 - accuracy: 0.7899 - val_loss: 0.5106 - val_accuracy: 0.7513 - 19s/epoch - 4ms/step\n",
            "Epoch 25/50\n",
            "4500/4500 - 19s - loss: 0.4386 - accuracy: 0.7903 - val_loss: 0.5059 - val_accuracy: 0.7557 - 19s/epoch - 4ms/step\n",
            "Epoch 26/50\n",
            "4500/4500 - 19s - loss: 0.4378 - accuracy: 0.7903 - val_loss: 0.5100 - val_accuracy: 0.7542 - 19s/epoch - 4ms/step\n",
            "Epoch 27/50\n",
            "4500/4500 - 19s - loss: 0.4372 - accuracy: 0.7902 - val_loss: 0.5063 - val_accuracy: 0.7552 - 19s/epoch - 4ms/step\n",
            "Epoch 28/50\n",
            "4500/4500 - 20s - loss: 0.4364 - accuracy: 0.7923 - val_loss: 0.5115 - val_accuracy: 0.7535 - 20s/epoch - 5ms/step\n",
            "Epoch 29/50\n",
            "4500/4500 - 20s - loss: 0.4352 - accuracy: 0.7923 - val_loss: 0.5062 - val_accuracy: 0.7508 - 20s/epoch - 5ms/step\n",
            "Epoch 30/50\n",
            "4500/4500 - 19s - loss: 0.4347 - accuracy: 0.7922 - val_loss: 0.5114 - val_accuracy: 0.7499 - 19s/epoch - 4ms/step\n",
            "Epoch 31/50\n",
            "4500/4500 - 19s - loss: 0.4354 - accuracy: 0.7925 - val_loss: 0.5108 - val_accuracy: 0.7525 - 19s/epoch - 4ms/step\n",
            "Epoch 32/50\n",
            "4500/4500 - 20s - loss: 0.4340 - accuracy: 0.7931 - val_loss: 0.5112 - val_accuracy: 0.7502 - 20s/epoch - 5ms/step\n",
            "Epoch 33/50\n",
            "4500/4500 - 19s - loss: 0.4326 - accuracy: 0.7942 - val_loss: 0.5117 - val_accuracy: 0.7521 - 19s/epoch - 4ms/step\n",
            "Epoch 34/50\n",
            "4500/4500 - 19s - loss: 0.4328 - accuracy: 0.7935 - val_loss: 0.5087 - val_accuracy: 0.7502 - 19s/epoch - 4ms/step\n",
            "Epoch 35/50\n",
            "4500/4500 - 20s - loss: 0.4328 - accuracy: 0.7940 - val_loss: 0.5100 - val_accuracy: 0.7526 - 20s/epoch - 5ms/step\n",
            "Epoch 36/50\n",
            "4500/4500 - 19s - loss: 0.4310 - accuracy: 0.7950 - val_loss: 0.5151 - val_accuracy: 0.7519 - 19s/epoch - 4ms/step\n",
            "Epoch 37/50\n",
            "4500/4500 - 19s - loss: 0.4323 - accuracy: 0.7938 - val_loss: 0.5143 - val_accuracy: 0.7500 - 19s/epoch - 4ms/step\n",
            "Epoch 38/50\n",
            "4500/4500 - 19s - loss: 0.4313 - accuracy: 0.7935 - val_loss: 0.5123 - val_accuracy: 0.7475 - 19s/epoch - 4ms/step\n",
            "Epoch 39/50\n",
            "4500/4500 - 19s - loss: 0.4309 - accuracy: 0.7949 - val_loss: 0.5144 - val_accuracy: 0.7538 - 19s/epoch - 4ms/step\n",
            "Epoch 40/50\n",
            "4500/4500 - 19s - loss: 0.4296 - accuracy: 0.7957 - val_loss: 0.5143 - val_accuracy: 0.7526 - 19s/epoch - 4ms/step\n",
            "Epoch 41/50\n",
            "4500/4500 - 19s - loss: 0.4306 - accuracy: 0.7965 - val_loss: 0.5184 - val_accuracy: 0.7502 - 19s/epoch - 4ms/step\n",
            "Epoch 42/50\n",
            "4500/4500 - 19s - loss: 0.4296 - accuracy: 0.7959 - val_loss: 0.5166 - val_accuracy: 0.7515 - 19s/epoch - 4ms/step\n",
            "Epoch 43/50\n",
            "4500/4500 - 19s - loss: 0.4290 - accuracy: 0.7961 - val_loss: 0.5171 - val_accuracy: 0.7498 - 19s/epoch - 4ms/step\n",
            "Epoch 44/50\n",
            "4500/4500 - 19s - loss: 0.4287 - accuracy: 0.7960 - val_loss: 0.5131 - val_accuracy: 0.7516 - 19s/epoch - 4ms/step\n",
            "Epoch 45/50\n",
            "4500/4500 - 19s - loss: 0.4306 - accuracy: 0.7950 - val_loss: 0.5129 - val_accuracy: 0.7527 - 19s/epoch - 4ms/step\n",
            "Epoch 46/50\n",
            "4500/4500 - 19s - loss: 0.4293 - accuracy: 0.7959 - val_loss: 0.5158 - val_accuracy: 0.7521 - 19s/epoch - 4ms/step\n",
            "Epoch 47/50\n",
            "4500/4500 - 19s - loss: 0.4285 - accuracy: 0.7958 - val_loss: 0.5110 - val_accuracy: 0.7541 - 19s/epoch - 4ms/step\n",
            "Epoch 48/50\n",
            "4500/4500 - 19s - loss: 0.4276 - accuracy: 0.7958 - val_loss: 0.5159 - val_accuracy: 0.7522 - 19s/epoch - 4ms/step\n",
            "Epoch 49/50\n",
            "4500/4500 - 19s - loss: 0.4275 - accuracy: 0.7972 - val_loss: 0.5238 - val_accuracy: 0.7486 - 19s/epoch - 4ms/step\n",
            "Epoch 50/50\n",
            "4500/4500 - 19s - loss: 0.4283 - accuracy: 0.7964 - val_loss: 0.5111 - val_accuracy: 0.7520 - 19s/epoch - 4ms/step\n",
            "Training Complete\n"
          ]
        }
      ]
    },
    {
      "cell_type": "code",
      "metadata": {
        "id": "qxju4ItJKO8F",
        "outputId": "8fa32f6c-8dc8-4dc4-f13f-db46db702a05",
        "colab": {
          "base_uri": "https://localhost:8080/",
          "height": 608
        }
      },
      "source": [
        "import matplotlib.image  as mpimg\n",
        "import matplotlib.pyplot as plt\n",
        "\n",
        "#-----------------------------------------------------------\n",
        "# Retrieve a list of list results on training and test data\n",
        "# sets for each training epoch\n",
        "#-----------------------------------------------------------\n",
        "acc=history.history['accuracy']\n",
        "val_acc=history.history['val_accuracy']\n",
        "loss=history.history['loss']\n",
        "val_loss=history.history['val_loss']\n",
        "\n",
        "epochs=range(len(acc)) # Get number of epochs\n",
        "\n",
        "#------------------------------------------------\n",
        "# Plot training and validation accuracy per epoch\n",
        "#------------------------------------------------\n",
        "plt.plot(epochs, acc, 'r')\n",
        "plt.plot(epochs, val_acc, 'b')\n",
        "plt.title('Training and validation accuracy')\n",
        "plt.xlabel(\"Epochs\")\n",
        "plt.ylabel(\"Accuracy\")\n",
        "plt.legend([\"Accuracy\", \"Validation Accuracy\"])\n",
        "\n",
        "plt.figure()\n",
        "\n",
        "#------------------------------------------------\n",
        "# Plot training and validation loss per epoch\n",
        "#------------------------------------------------\n",
        "plt.plot(epochs, loss, 'r')\n",
        "plt.plot(epochs, val_loss, 'b')\n",
        "plt.title('Training and validation loss')\n",
        "plt.xlabel(\"Epochs\")\n",
        "plt.ylabel(\"Loss\")\n",
        "plt.legend([\"Loss\", \"Validation Loss\"])\n",
        "\n",
        "plt.figure()\n",
        "\n",
        "\n",
        "# Expected Output\n",
        "# A chart where the validation loss does not increase sharply!"
      ],
      "execution_count": 15,
      "outputs": [
        {
          "output_type": "execute_result",
          "data": {
            "text/plain": [
              "<Figure size 432x288 with 0 Axes>"
            ]
          },
          "metadata": {},
          "execution_count": 15
        },
        {
          "output_type": "display_data",
          "data": {
            "image/png": "[encoded data removed]",
            "text/plain": [
              "<Figure size 432x288 with 1 Axes>"
            ]
          },
          "metadata": {
            "needs_background": "light"
          }
        },
        {
          "output_type": "display_data",
          "data": {
            "image/png": "[encoded data removed]",
            "text/plain": [
              "<Figure size 432x288 with 1 Axes>"
            ]
          },
          "metadata": {
            "needs_background": "light"
          }
        },
        {
          "output_type": "display_data",
          "data": {
            "text/plain": [
              "<Figure size 432x288 with 0 Axes>"
            ]
          },
          "metadata": {}
        }
      ]
    },
    {
      "cell_type": "code",
      "metadata": {
        "id": "NrQVBC9n1cql"
      },
      "source": [
        ""
      ],
      "execution_count": null,
      "outputs": []
    }
  ]
}