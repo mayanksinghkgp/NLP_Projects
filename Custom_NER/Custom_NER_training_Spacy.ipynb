{
 "cells": [
  {
   "cell_type": "markdown",
   "id": "aafc39ea",
   "metadata": {},
   "source": [
    "## Custom NER training in Spacy"
   ]
  },
  {
   "cell_type": "code",
   "execution_count": 1,
   "id": "e3a1a0a0",
   "metadata": {},
   "outputs": [],
   "source": [
    "import spacy"
   ]
  },
  {
   "cell_type": "code",
   "execution_count": 2,
   "id": "e5865f91",
   "metadata": {},
   "outputs": [],
   "source": [
    "nlp = spacy.load('en_core_web_sm')"
   ]
  },
  {
   "cell_type": "code",
   "execution_count": 3,
   "id": "ce14acee",
   "metadata": {},
   "outputs": [
    {
     "data": {
      "text/plain": [
       "['tagger', 'parser', 'ner']"
      ]
     },
     "execution_count": 3,
     "metadata": {},
     "output_type": "execute_result"
    }
   ],
   "source": [
    "nlp.pipe_names"
   ]
  },
  {
   "cell_type": "code",
   "execution_count": 4,
   "id": "3fb77219",
   "metadata": {},
   "outputs": [],
   "source": [
    "doc = nlp(\"Australia wants to force Facebook and Google to pay media companies for news\")"
   ]
  },
  {
   "cell_type": "code",
   "execution_count": 6,
   "id": "7334cf8c",
   "metadata": {},
   "outputs": [
    {
     "name": "stdout",
     "output_type": "stream",
     "text": [
      "Australia 0 9 GPE\n",
      "Facebook 25 33 ORG\n",
      "Google 38 44 ORG\n"
     ]
    }
   ],
   "source": [
    "for ent in doc.ents:   # getting all the entities identified\n",
    "    print(ent.text, ent.start_char, ent.end_char, ent.label_)    #labels for the entities"
   ]
  },
  {
   "cell_type": "code",
   "execution_count": 8,
   "id": "3f6a8e7f",
   "metadata": {},
   "outputs": [
    {
     "name": "stdout",
     "output_type": "stream",
     "text": [
      "amazon 41 47 ORG\n",
      "december 56 64 DATE\n"
     ]
    }
   ],
   "source": [
    "doc = nlp(\"I want to buy a television from the next amazon sale in december\")\n",
    "for ent in doc.ents:\n",
    "    print(ent.text, ent.start_char, ent.end_char, ent.label_)"
   ]
  },
  {
   "cell_type": "code",
   "execution_count": 9,
   "id": "54b43641",
   "metadata": {},
   "outputs": [],
   "source": [
    "doc = nlp(\"what is the process to open a new savings account\")\n",
    "for ent in doc.ents:\n",
    "    print(ent.text, ent.start_char, ent.end_char, ent.label_)  # does not recognize any NER - problems with financial/banking domains"
   ]
  },
  {
   "cell_type": "code",
   "execution_count": 11,
   "id": "7f502849",
   "metadata": {},
   "outputs": [],
   "source": [
    "ner = nlp.get_pipe('ner')   #NER pipeline"
   ]
  },
  {
   "cell_type": "code",
   "execution_count": 12,
   "id": "686be21e",
   "metadata": {},
   "outputs": [],
   "source": [
    "TRAIN_DATA2 = {\"classes\":[\"NAME\",\"COMPANY\",\"ROLE\",\"PERCENTAGE\",\"WEEKDAY\",\"MONEY\",\"TIME PERIOD\",\"STATES\"],\"annotations\":[[\"The share price of PVR rose over 7 percent on Wednesday after the multiplex chain said that it has reduced losses in Q2 despite nil revenue from the core movie exhibition business.\",{\"entities\":[[19,22,\"COMPANY\"],[33,42,\"PERCENTAGE\"],[46,55,\"WEEKDAY\"]]}],[\"The company managed to get rent waivers from most landlords, CFO Nitin Sood said in an interview to CNBC-TV18. “The big focus for us right now as revenues have been nil is to really reduce our fixed cost and we have managed to do that, ” he added.\",{\"entities\":[[61,64,\"ROLE\"],[65,75,\"NAME\"]]}],[\"Sood further said that they have brought down the fixed cost down by almost 75-80 percent.\",{\"entities\":[[0,4,\"NAME\"],[76,89,\"PERCENTAGE\"]]}],[\"The stock rose as much as 7.6 percent to the day's high of Rs 1,186.85 per share on the BSE.\",{\"entities\":[[26,37,\"PERCENTAGE\"],[59,70,\"PERCENTAGE\"],[88,91,\"COMPANY\"]]}],[\"Meanwhile, for the September quarter, the company reported a consolidated net loss of Rs 184.06 crore versus a net profit of Rs 47.67 crore in the year ago quarter.\",{\"entities\":[[86,101,\"MONEY\"],[125,139,\"MONEY\"]]}],[\"\",{\"entities\":[]}],[\"Its total income was at Rs 110.61 crore during the quarter under review against Rs 979.40 crore in the corresponding quarter last fiscal. PVR's total expenses were at Rs 389.37 crore in July-September 2020-21.\",{\"entities\":[[24,39,\"MONEY\"],[80,95,\"MONEY\"],[117,137,\"TIME PERIOD\"],[138,141,\"COMPANY\"],[167,182,\"MONEY\"],[186,208,\"TIME PERIOD\"]]}],[\"\\\" Financial performance of the company for Q2, FY 21 was impacted by the continued lockdown announced due to COVID-19 outbreak, which disrupted the company's operations, \\\" said PVR in a post-earnings statement.\",{\"entities\":[[42,44,\"TIME PERIOD\"],[46,51,\"TIME PERIOD\"]]}],[\"PVR said its results were not comparable as business was impacted due to temporary closures of cinemas.\",{\"entities\":[]}],[\"\",{\"entities\":[]}],[\"Under Unlock 5.0 guidelines, the government has permitted cinemas to reopen October 15 onwards with 50 percent capacity. So far , 16 states and UTs, where PVR has a presence, have permitted cinemas to restart operations. Out of total of 831 screens of the company, over 575 have received permission to reopen, it said.\",{\"entities\":[[76,86,\"TIME PERIOD\"],[100,110,\"PERCENTAGE\"],[154,157,\"COMPANY\"]]}],[\"PVR Ltd Chairman cum Managing Director Ajay Bijli said: \\\" We are eagerly waiting for the reopening of other states, specifically Maharashtra and Telangana so that business can gradually get back to normal. We are taking all possible precautions so that both our customers and employees feel safe while visiting their favourite cinema . \\\"\",{\"entities\":[[8,16,\"ROLE\"],[21,38,\"ROLE\"],[39,49,\"NAME\"],[128,139,\"ROLE\"],[144,153,\"ROLE\"]]}]]}"
   ]
  },
  {
   "cell_type": "code",
   "execution_count": 15,
   "id": "60179647",
   "metadata": {},
   "outputs": [
    {
     "data": {
      "text/plain": [
       "[['The share price of PVR rose over 7 percent on Wednesday after the multiplex chain said that it has reduced losses in Q2 despite nil revenue from the core movie exhibition business.',\n",
       "  {'entities': [[19, 22, 'COMPANY'],\n",
       "    [33, 42, 'PERCENTAGE'],\n",
       "    [46, 55, 'WEEKDAY']]}],\n",
       " ['The company managed to get rent waivers from most landlords, CFO Nitin Sood said in an interview to CNBC-TV18. “The big focus for us right now as revenues have been nil is to really reduce our fixed cost and we have managed to do that, ” he added.',\n",
       "  {'entities': [[61, 64, 'ROLE'], [65, 75, 'NAME']]}],\n",
       " ['Sood further said that they have brought down the fixed cost down by almost 75-80 percent.',\n",
       "  {'entities': [[0, 4, 'NAME'], [76, 89, 'PERCENTAGE']]}],\n",
       " [\"The stock rose as much as 7.6 percent to the day's high of Rs 1,186.85 per share on the BSE.\",\n",
       "  {'entities': [[26, 37, 'PERCENTAGE'],\n",
       "    [59, 70, 'PERCENTAGE'],\n",
       "    [88, 91, 'COMPANY']]}],\n",
       " ['Meanwhile, for the September quarter, the company reported a consolidated net loss of Rs 184.06 crore versus a net profit of Rs 47.67 crore in the year ago quarter.',\n",
       "  {'entities': [[86, 101, 'MONEY'], [125, 139, 'MONEY']]}],\n",
       " ['', {'entities': []}],\n",
       " [\"Its total income was at Rs 110.61 crore during the quarter under review against Rs 979.40 crore in the corresponding quarter last fiscal. PVR's total expenses were at Rs 389.37 crore in July-September 2020-21.\",\n",
       "  {'entities': [[24, 39, 'MONEY'],\n",
       "    [80, 95, 'MONEY'],\n",
       "    [117, 137, 'TIME PERIOD'],\n",
       "    [138, 141, 'COMPANY'],\n",
       "    [167, 182, 'MONEY'],\n",
       "    [186, 208, 'TIME PERIOD']]}],\n",
       " ['\" Financial performance of the company for Q2, FY 21 was impacted by the continued lockdown announced due to COVID-19 outbreak, which disrupted the company\\'s operations, \" said PVR in a post-earnings statement.',\n",
       "  {'entities': [[42, 44, 'TIME PERIOD'], [46, 51, 'TIME PERIOD']]}],\n",
       " ['PVR said its results were not comparable as business was impacted due to temporary closures of cinemas.',\n",
       "  {'entities': []}],\n",
       " ['', {'entities': []}],\n",
       " ['Under Unlock 5.0 guidelines, the government has permitted cinemas to reopen October 15 onwards with 50 percent capacity. So far , 16 states and UTs, where PVR has a presence, have permitted cinemas to restart operations. Out of total of 831 screens of the company, over 575 have received permission to reopen, it said.',\n",
       "  {'entities': [[76, 86, 'TIME PERIOD'],\n",
       "    [100, 110, 'PERCENTAGE'],\n",
       "    [154, 157, 'COMPANY']]}],\n",
       " ['PVR Ltd Chairman cum Managing Director Ajay Bijli said: \" We are eagerly waiting for the reopening of other states, specifically Maharashtra and Telangana so that business can gradually get back to normal. We are taking all possible precautions so that both our customers and employees feel safe while visiting their favourite cinema . \"',\n",
       "  {'entities': [[8, 16, 'ROLE'],\n",
       "    [21, 38, 'ROLE'],\n",
       "    [39, 49, 'NAME'],\n",
       "    [128, 139, 'ROLE'],\n",
       "    [144, 153, 'ROLE']]}]]"
      ]
     },
     "execution_count": 15,
     "metadata": {},
     "output_type": "execute_result"
    }
   ],
   "source": [
    "TRAIN_DATA2['annotations']"
   ]
  },
  {
   "cell_type": "code",
   "execution_count": null,
   "id": "9570f6cc",
   "metadata": {},
   "outputs": [],
   "source": [
    "# for _,annotations in TRAIN_DATA2['annotations']:\n",
    "#     for ent in annotations.get('entities'):\n",
    "#         ner.add_label(ent[2])"
   ]
  },
  {
   "cell_type": "code",
   "execution_count": 16,
   "id": "d42a1139",
   "metadata": {},
   "outputs": [],
   "source": [
    "for lab in TRAIN_DATA2['classes']:\n",
    "    ner.add_label(lab)"
   ]
  },
  {
   "cell_type": "code",
   "execution_count": null,
   "id": "2dc5430d",
   "metadata": {},
   "outputs": [],
   "source": [
    "disable_pipes = [pipe for pipe in nlp.pipe_names if pipe != 'ner']    #other pipes to disbale that we dont want to train"
   ]
  },
  {
   "cell_type": "code",
   "execution_count": null,
   "id": "6908bd92",
   "metadata": {},
   "outputs": [],
   "source": []
  },
  {
   "cell_type": "code",
   "execution_count": null,
   "id": "a48712e6",
   "metadata": {},
   "outputs": [],
   "source": []
  },
  {
   "cell_type": "code",
   "execution_count": null,
   "id": "ea2f9fd9",
   "metadata": {},
   "outputs": [],
   "source": []
  },
  {
   "cell_type": "code",
   "execution_count": null,
   "id": "2185e480",
   "metadata": {},
   "outputs": [],
   "source": []
  },
  {
   "cell_type": "code",
   "execution_count": null,
   "id": "8f06e737",
   "metadata": {},
   "outputs": [],
   "source": []
  },
  {
   "cell_type": "code",
   "execution_count": null,
   "id": "4abd2398",
   "metadata": {},
   "outputs": [],
   "source": []
  },
  {
   "cell_type": "code",
   "execution_count": null,
   "id": "1d4f7e30",
   "metadata": {},
   "outputs": [],
   "source": []
  }
 ],
 "metadata": {
  "kernelspec": {
   "display_name": "Python 3",
   "language": "python",
   "name": "python3"
  },
  "language_info": {
   "codemirror_mode": {
    "name": "ipython",
    "version": 3
   },
   "file_extension": ".py",
   "mimetype": "text/x-python",
   "name": "python",
   "nbconvert_exporter": "python",
   "pygments_lexer": "ipython3",
   "version": "3.7.10"
  }
 },
 "nbformat": 4,
 "nbformat_minor": 5
}
