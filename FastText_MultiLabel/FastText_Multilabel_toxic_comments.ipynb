{
  "nbformat": 4,
  "nbformat_minor": 0,
  "metadata": {
    "colab": {
      "name": "FastText_Multilabel_toxic_comments.ipynb",
      "provenance": []
    },
    "kernelspec": {
      "name": "python3",
      "display_name": "Python 3"
    },
    "language_info": {
      "name": "python"
    },
    "accelerator": "GPU"
  },
  "cells": [
    {
      "cell_type": "code",
      "execution_count": null,
      "metadata": {
        "id": "ibIAQqo2gHeQ"
      },
      "outputs": [],
      "source": [
        "!pip install ktrain"
      ]
    },
    {
      "cell_type": "code",
      "source": [
        "!wget https://raw.githubusercontent.com/mayanksinghkgp/NLP_Resources/main/FastText_MultiLabel/data/train.csv"
      ],
      "metadata": {
        "colab": {
          "base_uri": "https://localhost:8080/"
        },
        "id": "iannWFZ-gKkX",
        "outputId": "df89328f-2235-4fd0-f11c-d99a3c8b9d71"
      },
      "execution_count": 2,
      "outputs": [
        {
          "output_type": "stream",
          "name": "stdout",
          "text": [
            "--2021-12-22 11:00:29--  https://raw.githubusercontent.com/mayanksinghkgp/NLP_Resources/main/FastText_MultiLabel/data/train.csv\n",
            "Resolving raw.githubusercontent.com (raw.githubusercontent.com)... 185.199.108.133, 185.199.109.133, 185.199.110.133, ...\n",
            "Connecting to raw.githubusercontent.com (raw.githubusercontent.com)|185.199.108.133|:443... connected.\n",
            "HTTP request sent, awaiting response... 200 OK\n",
            "Length: 68802655 (66M) [text/plain]\n",
            "Saving to: ‘train.csv’\n",
            "\n",
            "train.csv           100%[===================>]  65.62M  93.6MB/s    in 0.7s    \n",
            "\n",
            "2021-12-22 11:00:35 (93.6 MB/s) - ‘train.csv’ saved [68802655/68802655]\n",
            "\n"
          ]
        }
      ]
    },
    {
      "cell_type": "code",
      "source": [
        "import pandas as pd\n",
        "import ktrain\n",
        "from ktrain import text"
      ],
      "metadata": {
        "id": "Js8JohuJzLHN"
      },
      "execution_count": 3,
      "outputs": []
    },
    {
      "cell_type": "code",
      "source": [
        "PATH = 'train.csv'\n",
        "NUM_WORDS = 50000     #Number of words in the vocal including ngrams etc\n",
        "MAXLEN = 150      #Max length of the comment considered\n",
        "\n",
        "train, val, preproc = text.texts_from_csv(PATH, 'comment_text', label_columns=['toxic', 'severe_toxic', 'obscene', 'threat', 'insult', 'identity_hate'],\n",
        "                    ngram_range = 2, max_features = NUM_WORDS, maxlen = MAXLEN)"
      ],
      "metadata": {
        "colab": {
          "base_uri": "https://localhost:8080/"
        },
        "id": "y0eaGTfCzp7z",
        "outputId": "365d4e4a-5346-4014-9bf6-2a1307fc4ee9"
      },
      "execution_count": 27,
      "outputs": [
        {
          "output_type": "stream",
          "name": "stdout",
          "text": [
            "detected encoding: utf-8 (if wrong, set manually)\n",
            "['toxic', 'severe_toxic', 'obscene', 'threat', 'insult', 'identity_hate']\n",
            "       toxic  severe_toxic  obscene  threat  insult  identity_hate\n",
            "43916      0             0        0       0       0              0\n",
            "32002      0             0        0       0       0              0\n",
            "25400      0             0        0       0       0              0\n",
            "49639      0             0        0       0       0              0\n",
            "2482       0             0        0       0       0              0\n",
            "['toxic', 'severe_toxic', 'obscene', 'threat', 'insult', 'identity_hate']\n",
            "        toxic  severe_toxic  obscene  threat  insult  identity_hate\n",
            "137581      0             0        0       0       0              0\n",
            "36252       1             0        0       0       0              0\n",
            "75222       0             0        0       0       0              0\n",
            "114621      0             0        0       0       0              0\n",
            "75356       0             0        0       0       0              0\n",
            "language: en\n",
            "Word Counts: 196947\n",
            "Nrows: 143613\n",
            "143613 train sequences\n",
            "train sequence lengths:\n",
            "\tmean : 67\n",
            "\t95percentile : 228\n",
            "\t99percentile : 565\n",
            "Adding 2-gram features\n",
            "max_features changed to 1887267 with addition of ngrams\n",
            "Average train sequence length with ngrams: 132\n",
            "train (w/ngrams) sequence lengths:\n",
            "\tmean : 133\n",
            "\t95percentile : 455\n",
            "\t99percentile : 1129\n",
            "x_train shape: (143613,150)\n",
            "y_train shape: (143613, 6)\n",
            "Is Multi-Label? True\n",
            "15958 test sequences\n",
            "test sequence lengths:\n",
            "\tmean : 67\n",
            "\t95percentile : 231\n",
            "\t99percentile : 587\n",
            "Average test sequence length with ngrams: 124\n",
            "test (w/ngrams) sequence lengths:\n",
            "\tmean : 124\n",
            "\t95percentile : 429\n",
            "\t99percentile : 1072\n",
            "x_test shape: (15958,150)\n",
            "y_test shape: (15958, 6)\n"
          ]
        }
      ]
    },
    {
      "cell_type": "code",
      "source": [
        "text.print_text_classifiers()"
      ],
      "metadata": {
        "colab": {
          "base_uri": "https://localhost:8080/"
        },
        "id": "8p4JtwoH07V1",
        "outputId": "3f937681-884f-42ab-e8fc-919ef33fadab"
      },
      "execution_count": 28,
      "outputs": [
        {
          "output_type": "stream",
          "name": "stdout",
          "text": [
            "fasttext: a fastText-like model [http://arxiv.org/pdf/1607.01759.pdf]\n",
            "logreg: logistic regression using a trainable Embedding layer\n",
            "nbsvm: NBSVM model [http://www.aclweb.org/anthology/P12-2018]\n",
            "bigru: Bidirectional GRU with pretrained fasttext word vectors [https://fasttext.cc/docs/en/crawl-vectors.html]\n",
            "standard_gru: simple 2-layer GRU with randomly initialized embeddings\n",
            "bert: Bidirectional Encoder Representations from Transformers (BERT) from keras_bert [https://arxiv.org/abs/1810.04805]\n",
            "distilbert: distilled, smaller, and faster BERT from Hugging Face transformers [https://arxiv.org/abs/1910.01108]\n"
          ]
        }
      ]
    },
    {
      "cell_type": "code",
      "source": [
        "model = text.text_classifier('fasttext', train, preproc)"
      ],
      "metadata": {
        "colab": {
          "base_uri": "https://localhost:8080/"
        },
        "id": "o6rNyA9F1IHa",
        "outputId": "60a1f1dc-f987-4a69-a84c-9411b8813cac"
      },
      "execution_count": 29,
      "outputs": [
        {
          "output_type": "stream",
          "name": "stdout",
          "text": [
            "Is Multi-Label? True\n",
            "compiling word ID features...\n",
            "maxlen is 150\n",
            "done.\n"
          ]
        }
      ]
    },
    {
      "cell_type": "code",
      "source": [
        "learner = ktrain.get_learner(model, train, val)"
      ],
      "metadata": {
        "id": "E66L6NiN1Mrs"
      },
      "execution_count": 30,
      "outputs": []
    },
    {
      "cell_type": "code",
      "source": [
        "learner.autofit(0.001, 3)"
      ],
      "metadata": {
        "colab": {
          "base_uri": "https://localhost:8080/"
        },
        "id": "dLV9n9Q81O2q",
        "outputId": "a03ab8f6-16e1-4eab-968c-01e881f1c1f6"
      },
      "execution_count": 31,
      "outputs": [
        {
          "output_type": "stream",
          "name": "stdout",
          "text": [
            "\n",
            "\n",
            "begin training using triangular learning rate policy with max lr of 0.001...\n",
            "Epoch 1/3\n",
            "4488/4488 [==============================] - 474s 105ms/step - loss: 0.1547 - accuracy: 0.7241 - val_loss: 0.0609 - val_accuracy: 0.9942\n",
            "Epoch 2/3\n",
            "4488/4488 [==============================] - 472s 105ms/step - loss: 0.0705 - accuracy: 0.9901 - val_loss: 0.0548 - val_accuracy: 0.9942\n",
            "Epoch 3/3\n",
            "4488/4488 [==============================] - 472s 105ms/step - loss: 0.0603 - accuracy: 0.9940 - val_loss: 0.0528 - val_accuracy: 0.9942\n"
          ]
        },
        {
          "output_type": "execute_result",
          "data": {
            "text/plain": [
              "<keras.callbacks.History at 0x7fb4c4fe9f10>"
            ]
          },
          "metadata": {},
          "execution_count": 31
        }
      ]
    },
    {
      "cell_type": "code",
      "source": [
        "predictor  = ktrain.get_predictor(learner.model, preproc)"
      ],
      "metadata": {
        "id": "q8m-hCIO46fF"
      },
      "execution_count": 32,
      "outputs": []
    },
    {
      "cell_type": "code",
      "source": [
        "predictor.predict(['I will make your entire family cry'])"
      ],
      "metadata": {
        "colab": {
          "base_uri": "https://localhost:8080/"
        },
        "id": "n21crdLY1Sms",
        "outputId": "1fe7e875-e417-4e44-efac-28f55db2ce1d"
      },
      "execution_count": 33,
      "outputs": [
        {
          "output_type": "execute_result",
          "data": {
            "text/plain": [
              "[[('toxic', 0.07829695),\n",
              "  ('severe_toxic', 0.0001573108),\n",
              "  ('obscene', 0.010920689),\n",
              "  ('threat', 0.0009755484),\n",
              "  ('insult', 0.016092196),\n",
              "  ('identity_hate', 0.0041721836)]]"
            ]
          },
          "metadata": {},
          "execution_count": 33
        }
      ]
    },
    {
      "cell_type": "code",
      "source": [
        "predictor.save('/content/toxic_fasttext_bigram')"
      ],
      "metadata": {
        "id": "o64PhHw543Le"
      },
      "execution_count": 34,
      "outputs": []
    },
    {
      "cell_type": "code",
      "source": [
        ""
      ],
      "metadata": {
        "id": "bFbn0PiR6nFW"
      },
      "execution_count": null,
      "outputs": []
    }
  ]
}