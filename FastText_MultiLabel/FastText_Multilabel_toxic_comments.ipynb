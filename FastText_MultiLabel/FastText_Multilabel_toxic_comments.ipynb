{
  "nbformat": 4,
  "nbformat_minor": 0,
  "metadata": {
    "colab": {
      "name": "FastText_Multilabel_toxic_comments.ipynb",
      "provenance": []
    },
    "kernelspec": {
      "name": "python3",
      "display_name": "Python 3"
    },
    "language_info": {
      "name": "python"
    },
    "accelerator": "GPU"
  },
  "cells": [
    {
      "cell_type": "code",
      "execution_count": null,
      "metadata": {
        "id": "ibIAQqo2gHeQ"
      },
      "outputs": [],
      "source": [
        "!pip install ktrain"
      ]
    },
    {
      "cell_type": "code",
      "source": [
        "!wget https://raw.githubusercontent.com/mayanksinghkgp/NLP_Resources/main/FastText_MultiLabel/data/train.csv"
      ],
      "metadata": {
        "colab": {
          "base_uri": "https://localhost:8080/"
        },
        "id": "iannWFZ-gKkX",
        "outputId": "df89328f-2235-4fd0-f11c-d99a3c8b9d71"
      },
      "execution_count": 2,
      "outputs": [
        {
          "output_type": "stream",
          "name": "stdout",
          "text": [
            "--2021-12-22 11:00:29--  https://raw.githubusercontent.com/mayanksinghkgp/NLP_Resources/main/FastText_MultiLabel/data/train.csv\n",
            "Resolving raw.githubusercontent.com (raw.githubusercontent.com)... 185.199.108.133, 185.199.109.133, 185.199.110.133, ...\n",
            "Connecting to raw.githubusercontent.com (raw.githubusercontent.com)|185.199.108.133|:443... connected.\n",
            "HTTP request sent, awaiting response... 200 OK\n",
            "Length: 68802655 (66M) [text/plain]\n",
            "Saving to: ‘train.csv’\n",
            "\n",
            "train.csv           100%[===================>]  65.62M  93.6MB/s    in 0.7s    \n",
            "\n",
            "2021-12-22 11:00:35 (93.6 MB/s) - ‘train.csv’ saved [68802655/68802655]\n",
            "\n"
          ]
        }
      ]
    },
    {
      "cell_type": "code",
      "source": [
        "import pandas as pd\n",
        "import ktrain\n",
        "from ktrain import text"
      ],
      "metadata": {
        "id": "Js8JohuJzLHN"
      },
      "execution_count": 3,
      "outputs": []
    },
    {
      "cell_type": "code",
      "source": [
        "PATH = 'train.csv'\n",
        "NUM_WORDS = 50000     #Number of words in the vocal including ngrams etc\n",
        "MAXLEN = 150      #Max length of the comment considered\n",
        "\n",
        "train, val, preproc = text.texts_from_csv(PATH, 'comment_text', label_columns=['toxic', 'severe_toxic', 'obscene', 'threat', 'insult', 'identity_hate'],\n",
        "                    ngram_range = 1, max_features = NUM_WORDS, maxlen = MAXLEN)"
      ],
      "metadata": {
        "colab": {
          "base_uri": "https://localhost:8080/"
        },
        "id": "y0eaGTfCzp7z",
        "outputId": "fe7a3117-2159-490e-fce7-324dbb34d1cc"
      },
      "execution_count": 4,
      "outputs": [
        {
          "output_type": "stream",
          "name": "stdout",
          "text": [
            "detected encoding: utf-8 (if wrong, set manually)\n",
            "['toxic', 'severe_toxic', 'obscene', 'threat', 'insult', 'identity_hate']\n",
            "        toxic  severe_toxic  obscene  threat  insult  identity_hate\n",
            "100541      0             0        0       0       0              0\n",
            "129782      0             0        0       0       0              0\n",
            "54248       1             0        0       0       0              0\n",
            "80205       0             0        0       0       0              0\n",
            "86120       0             0        0       0       0              0\n",
            "['toxic', 'severe_toxic', 'obscene', 'threat', 'insult', 'identity_hate']\n",
            "        toxic  severe_toxic  obscene  threat  insult  identity_hate\n",
            "118031      0             0        0       0       0              0\n",
            "83216       0             0        0       0       0              0\n",
            "122548      0             0        0       0       0              0\n",
            "157518      0             0        0       0       0              0\n",
            "9171        0             0        0       0       0              0\n",
            "language: en\n",
            "Word Counts: 197189\n",
            "Nrows: 143613\n",
            "143613 train sequences\n",
            "train sequence lengths:\n",
            "\tmean : 67\n",
            "\t95percentile : 228\n",
            "\t99percentile : 568\n",
            "x_train shape: (143613,150)\n",
            "y_train shape: (143613, 6)\n",
            "Is Multi-Label? True\n",
            "15958 test sequences\n",
            "test sequence lengths:\n",
            "\tmean : 66\n",
            "\t95percentile : 222\n",
            "\t99percentile : 557\n",
            "x_test shape: (15958,150)\n",
            "y_test shape: (15958, 6)\n"
          ]
        }
      ]
    },
    {
      "cell_type": "code",
      "source": [
        "text.print_text_classifiers()"
      ],
      "metadata": {
        "colab": {
          "base_uri": "https://localhost:8080/"
        },
        "id": "8p4JtwoH07V1",
        "outputId": "3dce58cf-2fb5-40f7-ec64-ffc61584c0d0"
      },
      "execution_count": 5,
      "outputs": [
        {
          "output_type": "stream",
          "name": "stdout",
          "text": [
            "fasttext: a fastText-like model [http://arxiv.org/pdf/1607.01759.pdf]\n",
            "logreg: logistic regression using a trainable Embedding layer\n",
            "nbsvm: NBSVM model [http://www.aclweb.org/anthology/P12-2018]\n",
            "bigru: Bidirectional GRU with pretrained fasttext word vectors [https://fasttext.cc/docs/en/crawl-vectors.html]\n",
            "standard_gru: simple 2-layer GRU with randomly initialized embeddings\n",
            "bert: Bidirectional Encoder Representations from Transformers (BERT) from keras_bert [https://arxiv.org/abs/1810.04805]\n",
            "distilbert: distilled, smaller, and faster BERT from Hugging Face transformers [https://arxiv.org/abs/1910.01108]\n"
          ]
        }
      ]
    },
    {
      "cell_type": "code",
      "source": [
        "model = text.text_classifier('fasttext', train, preproc)"
      ],
      "metadata": {
        "colab": {
          "base_uri": "https://localhost:8080/"
        },
        "id": "o6rNyA9F1IHa",
        "outputId": "971eca58-4186-4f04-c320-4e8ebd8efd90"
      },
      "execution_count": 6,
      "outputs": [
        {
          "output_type": "stream",
          "name": "stdout",
          "text": [
            "Is Multi-Label? True\n",
            "compiling word ID features...\n",
            "maxlen is 150\n",
            "done.\n"
          ]
        }
      ]
    },
    {
      "cell_type": "code",
      "source": [
        "learner = ktrain.get_learner(model, train, val)"
      ],
      "metadata": {
        "id": "E66L6NiN1Mrs"
      },
      "execution_count": 7,
      "outputs": []
    },
    {
      "cell_type": "code",
      "source": [
        "learner.autofit(0.001, 10)"
      ],
      "metadata": {
        "colab": {
          "base_uri": "https://localhost:8080/"
        },
        "id": "dLV9n9Q81O2q",
        "outputId": "e9007095-de90-41de-bbba-14083f859b18"
      },
      "execution_count": null,
      "outputs": [
        {
          "output_type": "stream",
          "name": "stdout",
          "text": [
            "\n",
            "\n",
            "begin training using triangular learning rate policy with max lr of 0.001...\n",
            "Epoch 1/10\n",
            "3034/4488 [===================>..........] - ETA: 15s - loss: 0.0584 - accuracy: 0.9941"
          ]
        }
      ]
    },
    {
      "cell_type": "code",
      "source": [
        "predictor  = ktrain.get_predictor(learner.model, preproc)"
      ],
      "metadata": {
        "id": "q8m-hCIO46fF"
      },
      "execution_count": 10,
      "outputs": []
    },
    {
      "cell_type": "code",
      "source": [
        "predictor.predict(['I will make your entire family cry'])"
      ],
      "metadata": {
        "colab": {
          "base_uri": "https://localhost:8080/"
        },
        "id": "n21crdLY1Sms",
        "outputId": "16ddb74f-de4f-4956-dd44-189da0ef67c3"
      },
      "execution_count": 13,
      "outputs": [
        {
          "output_type": "execute_result",
          "data": {
            "text/plain": [
              "[[('toxic', 0.26357433),\n",
              "  ('severe_toxic', 0.0013144354),\n",
              "  ('obscene', 0.04567338),\n",
              "  ('threat', 0.0106521435),\n",
              "  ('insult', 0.06905146),\n",
              "  ('identity_hate', 0.0134433415)]]"
            ]
          },
          "metadata": {},
          "execution_count": 13
        }
      ]
    },
    {
      "cell_type": "code",
      "source": [
        ""
      ],
      "metadata": {
        "id": "o64PhHw543Le"
      },
      "execution_count": null,
      "outputs": []
    }
  ]
}